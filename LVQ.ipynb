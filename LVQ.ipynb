{
  "nbformat": 4,
  "nbformat_minor": 0,
  "metadata": {
    "colab": {
      "name": "LVQ.ipynb",
      "provenance": [],
      "collapsed_sections": [],
      "authorship_tag": "ABX9TyMqEjm+gQ+g6W9snZJUMPCp",
      "include_colab_link": true
    },
    "kernelspec": {
      "name": "python3",
      "display_name": "Python 3"
    },
    "language_info": {
      "name": "python"
    }
  },
  "cells": [
    {
      "cell_type": "markdown",
      "metadata": {
        "id": "view-in-github",
        "colab_type": "text"
      },
      "source": [
        "<a href=\"https://colab.research.google.com/github/jansoe/introNLP/blob/main/LVQ.ipynb\" target=\"_parent\"><img src=\"https://colab.research.google.com/assets/colab-badge.svg\" alt=\"Open In Colab\"/></a>"
      ]
    },
    {
      "cell_type": "markdown",
      "source": [
        "# Einführung LVQ\n"
      ],
      "metadata": {
        "id": "Xdweiht0Nunj"
      }
    },
    {
      "cell_type": "code",
      "execution_count": 1,
      "metadata": {
        "id": "oVqT81NwALZp"
      },
      "outputs": [],
      "source": [
        "import sklearn.datasets\n",
        "import numpy as np\n",
        "import pandas as pd\n",
        "\n",
        "import plotly.express as px\n",
        "import plotly.graph_objects as go\n",
        "\n",
        "from google.colab import data_table\n",
        "data_table.enable_dataframe_formatter()"
      ]
    },
    {
      "cell_type": "markdown",
      "source": [
        "## Erstellung eines Beispieldatensatz"
      ],
      "metadata": {
        "id": "_MP_jfo62Z68"
      }
    },
    {
      "cell_type": "code",
      "source": [
        "#@title Definiton der Beispiel\n",
        "\n",
        "example_1 = { \n",
        "    'cluster_std': ((4, 2),(1, 1),(2, 2)),\n",
        "    'centers': [(-6,-6), (0,0), (6,6)],\n",
        "    'random_state': 3\n",
        "}\n",
        "\n",
        "example_2 = { \n",
        "    'cluster_std': ((1.5, 1),(1, 4),(1, 2)),\n",
        "    'centers': [(-2, -4), (2, 0), (-2, 4)],\n",
        "    'random_state': 3\n",
        "}\n",
        "\n",
        "example_3 = { \n",
        "    'cluster_std': ((1, 5),(1, 5),(1, 5)),\n",
        "    'centers': [(-4,-2), (0,2), (4, 0)],\n",
        "    'random_state': 3\n",
        "}"
      ],
      "metadata": {
        "id": "JlGgHDgesMZF",
        "cellView": "form"
      },
      "execution_count": 2,
      "outputs": []
    },
    {
      "cell_type": "code",
      "source": [
        "feature_data, category = sklearn.datasets.make_blobs(n_samples = 200, **example_1)\n",
        "features = ['feature1', 'feature2']\n",
        "\n",
        "data = pd.DataFrame(feature_data, columns=features)\n",
        "data['target'] = category\n",
        "data['category'] = data.target.map(lambda x: 'cat_{x}'.format(x=x))\n",
        "data.head()"
      ],
      "metadata": {
        "id": "_n-1BzxTNaYx",
        "colab": {
          "base_uri": "https://localhost:8080/",
          "height": 198
        },
        "outputId": "81c5d2e7-a209-42fa-dbc9-af658c657ef1"
      },
      "execution_count": 3,
      "outputs": [
        {
          "output_type": "execute_result",
          "data": {
            "text/plain": [
              "    feature1  feature2  target category\n",
              "0   1.729417  0.694052       1    cat_1\n",
              "1   6.565321  5.905686       2    cat_2\n",
              "2   5.048201  6.593689       2    cat_2\n",
              "3 -14.993031 -6.535524       0    cat_0\n",
              "4  -0.261240 -1.298047       1    cat_1"
            ],
            "text/html": [
              "\n",
              "  <div id=\"df-ad53223a-a4ff-4a38-a720-846a772b7457\">\n",
              "    <div class=\"colab-df-container\">\n",
              "      <div>\n",
              "<style scoped>\n",
              "    .dataframe tbody tr th:only-of-type {\n",
              "        vertical-align: middle;\n",
              "    }\n",
              "\n",
              "    .dataframe tbody tr th {\n",
              "        vertical-align: top;\n",
              "    }\n",
              "\n",
              "    .dataframe thead th {\n",
              "        text-align: right;\n",
              "    }\n",
              "</style>\n",
              "<table border=\"1\" class=\"dataframe\">\n",
              "  <thead>\n",
              "    <tr style=\"text-align: right;\">\n",
              "      <th></th>\n",
              "      <th>feature1</th>\n",
              "      <th>feature2</th>\n",
              "      <th>target</th>\n",
              "      <th>category</th>\n",
              "    </tr>\n",
              "  </thead>\n",
              "  <tbody>\n",
              "    <tr>\n",
              "      <th>0</th>\n",
              "      <td>1.729417</td>\n",
              "      <td>0.694052</td>\n",
              "      <td>1</td>\n",
              "      <td>cat_1</td>\n",
              "    </tr>\n",
              "    <tr>\n",
              "      <th>1</th>\n",
              "      <td>6.565321</td>\n",
              "      <td>5.905686</td>\n",
              "      <td>2</td>\n",
              "      <td>cat_2</td>\n",
              "    </tr>\n",
              "    <tr>\n",
              "      <th>2</th>\n",
              "      <td>5.048201</td>\n",
              "      <td>6.593689</td>\n",
              "      <td>2</td>\n",
              "      <td>cat_2</td>\n",
              "    </tr>\n",
              "    <tr>\n",
              "      <th>3</th>\n",
              "      <td>-14.993031</td>\n",
              "      <td>-6.535524</td>\n",
              "      <td>0</td>\n",
              "      <td>cat_0</td>\n",
              "    </tr>\n",
              "    <tr>\n",
              "      <th>4</th>\n",
              "      <td>-0.261240</td>\n",
              "      <td>-1.298047</td>\n",
              "      <td>1</td>\n",
              "      <td>cat_1</td>\n",
              "    </tr>\n",
              "  </tbody>\n",
              "</table>\n",
              "</div>\n",
              "      <button class=\"colab-df-convert\" onclick=\"convertToInteractive('df-ad53223a-a4ff-4a38-a720-846a772b7457')\"\n",
              "              title=\"Convert this dataframe to an interactive table.\"\n",
              "              style=\"display:none;\">\n",
              "        \n",
              "  <svg xmlns=\"http://www.w3.org/2000/svg\" height=\"24px\"viewBox=\"0 0 24 24\"\n",
              "       width=\"24px\">\n",
              "    <path d=\"M0 0h24v24H0V0z\" fill=\"none\"/>\n",
              "    <path d=\"M18.56 5.44l.94 2.06.94-2.06 2.06-.94-2.06-.94-.94-2.06-.94 2.06-2.06.94zm-11 1L8.5 8.5l.94-2.06 2.06-.94-2.06-.94L8.5 2.5l-.94 2.06-2.06.94zm10 10l.94 2.06.94-2.06 2.06-.94-2.06-.94-.94-2.06-.94 2.06-2.06.94z\"/><path d=\"M17.41 7.96l-1.37-1.37c-.4-.4-.92-.59-1.43-.59-.52 0-1.04.2-1.43.59L10.3 9.45l-7.72 7.72c-.78.78-.78 2.05 0 2.83L4 21.41c.39.39.9.59 1.41.59.51 0 1.02-.2 1.41-.59l7.78-7.78 2.81-2.81c.8-.78.8-2.07 0-2.86zM5.41 20L4 18.59l7.72-7.72 1.47 1.35L5.41 20z\"/>\n",
              "  </svg>\n",
              "      </button>\n",
              "      \n",
              "  <style>\n",
              "    .colab-df-container {\n",
              "      display:flex;\n",
              "      flex-wrap:wrap;\n",
              "      gap: 12px;\n",
              "    }\n",
              "\n",
              "    .colab-df-convert {\n",
              "      background-color: #E8F0FE;\n",
              "      border: none;\n",
              "      border-radius: 50%;\n",
              "      cursor: pointer;\n",
              "      display: none;\n",
              "      fill: #1967D2;\n",
              "      height: 32px;\n",
              "      padding: 0 0 0 0;\n",
              "      width: 32px;\n",
              "    }\n",
              "\n",
              "    .colab-df-convert:hover {\n",
              "      background-color: #E2EBFA;\n",
              "      box-shadow: 0px 1px 2px rgba(60, 64, 67, 0.3), 0px 1px 3px 1px rgba(60, 64, 67, 0.15);\n",
              "      fill: #174EA6;\n",
              "    }\n",
              "\n",
              "    [theme=dark] .colab-df-convert {\n",
              "      background-color: #3B4455;\n",
              "      fill: #D2E3FC;\n",
              "    }\n",
              "\n",
              "    [theme=dark] .colab-df-convert:hover {\n",
              "      background-color: #434B5C;\n",
              "      box-shadow: 0px 1px 3px 1px rgba(0, 0, 0, 0.15);\n",
              "      filter: drop-shadow(0px 1px 2px rgba(0, 0, 0, 0.3));\n",
              "      fill: #FFFFFF;\n",
              "    }\n",
              "  </style>\n",
              "\n",
              "      <script>\n",
              "        const buttonEl =\n",
              "          document.querySelector('#df-ad53223a-a4ff-4a38-a720-846a772b7457 button.colab-df-convert');\n",
              "        buttonEl.style.display =\n",
              "          google.colab.kernel.accessAllowed ? 'block' : 'none';\n",
              "\n",
              "        async function convertToInteractive(key) {\n",
              "          const element = document.querySelector('#df-ad53223a-a4ff-4a38-a720-846a772b7457');\n",
              "          const dataTable =\n",
              "            await google.colab.kernel.invokeFunction('convertToInteractive',\n",
              "                                                     [key], {});\n",
              "          if (!dataTable) return;\n",
              "\n",
              "          const docLinkHtml = 'Like what you see? Visit the ' +\n",
              "            '<a target=\"_blank\" href=https://colab.research.google.com/notebooks/data_table.ipynb>data table notebook</a>'\n",
              "            + ' to learn more about interactive tables.';\n",
              "          element.innerHTML = '';\n",
              "          dataTable['output_type'] = 'display_data';\n",
              "          await google.colab.output.renderOutput(dataTable, element);\n",
              "          const docLink = document.createElement('div');\n",
              "          docLink.innerHTML = docLinkHtml;\n",
              "          element.appendChild(docLink);\n",
              "        }\n",
              "      </script>\n",
              "    </div>\n",
              "  </div>\n",
              "  "
            ],
            "application/vnd.google.colaboratory.module+javascript": "\n      import \"https://ssl.gstatic.com/colaboratory/data_table/f872b2c2305463fd/data_table.js\";\n\n      window.createDataTable({\n        data: [[{\n            'v': 0,\n            'f': \"0\",\n        },\n{\n            'v': 1.729417429210297,\n            'f': \"1.729417429210297\",\n        },\n{\n            'v': 0.6940522720694241,\n            'f': \"0.6940522720694241\",\n        },\n{\n            'v': 1,\n            'f': \"1\",\n        },\n\"cat_1\"],\n [{\n            'v': 1,\n            'f': \"1\",\n        },\n{\n            'v': 6.5653206147530865,\n            'f': \"6.5653206147530865\",\n        },\n{\n            'v': 5.905686186693696,\n            'f': \"5.905686186693696\",\n        },\n{\n            'v': 2,\n            'f': \"2\",\n        },\n\"cat_2\"],\n [{\n            'v': 2,\n            'f': \"2\",\n        },\n{\n            'v': 5.048201226180942,\n            'f': \"5.048201226180942\",\n        },\n{\n            'v': 6.593689061540348,\n            'f': \"6.593689061540348\",\n        },\n{\n            'v': 2,\n            'f': \"2\",\n        },\n\"cat_2\"],\n [{\n            'v': 3,\n            'f': \"3\",\n        },\n{\n            'v': -14.993031070306424,\n            'f': \"-14.993031070306424\",\n        },\n{\n            'v': -6.5355237296921125,\n            'f': \"-6.5355237296921125\",\n        },\n{\n            'v': 0,\n            'f': \"0\",\n        },\n\"cat_0\"],\n [{\n            'v': 4,\n            'f': \"4\",\n        },\n{\n            'v': -0.26124048467201855,\n            'f': \"-0.26124048467201855\",\n        },\n{\n            'v': -1.2980466376694824,\n            'f': \"-1.2980466376694824\",\n        },\n{\n            'v': 1,\n            'f': \"1\",\n        },\n\"cat_1\"]],\n        columns: [[\"number\", \"index\"], [\"number\", \"feature1\"], [\"number\", \"feature2\"], [\"number\", \"target\"], [\"string\", \"category\"]],\n        columnOptions: [{\"width\": \"1px\", \"className\": \"index_column\"}],\n        rowsPerPage: 25,\n        helpUrl: \"https://colab.research.google.com/notebooks/data_table.ipynb\",\n        suppressOutputScrolling: true,\n        minimumWidth: undefined,\n      });\n    "
          },
          "metadata": {},
          "execution_count": 3
        }
      ]
    },
    {
      "cell_type": "markdown",
      "source": [
        "#### Unterteilen der Daten in Trainings- und Validierungsdaten\n",
        "* mit den Trainingsdaten lassen wir den Algorithmus lernen\n",
        "* mit den Validierungsdaten können wir testen wie gut er auf neue Daten generalisiert"
      ],
      "metadata": {
        "id": "klCsdO1C2oy7"
      }
    },
    {
      "cell_type": "code",
      "source": [
        "from sklearn.model_selection import train_test_split\n",
        "\n",
        "train_data, validation_data = train_test_split(data, test_size=0.5, random_state=5)"
      ],
      "metadata": {
        "id": "hhmzXldBAMEL"
      },
      "execution_count": 4,
      "outputs": []
    },
    {
      "cell_type": "markdown",
      "source": [
        "Hinzufügen von \"label noise\", also einem falschen Trainingsdatenpunkt"
      ],
      "metadata": {
        "id": "lvO--Qbg3hOd"
      }
    },
    {
      "cell_type": "code",
      "source": [
        "add_mislabelled = False\n",
        "if add_mislabelled:\n",
        "    train_data.iloc[0] = [-0.4,-1.5, 0, 'cat_0']"
      ],
      "metadata": {
        "id": "pYMbyK7MUp6f"
      },
      "execution_count": 5,
      "outputs": []
    },
    {
      "cell_type": "code",
      "source": [
        "#@title Visualisierung\n",
        "\n",
        "fig_data = px.scatter(\n",
        "    train_data.sort_values('category'), \n",
        "    x='feature1', y='feature2', color='category', \n",
        "    width=600, height=500)\n",
        "\n",
        "fig_data_full = go.Figure(fig_data).add_trace(\n",
        "    go.Scatter(\n",
        "        x = validation_data['feature1'], \n",
        "        y = validation_data['feature2'],\n",
        "        mode = 'markers',\n",
        "        name = 'test',\n",
        "        marker = {'color': validation_data.target, 'colorscale': ['blue', 'red', 'green'], 'opacity': 0.1}\n",
        "    )\n",
        ")\n",
        "fig_data_full"
      ],
      "metadata": {
        "colab": {
          "base_uri": "https://localhost:8080/",
          "height": 517
        },
        "id": "19NXkGFcBw5W",
        "outputId": "f3ea5451-85f1-4cd7-c848-3d1ff94ec90b",
        "cellView": "form"
      },
      "execution_count": 6,
      "outputs": [
        {
          "output_type": "display_data",
          "data": {
            "text/html": [
              "<html>\n",
              "<head><meta charset=\"utf-8\" /></head>\n",
              "<body>\n",
              "    <div>            <script src=\"https://cdnjs.cloudflare.com/ajax/libs/mathjax/2.7.5/MathJax.js?config=TeX-AMS-MML_SVG\"></script><script type=\"text/javascript\">if (window.MathJax) {MathJax.Hub.Config({SVG: {font: \"STIX-Web\"}});}</script>                <script type=\"text/javascript\">window.PlotlyConfig = {MathJaxConfig: 'local'};</script>\n",
              "        <script src=\"https://cdn.plot.ly/plotly-2.8.3.min.js\"></script>                <div id=\"0b331916-18a0-448d-b6f7-b2c0d1f72912\" class=\"plotly-graph-div\" style=\"height:500px; width:600px;\"></div>            <script type=\"text/javascript\">                                    window.PLOTLYENV=window.PLOTLYENV || {};                                    if (document.getElementById(\"0b331916-18a0-448d-b6f7-b2c0d1f72912\")) {                    Plotly.newPlot(                        \"0b331916-18a0-448d-b6f7-b2c0d1f72912\",                        [{\"hovertemplate\":\"category=cat_0<br>feature1=%{x}<br>feature2=%{y}<extra></extra>\",\"legendgroup\":\"cat_0\",\"marker\":{\"color\":\"#636efa\",\"symbol\":\"circle\"},\"mode\":\"markers\",\"name\":\"cat_0\",\"orientation\":\"v\",\"showlegend\":true,\"x\":[-7.109552810057596,-8.593643553225927,-8.0665916991926,-2.4747278311698806,-9.839984720908866,-9.01333917438989,-1.8074099510149795,-2.740741834994699,-8.364314953943502,-6.61802740759715,-1.5672500002600298,-12.493141783340988,-11.255459013450729,-7.200824298078203,-6.330965925929839,-0.0498274720298415,-6.672360394487658,-8.759842709255462,-10.099723498432347,-7.6647920605205915,-7.42508303778698,-1.5040881641701267,-8.181439790478121,-2.0705302629673596,-8.29883368197082,-8.712850717364606,-8.411540416028874,-2.593924198061167,-5.388217188950073,-10.740186108080692,-11.5830540105627,1.1545138937212744,-8.698910041246855,-5.614010127711966,-5.419747143585888,-4.064846609597879,-3.4197520600643636,-17.662951007170847,-3.427346877617126],\"xaxis\":\"x\",\"y\":[-6.709517958537973,-7.474929674917517,-6.378143332871425,-2.580853872694103,-5.245409531773599,-9.488220501282187,-3.3325243611150266,-7.039983508195127,-7.032834735576948,-2.4607453934125143,-3.761218689362217,-4.706649095459656,-4.230755239000831,-1.6837013158861627,-7.254001353647695,-8.23660136880073,-2.181446381466868,-5.02717104946277,-4.2013231083183715,-4.550684683521101,-9.486282073906917,-6.263828465601802,-9.092954631165936,-8.202135260222951,-6.218908667761217,-5.14712985111985,-9.828944086811628,-5.027501347783377,-8.12839054787305,-6.411299798845082,-3.216674184510385,-5.126980298976021,-5.698766269269956,-9.726985406728982,-3.6642354273967164,-4.647567200273876,-5.373879251951787,-7.943681005145219,-5.501826586548332],\"yaxis\":\"y\",\"type\":\"scatter\"},{\"hovertemplate\":\"category=cat_1<br>feature1=%{x}<br>feature2=%{y}<extra></extra>\",\"legendgroup\":\"cat_1\",\"marker\":{\"color\":\"#EF553B\",\"symbol\":\"circle\"},\"mode\":\"markers\",\"name\":\"cat_1\",\"orientation\":\"v\",\"showlegend\":true,\"x\":[1.729417429210297,0.5935881147911207,0.4457809586531427,0.561951672422086,-0.7160257975174191,-1.0705854991525032,-0.587220312328312,-0.34903539298253017,-0.23733747553109175,0.3882504142848946,-0.05394784919048745,1.0697983584569932,-0.7959146932233903,-2.030393553778298,-0.018627715556959044,-1.2209019198961333,-1.2356366241061225,0.12800782111610085,-0.511128992552914,0.1334970410228064,-0.43089005538560166,-0.7254334803985123,1.094653079198753,0.6478297974098579,0.5587132048474234],\"xaxis\":\"x\",\"y\":[0.6940522720694241,2.0708785257760858,-0.782709043447464,-0.29382123783761,0.7314657358201054,0.37086997203026,1.9108268513563658,0.2528250912215497,0.885339675170791,-0.3871271811779628,1.3151672242748802,0.1665195100182666,0.07274552915143462,-0.9607751102139338,0.48352878740830696,0.059615433090329545,-0.1407864421846237,1.2416165181585397,-0.12284340561303929,-1.2892611938117313,-0.540270263790554,-0.0349433855520906,0.6396923552031146,-0.5603734188841619,-0.4783646604432103],\"yaxis\":\"y\",\"type\":\"scatter\"},{\"hovertemplate\":\"category=cat_2<br>feature1=%{x}<br>feature2=%{y}<extra></extra>\",\"legendgroup\":\"cat_2\",\"marker\":{\"color\":\"#00cc96\",\"symbol\":\"circle\"},\"mode\":\"markers\",\"name\":\"cat_2\",\"orientation\":\"v\",\"showlegend\":true,\"x\":[6.276029310016074,6.182069023154669,0.6469572699189694,6.836762045237343,6.480913560829175,10.092665552729521,4.2596816199246845,9.678303774374637,5.9874024420853305,6.5663718435609795,8.840684610318593,6.575314457421722,5.686962371543834,10.039301284190708,6.149455587899874,5.340843694311273,9.006523905410972,7.0335951082066375,8.130840363165332,6.181433546057293,4.747170993028246,7.809056973517464,7.707926743312776,5.916311543638355,6.16992811564178,3.42754134474525,3.7744376991223416,4.775231164631773,4.858935409794105,5.048201226180942,4.769782871170975,4.008411511084965,3.9405809493734463,5.53619089360479,2.109855475652514,8.983044692655723],\"xaxis\":\"x\",\"y\":[7.879005708390844,7.570864494154181,5.139798785845975,4.215187330673151,6.906075573549749,7.333975699183396,5.520735853069058,10.631717194500904,9.001780713802063,5.871279656221559,5.360819718134216,2.4103859293553556,1.455511770758287,6.652524545897313,4.743498386391799,7.794299494372734,7.81663743268094,5.134847247700244,4.2552486773411395,1.5651647779266966,5.0159122137151435,2.2686976550303237,9.173733086132563,5.454528927727748,8.195558975081262,3.712556347325746,2.721407505366034,8.79993099204373,1.94185574852383,6.593689061540348,3.87568775314434,6.687589036996599,3.939582764586884,5.070662557702199,3.680554098019784,3.203767978324612],\"yaxis\":\"y\",\"type\":\"scatter\"},{\"marker\":{\"color\":[1,2,1,0,1,2,0,2,0,1,2,2,1,2,0,0,0,0,0,2,2,0,2,1,1,1,0,0,0,1,1,2,2,1,2,0,1,1,1,1,2,2,0,1,0,2,0,0,1,1,2,2,0,2,1,0,1,0,1,1,0,1,2,1,2,1,1,1,0,1,2,2,0,2,0,1,2,0,1,1,0,2,1,2,1,2,1,1,1,1,1,2,2,0,1,1,0,1,1,2],\"colorscale\":[[0.0,\"blue\"],[0.5,\"red\"],[1.0,\"green\"]],\"opacity\":0.1},\"mode\":\"markers\",\"name\":\"test\",\"x\":[1.089409548186299,9.793801911607272,-0.2746001203219027,-6.309763842239757,0.3931252812580667,7.233155766631372,-5.7998654312925595,4.300785280573978,-9.336959402687139,-1.0203592788039855,4.685485029834378,4.288934558033469,1.103921664604996,8.231890369163647,-2.616666371771272,-10.095140559705872,-14.993031070306424,-3.4990201353486827,-1.066115822187375,7.722715227767548,6.244499490730115,-9.495529191049197,6.575367447436892,-0.459846150218099,2.711926334530005,0.350815840962548,-3.0197749343785167,-9.07534540127692,-2.502857109557919,-0.32158469309218346,0.42596674984978417,5.583433163834498,6.4628015220429695,-0.14062002701591825,2.2263261492783903,-0.0554065797016392,0.8358439021819729,-1.419871306328183,1.0389521173544556,-0.8623084869368738,8.595755227716916,6.638392351751207,-8.122328577420419,-0.9064947005743282,-6.318963752742286,6.5653206147530865,-6.175272675903713,-6.789658716632999,0.7689651576916865,-1.4866580709207609,6.725606972434271,6.575115300732712,-5.096998935016719,6.2546170484791155,-0.5885016196794289,-9.215064378306305,0.0024441619892351415,-6.09641788028492,1.0672155507363046,-0.16769860276646403,-4.248213554879672,-2.6851086777996254,5.261644509633205,-0.9120909131338855,3.3510226054102765,-0.6387908963776368,1.9884896798105511,-0.6497174207470244,-3.283713600697972,-0.1982902566629641,5.901152229489322,5.942428708775683,-11.482676050208067,7.873265146020417,-1.9472662324540222,-0.12776205788585943,3.721806402377104,-9.695168086783154,1.7194765552886366,2.8118783750058736,-8.386598566736797,7.390967966171125,-0.09523759870062422,9.238476969193966,-0.26124048467201855,6.158184385422118,0.2995023312069633,-0.12936100975105408,-0.45726078713830676,2.676112467653689,-0.5252646451556335,6.991160790353781,6.510161389565562,-10.976493315823749,-0.5713489619287757,-0.47552485781324766,-3.543691648983625,0.8628320949627665,1.147264793112611,4.003266242760426],\"y\":[0.02392202180891483,3.58839441838297,0.4350092581717443,-5.447863005514313,-0.24138479980935626,4.324737106475721,-6.809354829201782,3.012900664421923,-3.310015086755524,0.2705934249706648,9.23886161328141,5.9205403228098215,1.8817549911074853,5.939393265597771,-9.721779057884227,-7.425986400224099,-6.5355237296921125,-6.321026726373848,-5.702027210638018,7.838016262090491,3.6852332486715196,-5.940572369277967,9.932949255830673,1.9907378123222452,0.6274738890733788,1.626573604958715,-2.047778433747395,-6.460061444555878,-8.587073263843568,0.15113037165299167,-0.14901377221550174,5.970053628364753,8.385610331109744,0.9970883670936515,6.193187468752864,-5.526567465546175,0.4921189029137968,0.7657210720237916,0.631744177429087,1.071683929782794,2.9695686831444084,0.032059590236072744,-7.46105328738666,0.08841520620200595,-4.871028963410806,5.905686186693696,-6.954436060719005,-2.4507099371881305,1.3662428435589185,1.40862695884896,3.681927069957587,8.528171500755324,-5.425929670610351,6.470054025728846,-1.5465558228110778,-10.83816634635734,0.4246357208598569,-7.777314835705898,0.641420655594048,1.7226691978466993,-2.1220430791990115,0.018420794714651353,6.761195169160604,-0.15605840282949943,1.436415370078925,-0.6544152115856667,1.1950583359712759,1.6313829539585936,-7.710874337319763,2.457587626290851,6.746779888002722,3.0521143463635223,-5.522873615188198,3.0152057979587403,-4.294404318091701,0.2481680271468232,3.355940530546049,-8.047751521685676,-2.359214738012778,0.25199512668322666,-7.177188759376486,6.16091477649446,-0.52718777933396,7.026186016805014,-1.2980466376694824,4.070473065381082,-0.43999131122796514,-1.6224611704696181,0.8592840082646755,-0.07121902716056103,-1.6756346341845954,4.858874351990256,5.537005180746588,-7.252833822376738,0.2657870467480051,-0.16577702313143794,-7.675824545404588,-0.6484320227760582,-0.1102291554019236,6.508775148604227],\"type\":\"scatter\"}],                        {\"height\":500,\"legend\":{\"title\":{\"text\":\"category\"},\"tracegroupgap\":0},\"margin\":{\"t\":60},\"template\":{\"data\":{\"barpolar\":[{\"marker\":{\"line\":{\"color\":\"#E5ECF6\",\"width\":0.5},\"pattern\":{\"fillmode\":\"overlay\",\"size\":10,\"solidity\":0.2}},\"type\":\"barpolar\"}],\"bar\":[{\"error_x\":{\"color\":\"#2a3f5f\"},\"error_y\":{\"color\":\"#2a3f5f\"},\"marker\":{\"line\":{\"color\":\"#E5ECF6\",\"width\":0.5},\"pattern\":{\"fillmode\":\"overlay\",\"size\":10,\"solidity\":0.2}},\"type\":\"bar\"}],\"carpet\":[{\"aaxis\":{\"endlinecolor\":\"#2a3f5f\",\"gridcolor\":\"white\",\"linecolor\":\"white\",\"minorgridcolor\":\"white\",\"startlinecolor\":\"#2a3f5f\"},\"baxis\":{\"endlinecolor\":\"#2a3f5f\",\"gridcolor\":\"white\",\"linecolor\":\"white\",\"minorgridcolor\":\"white\",\"startlinecolor\":\"#2a3f5f\"},\"type\":\"carpet\"}],\"choropleth\":[{\"colorbar\":{\"outlinewidth\":0,\"ticks\":\"\"},\"type\":\"choropleth\"}],\"contourcarpet\":[{\"colorbar\":{\"outlinewidth\":0,\"ticks\":\"\"},\"type\":\"contourcarpet\"}],\"contour\":[{\"colorbar\":{\"outlinewidth\":0,\"ticks\":\"\"},\"colorscale\":[[0.0,\"#0d0887\"],[0.1111111111111111,\"#46039f\"],[0.2222222222222222,\"#7201a8\"],[0.3333333333333333,\"#9c179e\"],[0.4444444444444444,\"#bd3786\"],[0.5555555555555556,\"#d8576b\"],[0.6666666666666666,\"#ed7953\"],[0.7777777777777778,\"#fb9f3a\"],[0.8888888888888888,\"#fdca26\"],[1.0,\"#f0f921\"]],\"type\":\"contour\"}],\"heatmapgl\":[{\"colorbar\":{\"outlinewidth\":0,\"ticks\":\"\"},\"colorscale\":[[0.0,\"#0d0887\"],[0.1111111111111111,\"#46039f\"],[0.2222222222222222,\"#7201a8\"],[0.3333333333333333,\"#9c179e\"],[0.4444444444444444,\"#bd3786\"],[0.5555555555555556,\"#d8576b\"],[0.6666666666666666,\"#ed7953\"],[0.7777777777777778,\"#fb9f3a\"],[0.8888888888888888,\"#fdca26\"],[1.0,\"#f0f921\"]],\"type\":\"heatmapgl\"}],\"heatmap\":[{\"colorbar\":{\"outlinewidth\":0,\"ticks\":\"\"},\"colorscale\":[[0.0,\"#0d0887\"],[0.1111111111111111,\"#46039f\"],[0.2222222222222222,\"#7201a8\"],[0.3333333333333333,\"#9c179e\"],[0.4444444444444444,\"#bd3786\"],[0.5555555555555556,\"#d8576b\"],[0.6666666666666666,\"#ed7953\"],[0.7777777777777778,\"#fb9f3a\"],[0.8888888888888888,\"#fdca26\"],[1.0,\"#f0f921\"]],\"type\":\"heatmap\"}],\"histogram2dcontour\":[{\"colorbar\":{\"outlinewidth\":0,\"ticks\":\"\"},\"colorscale\":[[0.0,\"#0d0887\"],[0.1111111111111111,\"#46039f\"],[0.2222222222222222,\"#7201a8\"],[0.3333333333333333,\"#9c179e\"],[0.4444444444444444,\"#bd3786\"],[0.5555555555555556,\"#d8576b\"],[0.6666666666666666,\"#ed7953\"],[0.7777777777777778,\"#fb9f3a\"],[0.8888888888888888,\"#fdca26\"],[1.0,\"#f0f921\"]],\"type\":\"histogram2dcontour\"}],\"histogram2d\":[{\"colorbar\":{\"outlinewidth\":0,\"ticks\":\"\"},\"colorscale\":[[0.0,\"#0d0887\"],[0.1111111111111111,\"#46039f\"],[0.2222222222222222,\"#7201a8\"],[0.3333333333333333,\"#9c179e\"],[0.4444444444444444,\"#bd3786\"],[0.5555555555555556,\"#d8576b\"],[0.6666666666666666,\"#ed7953\"],[0.7777777777777778,\"#fb9f3a\"],[0.8888888888888888,\"#fdca26\"],[1.0,\"#f0f921\"]],\"type\":\"histogram2d\"}],\"histogram\":[{\"marker\":{\"pattern\":{\"fillmode\":\"overlay\",\"size\":10,\"solidity\":0.2}},\"type\":\"histogram\"}],\"mesh3d\":[{\"colorbar\":{\"outlinewidth\":0,\"ticks\":\"\"},\"type\":\"mesh3d\"}],\"parcoords\":[{\"line\":{\"colorbar\":{\"outlinewidth\":0,\"ticks\":\"\"}},\"type\":\"parcoords\"}],\"pie\":[{\"automargin\":true,\"type\":\"pie\"}],\"scatter3d\":[{\"line\":{\"colorbar\":{\"outlinewidth\":0,\"ticks\":\"\"}},\"marker\":{\"colorbar\":{\"outlinewidth\":0,\"ticks\":\"\"}},\"type\":\"scatter3d\"}],\"scattercarpet\":[{\"marker\":{\"colorbar\":{\"outlinewidth\":0,\"ticks\":\"\"}},\"type\":\"scattercarpet\"}],\"scattergeo\":[{\"marker\":{\"colorbar\":{\"outlinewidth\":0,\"ticks\":\"\"}},\"type\":\"scattergeo\"}],\"scattergl\":[{\"marker\":{\"colorbar\":{\"outlinewidth\":0,\"ticks\":\"\"}},\"type\":\"scattergl\"}],\"scattermapbox\":[{\"marker\":{\"colorbar\":{\"outlinewidth\":0,\"ticks\":\"\"}},\"type\":\"scattermapbox\"}],\"scatterpolargl\":[{\"marker\":{\"colorbar\":{\"outlinewidth\":0,\"ticks\":\"\"}},\"type\":\"scatterpolargl\"}],\"scatterpolar\":[{\"marker\":{\"colorbar\":{\"outlinewidth\":0,\"ticks\":\"\"}},\"type\":\"scatterpolar\"}],\"scatter\":[{\"marker\":{\"colorbar\":{\"outlinewidth\":0,\"ticks\":\"\"}},\"type\":\"scatter\"}],\"scatterternary\":[{\"marker\":{\"colorbar\":{\"outlinewidth\":0,\"ticks\":\"\"}},\"type\":\"scatterternary\"}],\"surface\":[{\"colorbar\":{\"outlinewidth\":0,\"ticks\":\"\"},\"colorscale\":[[0.0,\"#0d0887\"],[0.1111111111111111,\"#46039f\"],[0.2222222222222222,\"#7201a8\"],[0.3333333333333333,\"#9c179e\"],[0.4444444444444444,\"#bd3786\"],[0.5555555555555556,\"#d8576b\"],[0.6666666666666666,\"#ed7953\"],[0.7777777777777778,\"#fb9f3a\"],[0.8888888888888888,\"#fdca26\"],[1.0,\"#f0f921\"]],\"type\":\"surface\"}],\"table\":[{\"cells\":{\"fill\":{\"color\":\"#EBF0F8\"},\"line\":{\"color\":\"white\"}},\"header\":{\"fill\":{\"color\":\"#C8D4E3\"},\"line\":{\"color\":\"white\"}},\"type\":\"table\"}]},\"layout\":{\"annotationdefaults\":{\"arrowcolor\":\"#2a3f5f\",\"arrowhead\":0,\"arrowwidth\":1},\"autotypenumbers\":\"strict\",\"coloraxis\":{\"colorbar\":{\"outlinewidth\":0,\"ticks\":\"\"}},\"colorscale\":{\"diverging\":[[0,\"#8e0152\"],[0.1,\"#c51b7d\"],[0.2,\"#de77ae\"],[0.3,\"#f1b6da\"],[0.4,\"#fde0ef\"],[0.5,\"#f7f7f7\"],[0.6,\"#e6f5d0\"],[0.7,\"#b8e186\"],[0.8,\"#7fbc41\"],[0.9,\"#4d9221\"],[1,\"#276419\"]],\"sequential\":[[0.0,\"#0d0887\"],[0.1111111111111111,\"#46039f\"],[0.2222222222222222,\"#7201a8\"],[0.3333333333333333,\"#9c179e\"],[0.4444444444444444,\"#bd3786\"],[0.5555555555555556,\"#d8576b\"],[0.6666666666666666,\"#ed7953\"],[0.7777777777777778,\"#fb9f3a\"],[0.8888888888888888,\"#fdca26\"],[1.0,\"#f0f921\"]],\"sequentialminus\":[[0.0,\"#0d0887\"],[0.1111111111111111,\"#46039f\"],[0.2222222222222222,\"#7201a8\"],[0.3333333333333333,\"#9c179e\"],[0.4444444444444444,\"#bd3786\"],[0.5555555555555556,\"#d8576b\"],[0.6666666666666666,\"#ed7953\"],[0.7777777777777778,\"#fb9f3a\"],[0.8888888888888888,\"#fdca26\"],[1.0,\"#f0f921\"]]},\"colorway\":[\"#636efa\",\"#EF553B\",\"#00cc96\",\"#ab63fa\",\"#FFA15A\",\"#19d3f3\",\"#FF6692\",\"#B6E880\",\"#FF97FF\",\"#FECB52\"],\"font\":{\"color\":\"#2a3f5f\"},\"geo\":{\"bgcolor\":\"white\",\"lakecolor\":\"white\",\"landcolor\":\"#E5ECF6\",\"showlakes\":true,\"showland\":true,\"subunitcolor\":\"white\"},\"hoverlabel\":{\"align\":\"left\"},\"hovermode\":\"closest\",\"mapbox\":{\"style\":\"light\"},\"paper_bgcolor\":\"white\",\"plot_bgcolor\":\"#E5ECF6\",\"polar\":{\"angularaxis\":{\"gridcolor\":\"white\",\"linecolor\":\"white\",\"ticks\":\"\"},\"bgcolor\":\"#E5ECF6\",\"radialaxis\":{\"gridcolor\":\"white\",\"linecolor\":\"white\",\"ticks\":\"\"}},\"scene\":{\"xaxis\":{\"backgroundcolor\":\"#E5ECF6\",\"gridcolor\":\"white\",\"gridwidth\":2,\"linecolor\":\"white\",\"showbackground\":true,\"ticks\":\"\",\"zerolinecolor\":\"white\"},\"yaxis\":{\"backgroundcolor\":\"#E5ECF6\",\"gridcolor\":\"white\",\"gridwidth\":2,\"linecolor\":\"white\",\"showbackground\":true,\"ticks\":\"\",\"zerolinecolor\":\"white\"},\"zaxis\":{\"backgroundcolor\":\"#E5ECF6\",\"gridcolor\":\"white\",\"gridwidth\":2,\"linecolor\":\"white\",\"showbackground\":true,\"ticks\":\"\",\"zerolinecolor\":\"white\"}},\"shapedefaults\":{\"line\":{\"color\":\"#2a3f5f\"}},\"ternary\":{\"aaxis\":{\"gridcolor\":\"white\",\"linecolor\":\"white\",\"ticks\":\"\"},\"baxis\":{\"gridcolor\":\"white\",\"linecolor\":\"white\",\"ticks\":\"\"},\"bgcolor\":\"#E5ECF6\",\"caxis\":{\"gridcolor\":\"white\",\"linecolor\":\"white\",\"ticks\":\"\"}},\"title\":{\"x\":0.05},\"xaxis\":{\"automargin\":true,\"gridcolor\":\"white\",\"linecolor\":\"white\",\"ticks\":\"\",\"title\":{\"standoff\":15},\"zerolinecolor\":\"white\",\"zerolinewidth\":2},\"yaxis\":{\"automargin\":true,\"gridcolor\":\"white\",\"linecolor\":\"white\",\"ticks\":\"\",\"title\":{\"standoff\":15},\"zerolinecolor\":\"white\",\"zerolinewidth\":2}}},\"width\":600,\"xaxis\":{\"anchor\":\"y\",\"domain\":[0.0,1.0],\"title\":{\"text\":\"feature1\"}},\"yaxis\":{\"anchor\":\"x\",\"domain\":[0.0,1.0],\"title\":{\"text\":\"feature2\"}}},                        {\"responsive\": true}                    ).then(function(){\n",
              "                            \n",
              "var gd = document.getElementById('0b331916-18a0-448d-b6f7-b2c0d1f72912');\n",
              "var x = new MutationObserver(function (mutations, observer) {{\n",
              "        var display = window.getComputedStyle(gd).display;\n",
              "        if (!display || display === 'none') {{\n",
              "            console.log([gd, 'removed!']);\n",
              "            Plotly.purge(gd);\n",
              "            observer.disconnect();\n",
              "        }}\n",
              "}});\n",
              "\n",
              "// Listen for the removal of the full notebook cells\n",
              "var notebookContainer = gd.closest('#notebook-container');\n",
              "if (notebookContainer) {{\n",
              "    x.observe(notebookContainer, {childList: true});\n",
              "}}\n",
              "\n",
              "// Listen for the clearing of the current output cell\n",
              "var outputEl = gd.closest('.output');\n",
              "if (outputEl) {{\n",
              "    x.observe(outputEl, {childList: true});\n",
              "}}\n",
              "\n",
              "                        })                };                            </script>        </div>\n",
              "</body>\n",
              "</html>"
            ]
          },
          "metadata": {}
        }
      ]
    },
    {
      "cell_type": "markdown",
      "source": [
        "## LVQ: Grundkonzepte"
      ],
      "metadata": {
        "id": "sWdk4fuxOm_n"
      }
    },
    {
      "cell_type": "markdown",
      "source": [
        "### Initalisieren der Prototypen"
      ],
      "metadata": {
        "id": "ld6UAK42OsSh"
      }
    },
    {
      "cell_type": "code",
      "source": [
        "prototypes = train_data.groupby('category').head(1)\n",
        "prototypes = prototypes.reset_index(drop=True)\n",
        "prototypes"
      ],
      "metadata": {
        "id": "G06Nv0YRYVlZ",
        "colab": {
          "base_uri": "https://localhost:8080/",
          "height": 155
        },
        "outputId": "6df1727e-3042-4c46-9e18-90301427b517"
      },
      "execution_count": 7,
      "outputs": [
        {
          "output_type": "execute_result",
          "data": {
            "text/plain": [
              "   feature1  feature2  target category\n",
              "0 -7.109553 -6.709518       0    cat_0\n",
              "1  5.987402  9.001781       2    cat_2\n",
              "2  0.128008  1.241617       1    cat_1"
            ],
            "text/html": [
              "\n",
              "  <div id=\"df-4c19093e-7ad9-42d1-8606-8841ef095d52\">\n",
              "    <div class=\"colab-df-container\">\n",
              "      <div>\n",
              "<style scoped>\n",
              "    .dataframe tbody tr th:only-of-type {\n",
              "        vertical-align: middle;\n",
              "    }\n",
              "\n",
              "    .dataframe tbody tr th {\n",
              "        vertical-align: top;\n",
              "    }\n",
              "\n",
              "    .dataframe thead th {\n",
              "        text-align: right;\n",
              "    }\n",
              "</style>\n",
              "<table border=\"1\" class=\"dataframe\">\n",
              "  <thead>\n",
              "    <tr style=\"text-align: right;\">\n",
              "      <th></th>\n",
              "      <th>feature1</th>\n",
              "      <th>feature2</th>\n",
              "      <th>target</th>\n",
              "      <th>category</th>\n",
              "    </tr>\n",
              "  </thead>\n",
              "  <tbody>\n",
              "    <tr>\n",
              "      <th>0</th>\n",
              "      <td>-7.109553</td>\n",
              "      <td>-6.709518</td>\n",
              "      <td>0</td>\n",
              "      <td>cat_0</td>\n",
              "    </tr>\n",
              "    <tr>\n",
              "      <th>1</th>\n",
              "      <td>5.987402</td>\n",
              "      <td>9.001781</td>\n",
              "      <td>2</td>\n",
              "      <td>cat_2</td>\n",
              "    </tr>\n",
              "    <tr>\n",
              "      <th>2</th>\n",
              "      <td>0.128008</td>\n",
              "      <td>1.241617</td>\n",
              "      <td>1</td>\n",
              "      <td>cat_1</td>\n",
              "    </tr>\n",
              "  </tbody>\n",
              "</table>\n",
              "</div>\n",
              "      <button class=\"colab-df-convert\" onclick=\"convertToInteractive('df-4c19093e-7ad9-42d1-8606-8841ef095d52')\"\n",
              "              title=\"Convert this dataframe to an interactive table.\"\n",
              "              style=\"display:none;\">\n",
              "        \n",
              "  <svg xmlns=\"http://www.w3.org/2000/svg\" height=\"24px\"viewBox=\"0 0 24 24\"\n",
              "       width=\"24px\">\n",
              "    <path d=\"M0 0h24v24H0V0z\" fill=\"none\"/>\n",
              "    <path d=\"M18.56 5.44l.94 2.06.94-2.06 2.06-.94-2.06-.94-.94-2.06-.94 2.06-2.06.94zm-11 1L8.5 8.5l.94-2.06 2.06-.94-2.06-.94L8.5 2.5l-.94 2.06-2.06.94zm10 10l.94 2.06.94-2.06 2.06-.94-2.06-.94-.94-2.06-.94 2.06-2.06.94z\"/><path d=\"M17.41 7.96l-1.37-1.37c-.4-.4-.92-.59-1.43-.59-.52 0-1.04.2-1.43.59L10.3 9.45l-7.72 7.72c-.78.78-.78 2.05 0 2.83L4 21.41c.39.39.9.59 1.41.59.51 0 1.02-.2 1.41-.59l7.78-7.78 2.81-2.81c.8-.78.8-2.07 0-2.86zM5.41 20L4 18.59l7.72-7.72 1.47 1.35L5.41 20z\"/>\n",
              "  </svg>\n",
              "      </button>\n",
              "      \n",
              "  <style>\n",
              "    .colab-df-container {\n",
              "      display:flex;\n",
              "      flex-wrap:wrap;\n",
              "      gap: 12px;\n",
              "    }\n",
              "\n",
              "    .colab-df-convert {\n",
              "      background-color: #E8F0FE;\n",
              "      border: none;\n",
              "      border-radius: 50%;\n",
              "      cursor: pointer;\n",
              "      display: none;\n",
              "      fill: #1967D2;\n",
              "      height: 32px;\n",
              "      padding: 0 0 0 0;\n",
              "      width: 32px;\n",
              "    }\n",
              "\n",
              "    .colab-df-convert:hover {\n",
              "      background-color: #E2EBFA;\n",
              "      box-shadow: 0px 1px 2px rgba(60, 64, 67, 0.3), 0px 1px 3px 1px rgba(60, 64, 67, 0.15);\n",
              "      fill: #174EA6;\n",
              "    }\n",
              "\n",
              "    [theme=dark] .colab-df-convert {\n",
              "      background-color: #3B4455;\n",
              "      fill: #D2E3FC;\n",
              "    }\n",
              "\n",
              "    [theme=dark] .colab-df-convert:hover {\n",
              "      background-color: #434B5C;\n",
              "      box-shadow: 0px 1px 3px 1px rgba(0, 0, 0, 0.15);\n",
              "      filter: drop-shadow(0px 1px 2px rgba(0, 0, 0, 0.3));\n",
              "      fill: #FFFFFF;\n",
              "    }\n",
              "  </style>\n",
              "\n",
              "      <script>\n",
              "        const buttonEl =\n",
              "          document.querySelector('#df-4c19093e-7ad9-42d1-8606-8841ef095d52 button.colab-df-convert');\n",
              "        buttonEl.style.display =\n",
              "          google.colab.kernel.accessAllowed ? 'block' : 'none';\n",
              "\n",
              "        async function convertToInteractive(key) {\n",
              "          const element = document.querySelector('#df-4c19093e-7ad9-42d1-8606-8841ef095d52');\n",
              "          const dataTable =\n",
              "            await google.colab.kernel.invokeFunction('convertToInteractive',\n",
              "                                                     [key], {});\n",
              "          if (!dataTable) return;\n",
              "\n",
              "          const docLinkHtml = 'Like what you see? Visit the ' +\n",
              "            '<a target=\"_blank\" href=https://colab.research.google.com/notebooks/data_table.ipynb>data table notebook</a>'\n",
              "            + ' to learn more about interactive tables.';\n",
              "          element.innerHTML = '';\n",
              "          dataTable['output_type'] = 'display_data';\n",
              "          await google.colab.output.renderOutput(dataTable, element);\n",
              "          const docLink = document.createElement('div');\n",
              "          docLink.innerHTML = docLinkHtml;\n",
              "          element.appendChild(docLink);\n",
              "        }\n",
              "      </script>\n",
              "    </div>\n",
              "  </div>\n",
              "  "
            ],
            "application/vnd.google.colaboratory.module+javascript": "\n      import \"https://ssl.gstatic.com/colaboratory/data_table/f872b2c2305463fd/data_table.js\";\n\n      window.createDataTable({\n        data: [[{\n            'v': 0,\n            'f': \"0\",\n        },\n{\n            'v': -7.109552810057596,\n            'f': \"-7.109552810057596\",\n        },\n{\n            'v': -6.709517958537973,\n            'f': \"-6.709517958537973\",\n        },\n{\n            'v': 0,\n            'f': \"0\",\n        },\n\"cat_0\"],\n [{\n            'v': 1,\n            'f': \"1\",\n        },\n{\n            'v': 5.9874024420853305,\n            'f': \"5.9874024420853305\",\n        },\n{\n            'v': 9.001780713802063,\n            'f': \"9.001780713802063\",\n        },\n{\n            'v': 2,\n            'f': \"2\",\n        },\n\"cat_2\"],\n [{\n            'v': 2,\n            'f': \"2\",\n        },\n{\n            'v': 0.12800782111610085,\n            'f': \"0.12800782111610085\",\n        },\n{\n            'v': 1.2416165181585397,\n            'f': \"1.2416165181585397\",\n        },\n{\n            'v': 1,\n            'f': \"1\",\n        },\n\"cat_1\"]],\n        columns: [[\"number\", \"index\"], [\"number\", \"feature1\"], [\"number\", \"feature2\"], [\"number\", \"target\"], [\"string\", \"category\"]],\n        columnOptions: [{\"width\": \"1px\", \"className\": \"index_column\"}],\n        rowsPerPage: 25,\n        helpUrl: \"https://colab.research.google.com/notebooks/data_table.ipynb\",\n        suppressOutputScrolling: true,\n        minimumWidth: undefined,\n      });\n    "
          },
          "metadata": {},
          "execution_count": 7
        }
      ]
    },
    {
      "cell_type": "code",
      "source": [
        "#@title Visualisierung\n",
        "\n",
        "fig_init = go.Figure(fig_data).add_traces(\n",
        "    go.Scatter(\n",
        "        x = prototypes['feature1'],\n",
        "        y = prototypes['feature2'],\n",
        "        mode = 'markers',\n",
        "        name = 'prototypes',\n",
        "        marker={\n",
        "            'color': prototypes.target,\n",
        "            'colorscale': ['blue', 'red', 'green'],\n",
        "            'size': 12,\n",
        "            'symbol': 'x-open',\n",
        "        }\n",
        "    )\n",
        ")\n",
        "fig_init"
      ],
      "metadata": {
        "colab": {
          "base_uri": "https://localhost:8080/",
          "height": 517
        },
        "id": "JiXQITozAuAH",
        "outputId": "7c5ff1c7-2351-4ba3-f12b-b08ac9705346",
        "cellView": "form"
      },
      "execution_count": 8,
      "outputs": [
        {
          "output_type": "display_data",
          "data": {
            "text/html": [
              "<html>\n",
              "<head><meta charset=\"utf-8\" /></head>\n",
              "<body>\n",
              "    <div>            <script src=\"https://cdnjs.cloudflare.com/ajax/libs/mathjax/2.7.5/MathJax.js?config=TeX-AMS-MML_SVG\"></script><script type=\"text/javascript\">if (window.MathJax) {MathJax.Hub.Config({SVG: {font: \"STIX-Web\"}});}</script>                <script type=\"text/javascript\">window.PlotlyConfig = {MathJaxConfig: 'local'};</script>\n",
              "        <script src=\"https://cdn.plot.ly/plotly-2.8.3.min.js\"></script>                <div id=\"a213712b-2d3c-4f83-a5cc-c7922f0e405c\" class=\"plotly-graph-div\" style=\"height:500px; width:600px;\"></div>            <script type=\"text/javascript\">                                    window.PLOTLYENV=window.PLOTLYENV || {};                                    if (document.getElementById(\"a213712b-2d3c-4f83-a5cc-c7922f0e405c\")) {                    Plotly.newPlot(                        \"a213712b-2d3c-4f83-a5cc-c7922f0e405c\",                        [{\"hovertemplate\":\"category=cat_0<br>feature1=%{x}<br>feature2=%{y}<extra></extra>\",\"legendgroup\":\"cat_0\",\"marker\":{\"color\":\"#636efa\",\"symbol\":\"circle\"},\"mode\":\"markers\",\"name\":\"cat_0\",\"orientation\":\"v\",\"showlegend\":true,\"x\":[-7.109552810057596,-8.593643553225927,-8.0665916991926,-2.4747278311698806,-9.839984720908866,-9.01333917438989,-1.8074099510149795,-2.740741834994699,-8.364314953943502,-6.61802740759715,-1.5672500002600298,-12.493141783340988,-11.255459013450729,-7.200824298078203,-6.330965925929839,-0.0498274720298415,-6.672360394487658,-8.759842709255462,-10.099723498432347,-7.6647920605205915,-7.42508303778698,-1.5040881641701267,-8.181439790478121,-2.0705302629673596,-8.29883368197082,-8.712850717364606,-8.411540416028874,-2.593924198061167,-5.388217188950073,-10.740186108080692,-11.5830540105627,1.1545138937212744,-8.698910041246855,-5.614010127711966,-5.419747143585888,-4.064846609597879,-3.4197520600643636,-17.662951007170847,-3.427346877617126],\"xaxis\":\"x\",\"y\":[-6.709517958537973,-7.474929674917517,-6.378143332871425,-2.580853872694103,-5.245409531773599,-9.488220501282187,-3.3325243611150266,-7.039983508195127,-7.032834735576948,-2.4607453934125143,-3.761218689362217,-4.706649095459656,-4.230755239000831,-1.6837013158861627,-7.254001353647695,-8.23660136880073,-2.181446381466868,-5.02717104946277,-4.2013231083183715,-4.550684683521101,-9.486282073906917,-6.263828465601802,-9.092954631165936,-8.202135260222951,-6.218908667761217,-5.14712985111985,-9.828944086811628,-5.027501347783377,-8.12839054787305,-6.411299798845082,-3.216674184510385,-5.126980298976021,-5.698766269269956,-9.726985406728982,-3.6642354273967164,-4.647567200273876,-5.373879251951787,-7.943681005145219,-5.501826586548332],\"yaxis\":\"y\",\"type\":\"scatter\"},{\"hovertemplate\":\"category=cat_1<br>feature1=%{x}<br>feature2=%{y}<extra></extra>\",\"legendgroup\":\"cat_1\",\"marker\":{\"color\":\"#EF553B\",\"symbol\":\"circle\"},\"mode\":\"markers\",\"name\":\"cat_1\",\"orientation\":\"v\",\"showlegend\":true,\"x\":[1.729417429210297,0.5935881147911207,0.4457809586531427,0.561951672422086,-0.7160257975174191,-1.0705854991525032,-0.587220312328312,-0.34903539298253017,-0.23733747553109175,0.3882504142848946,-0.05394784919048745,1.0697983584569932,-0.7959146932233903,-2.030393553778298,-0.018627715556959044,-1.2209019198961333,-1.2356366241061225,0.12800782111610085,-0.511128992552914,0.1334970410228064,-0.43089005538560166,-0.7254334803985123,1.094653079198753,0.6478297974098579,0.5587132048474234],\"xaxis\":\"x\",\"y\":[0.6940522720694241,2.0708785257760858,-0.782709043447464,-0.29382123783761,0.7314657358201054,0.37086997203026,1.9108268513563658,0.2528250912215497,0.885339675170791,-0.3871271811779628,1.3151672242748802,0.1665195100182666,0.07274552915143462,-0.9607751102139338,0.48352878740830696,0.059615433090329545,-0.1407864421846237,1.2416165181585397,-0.12284340561303929,-1.2892611938117313,-0.540270263790554,-0.0349433855520906,0.6396923552031146,-0.5603734188841619,-0.4783646604432103],\"yaxis\":\"y\",\"type\":\"scatter\"},{\"hovertemplate\":\"category=cat_2<br>feature1=%{x}<br>feature2=%{y}<extra></extra>\",\"legendgroup\":\"cat_2\",\"marker\":{\"color\":\"#00cc96\",\"symbol\":\"circle\"},\"mode\":\"markers\",\"name\":\"cat_2\",\"orientation\":\"v\",\"showlegend\":true,\"x\":[6.276029310016074,6.182069023154669,0.6469572699189694,6.836762045237343,6.480913560829175,10.092665552729521,4.2596816199246845,9.678303774374637,5.9874024420853305,6.5663718435609795,8.840684610318593,6.575314457421722,5.686962371543834,10.039301284190708,6.149455587899874,5.340843694311273,9.006523905410972,7.0335951082066375,8.130840363165332,6.181433546057293,4.747170993028246,7.809056973517464,7.707926743312776,5.916311543638355,6.16992811564178,3.42754134474525,3.7744376991223416,4.775231164631773,4.858935409794105,5.048201226180942,4.769782871170975,4.008411511084965,3.9405809493734463,5.53619089360479,2.109855475652514,8.983044692655723],\"xaxis\":\"x\",\"y\":[7.879005708390844,7.570864494154181,5.139798785845975,4.215187330673151,6.906075573549749,7.333975699183396,5.520735853069058,10.631717194500904,9.001780713802063,5.871279656221559,5.360819718134216,2.4103859293553556,1.455511770758287,6.652524545897313,4.743498386391799,7.794299494372734,7.81663743268094,5.134847247700244,4.2552486773411395,1.5651647779266966,5.0159122137151435,2.2686976550303237,9.173733086132563,5.454528927727748,8.195558975081262,3.712556347325746,2.721407505366034,8.79993099204373,1.94185574852383,6.593689061540348,3.87568775314434,6.687589036996599,3.939582764586884,5.070662557702199,3.680554098019784,3.203767978324612],\"yaxis\":\"y\",\"type\":\"scatter\"},{\"marker\":{\"color\":[0,2,1],\"colorscale\":[[0.0,\"blue\"],[0.5,\"red\"],[1.0,\"green\"]],\"size\":12,\"symbol\":\"x-open\"},\"mode\":\"markers\",\"name\":\"prototypes\",\"x\":[-7.109552810057596,5.9874024420853305,0.12800782111610085],\"y\":[-6.709517958537973,9.001780713802063,1.2416165181585397],\"type\":\"scatter\"}],                        {\"height\":500,\"legend\":{\"title\":{\"text\":\"category\"},\"tracegroupgap\":0},\"margin\":{\"t\":60},\"template\":{\"data\":{\"barpolar\":[{\"marker\":{\"line\":{\"color\":\"#E5ECF6\",\"width\":0.5},\"pattern\":{\"fillmode\":\"overlay\",\"size\":10,\"solidity\":0.2}},\"type\":\"barpolar\"}],\"bar\":[{\"error_x\":{\"color\":\"#2a3f5f\"},\"error_y\":{\"color\":\"#2a3f5f\"},\"marker\":{\"line\":{\"color\":\"#E5ECF6\",\"width\":0.5},\"pattern\":{\"fillmode\":\"overlay\",\"size\":10,\"solidity\":0.2}},\"type\":\"bar\"}],\"carpet\":[{\"aaxis\":{\"endlinecolor\":\"#2a3f5f\",\"gridcolor\":\"white\",\"linecolor\":\"white\",\"minorgridcolor\":\"white\",\"startlinecolor\":\"#2a3f5f\"},\"baxis\":{\"endlinecolor\":\"#2a3f5f\",\"gridcolor\":\"white\",\"linecolor\":\"white\",\"minorgridcolor\":\"white\",\"startlinecolor\":\"#2a3f5f\"},\"type\":\"carpet\"}],\"choropleth\":[{\"colorbar\":{\"outlinewidth\":0,\"ticks\":\"\"},\"type\":\"choropleth\"}],\"contourcarpet\":[{\"colorbar\":{\"outlinewidth\":0,\"ticks\":\"\"},\"type\":\"contourcarpet\"}],\"contour\":[{\"colorbar\":{\"outlinewidth\":0,\"ticks\":\"\"},\"colorscale\":[[0.0,\"#0d0887\"],[0.1111111111111111,\"#46039f\"],[0.2222222222222222,\"#7201a8\"],[0.3333333333333333,\"#9c179e\"],[0.4444444444444444,\"#bd3786\"],[0.5555555555555556,\"#d8576b\"],[0.6666666666666666,\"#ed7953\"],[0.7777777777777778,\"#fb9f3a\"],[0.8888888888888888,\"#fdca26\"],[1.0,\"#f0f921\"]],\"type\":\"contour\"}],\"heatmapgl\":[{\"colorbar\":{\"outlinewidth\":0,\"ticks\":\"\"},\"colorscale\":[[0.0,\"#0d0887\"],[0.1111111111111111,\"#46039f\"],[0.2222222222222222,\"#7201a8\"],[0.3333333333333333,\"#9c179e\"],[0.4444444444444444,\"#bd3786\"],[0.5555555555555556,\"#d8576b\"],[0.6666666666666666,\"#ed7953\"],[0.7777777777777778,\"#fb9f3a\"],[0.8888888888888888,\"#fdca26\"],[1.0,\"#f0f921\"]],\"type\":\"heatmapgl\"}],\"heatmap\":[{\"colorbar\":{\"outlinewidth\":0,\"ticks\":\"\"},\"colorscale\":[[0.0,\"#0d0887\"],[0.1111111111111111,\"#46039f\"],[0.2222222222222222,\"#7201a8\"],[0.3333333333333333,\"#9c179e\"],[0.4444444444444444,\"#bd3786\"],[0.5555555555555556,\"#d8576b\"],[0.6666666666666666,\"#ed7953\"],[0.7777777777777778,\"#fb9f3a\"],[0.8888888888888888,\"#fdca26\"],[1.0,\"#f0f921\"]],\"type\":\"heatmap\"}],\"histogram2dcontour\":[{\"colorbar\":{\"outlinewidth\":0,\"ticks\":\"\"},\"colorscale\":[[0.0,\"#0d0887\"],[0.1111111111111111,\"#46039f\"],[0.2222222222222222,\"#7201a8\"],[0.3333333333333333,\"#9c179e\"],[0.4444444444444444,\"#bd3786\"],[0.5555555555555556,\"#d8576b\"],[0.6666666666666666,\"#ed7953\"],[0.7777777777777778,\"#fb9f3a\"],[0.8888888888888888,\"#fdca26\"],[1.0,\"#f0f921\"]],\"type\":\"histogram2dcontour\"}],\"histogram2d\":[{\"colorbar\":{\"outlinewidth\":0,\"ticks\":\"\"},\"colorscale\":[[0.0,\"#0d0887\"],[0.1111111111111111,\"#46039f\"],[0.2222222222222222,\"#7201a8\"],[0.3333333333333333,\"#9c179e\"],[0.4444444444444444,\"#bd3786\"],[0.5555555555555556,\"#d8576b\"],[0.6666666666666666,\"#ed7953\"],[0.7777777777777778,\"#fb9f3a\"],[0.8888888888888888,\"#fdca26\"],[1.0,\"#f0f921\"]],\"type\":\"histogram2d\"}],\"histogram\":[{\"marker\":{\"pattern\":{\"fillmode\":\"overlay\",\"size\":10,\"solidity\":0.2}},\"type\":\"histogram\"}],\"mesh3d\":[{\"colorbar\":{\"outlinewidth\":0,\"ticks\":\"\"},\"type\":\"mesh3d\"}],\"parcoords\":[{\"line\":{\"colorbar\":{\"outlinewidth\":0,\"ticks\":\"\"}},\"type\":\"parcoords\"}],\"pie\":[{\"automargin\":true,\"type\":\"pie\"}],\"scatter3d\":[{\"line\":{\"colorbar\":{\"outlinewidth\":0,\"ticks\":\"\"}},\"marker\":{\"colorbar\":{\"outlinewidth\":0,\"ticks\":\"\"}},\"type\":\"scatter3d\"}],\"scattercarpet\":[{\"marker\":{\"colorbar\":{\"outlinewidth\":0,\"ticks\":\"\"}},\"type\":\"scattercarpet\"}],\"scattergeo\":[{\"marker\":{\"colorbar\":{\"outlinewidth\":0,\"ticks\":\"\"}},\"type\":\"scattergeo\"}],\"scattergl\":[{\"marker\":{\"colorbar\":{\"outlinewidth\":0,\"ticks\":\"\"}},\"type\":\"scattergl\"}],\"scattermapbox\":[{\"marker\":{\"colorbar\":{\"outlinewidth\":0,\"ticks\":\"\"}},\"type\":\"scattermapbox\"}],\"scatterpolargl\":[{\"marker\":{\"colorbar\":{\"outlinewidth\":0,\"ticks\":\"\"}},\"type\":\"scatterpolargl\"}],\"scatterpolar\":[{\"marker\":{\"colorbar\":{\"outlinewidth\":0,\"ticks\":\"\"}},\"type\":\"scatterpolar\"}],\"scatter\":[{\"marker\":{\"colorbar\":{\"outlinewidth\":0,\"ticks\":\"\"}},\"type\":\"scatter\"}],\"scatterternary\":[{\"marker\":{\"colorbar\":{\"outlinewidth\":0,\"ticks\":\"\"}},\"type\":\"scatterternary\"}],\"surface\":[{\"colorbar\":{\"outlinewidth\":0,\"ticks\":\"\"},\"colorscale\":[[0.0,\"#0d0887\"],[0.1111111111111111,\"#46039f\"],[0.2222222222222222,\"#7201a8\"],[0.3333333333333333,\"#9c179e\"],[0.4444444444444444,\"#bd3786\"],[0.5555555555555556,\"#d8576b\"],[0.6666666666666666,\"#ed7953\"],[0.7777777777777778,\"#fb9f3a\"],[0.8888888888888888,\"#fdca26\"],[1.0,\"#f0f921\"]],\"type\":\"surface\"}],\"table\":[{\"cells\":{\"fill\":{\"color\":\"#EBF0F8\"},\"line\":{\"color\":\"white\"}},\"header\":{\"fill\":{\"color\":\"#C8D4E3\"},\"line\":{\"color\":\"white\"}},\"type\":\"table\"}]},\"layout\":{\"annotationdefaults\":{\"arrowcolor\":\"#2a3f5f\",\"arrowhead\":0,\"arrowwidth\":1},\"autotypenumbers\":\"strict\",\"coloraxis\":{\"colorbar\":{\"outlinewidth\":0,\"ticks\":\"\"}},\"colorscale\":{\"diverging\":[[0,\"#8e0152\"],[0.1,\"#c51b7d\"],[0.2,\"#de77ae\"],[0.3,\"#f1b6da\"],[0.4,\"#fde0ef\"],[0.5,\"#f7f7f7\"],[0.6,\"#e6f5d0\"],[0.7,\"#b8e186\"],[0.8,\"#7fbc41\"],[0.9,\"#4d9221\"],[1,\"#276419\"]],\"sequential\":[[0.0,\"#0d0887\"],[0.1111111111111111,\"#46039f\"],[0.2222222222222222,\"#7201a8\"],[0.3333333333333333,\"#9c179e\"],[0.4444444444444444,\"#bd3786\"],[0.5555555555555556,\"#d8576b\"],[0.6666666666666666,\"#ed7953\"],[0.7777777777777778,\"#fb9f3a\"],[0.8888888888888888,\"#fdca26\"],[1.0,\"#f0f921\"]],\"sequentialminus\":[[0.0,\"#0d0887\"],[0.1111111111111111,\"#46039f\"],[0.2222222222222222,\"#7201a8\"],[0.3333333333333333,\"#9c179e\"],[0.4444444444444444,\"#bd3786\"],[0.5555555555555556,\"#d8576b\"],[0.6666666666666666,\"#ed7953\"],[0.7777777777777778,\"#fb9f3a\"],[0.8888888888888888,\"#fdca26\"],[1.0,\"#f0f921\"]]},\"colorway\":[\"#636efa\",\"#EF553B\",\"#00cc96\",\"#ab63fa\",\"#FFA15A\",\"#19d3f3\",\"#FF6692\",\"#B6E880\",\"#FF97FF\",\"#FECB52\"],\"font\":{\"color\":\"#2a3f5f\"},\"geo\":{\"bgcolor\":\"white\",\"lakecolor\":\"white\",\"landcolor\":\"#E5ECF6\",\"showlakes\":true,\"showland\":true,\"subunitcolor\":\"white\"},\"hoverlabel\":{\"align\":\"left\"},\"hovermode\":\"closest\",\"mapbox\":{\"style\":\"light\"},\"paper_bgcolor\":\"white\",\"plot_bgcolor\":\"#E5ECF6\",\"polar\":{\"angularaxis\":{\"gridcolor\":\"white\",\"linecolor\":\"white\",\"ticks\":\"\"},\"bgcolor\":\"#E5ECF6\",\"radialaxis\":{\"gridcolor\":\"white\",\"linecolor\":\"white\",\"ticks\":\"\"}},\"scene\":{\"xaxis\":{\"backgroundcolor\":\"#E5ECF6\",\"gridcolor\":\"white\",\"gridwidth\":2,\"linecolor\":\"white\",\"showbackground\":true,\"ticks\":\"\",\"zerolinecolor\":\"white\"},\"yaxis\":{\"backgroundcolor\":\"#E5ECF6\",\"gridcolor\":\"white\",\"gridwidth\":2,\"linecolor\":\"white\",\"showbackground\":true,\"ticks\":\"\",\"zerolinecolor\":\"white\"},\"zaxis\":{\"backgroundcolor\":\"#E5ECF6\",\"gridcolor\":\"white\",\"gridwidth\":2,\"linecolor\":\"white\",\"showbackground\":true,\"ticks\":\"\",\"zerolinecolor\":\"white\"}},\"shapedefaults\":{\"line\":{\"color\":\"#2a3f5f\"}},\"ternary\":{\"aaxis\":{\"gridcolor\":\"white\",\"linecolor\":\"white\",\"ticks\":\"\"},\"baxis\":{\"gridcolor\":\"white\",\"linecolor\":\"white\",\"ticks\":\"\"},\"bgcolor\":\"#E5ECF6\",\"caxis\":{\"gridcolor\":\"white\",\"linecolor\":\"white\",\"ticks\":\"\"}},\"title\":{\"x\":0.05},\"xaxis\":{\"automargin\":true,\"gridcolor\":\"white\",\"linecolor\":\"white\",\"ticks\":\"\",\"title\":{\"standoff\":15},\"zerolinecolor\":\"white\",\"zerolinewidth\":2},\"yaxis\":{\"automargin\":true,\"gridcolor\":\"white\",\"linecolor\":\"white\",\"ticks\":\"\",\"title\":{\"standoff\":15},\"zerolinecolor\":\"white\",\"zerolinewidth\":2}}},\"width\":600,\"xaxis\":{\"anchor\":\"y\",\"domain\":[0.0,1.0],\"title\":{\"text\":\"feature1\"}},\"yaxis\":{\"anchor\":\"x\",\"domain\":[0.0,1.0],\"title\":{\"text\":\"feature2\"}}},                        {\"responsive\": true}                    ).then(function(){\n",
              "                            \n",
              "var gd = document.getElementById('a213712b-2d3c-4f83-a5cc-c7922f0e405c');\n",
              "var x = new MutationObserver(function (mutations, observer) {{\n",
              "        var display = window.getComputedStyle(gd).display;\n",
              "        if (!display || display === 'none') {{\n",
              "            console.log([gd, 'removed!']);\n",
              "            Plotly.purge(gd);\n",
              "            observer.disconnect();\n",
              "        }}\n",
              "}});\n",
              "\n",
              "// Listen for the removal of the full notebook cells\n",
              "var notebookContainer = gd.closest('#notebook-container');\n",
              "if (notebookContainer) {{\n",
              "    x.observe(notebookContainer, {childList: true});\n",
              "}}\n",
              "\n",
              "// Listen for the clearing of the current output cell\n",
              "var outputEl = gd.closest('.output');\n",
              "if (outputEl) {{\n",
              "    x.observe(outputEl, {childList: true});\n",
              "}}\n",
              "\n",
              "                        })                };                            </script>        </div>\n",
              "</body>\n",
              "</html>"
            ]
          },
          "metadata": {}
        }
      ]
    },
    {
      "cell_type": "markdown",
      "source": [
        "### Definition des Abstandsmass"
      ],
      "metadata": {
        "id": "C2GN3fE9O98q"
      }
    },
    {
      "cell_type": "code",
      "source": [
        "def distance_fn(vector, other_vectors):\n",
        "    return np.sqrt(np.sum((vector - other_vectors)**2, axis=1))"
      ],
      "metadata": {
        "id": "AXhlejUrmVZ0"
      },
      "execution_count": 9,
      "outputs": []
    },
    {
      "cell_type": "markdown",
      "source": [
        "### Vorhersage der Kategorie "
      ],
      "metadata": {
        "id": "ZrWEFjwQ7hXG"
      }
    },
    {
      "cell_type": "code",
      "source": [
        "def predict(samples_df, prototype_df):\n",
        "    for ix, sample in samples_df.iterrows():\n",
        "        distances = distance_fn(sample[features], prototype_df[features])\n",
        "        nearest_prototype = np.argmin(distances)\n",
        "        samples_df.loc[ix, 'assigned_category'] = prototype_df.loc[nearest_prototype].category\n",
        "    return samples_df"
      ],
      "metadata": {
        "id": "uqpcQj8kLdiW"
      },
      "execution_count": 10,
      "outputs": []
    },
    {
      "cell_type": "code",
      "source": [
        "train_data = predict(train_data, prototypes)\n",
        "train_data.head()"
      ],
      "metadata": {
        "id": "99fKczbQrZWx",
        "colab": {
          "base_uri": "https://localhost:8080/",
          "height": 198
        },
        "outputId": "4904a456-54cb-44ab-d40e-25525a3bba53"
      },
      "execution_count": 11,
      "outputs": [
        {
          "output_type": "execute_result",
          "data": {
            "text/plain": [
              "     feature1  feature2  target category assigned_category\n",
              "35  -7.109553 -6.709518       0    cat_0             cat_0\n",
              "70   5.987402  9.001781       2    cat_2             cat_2\n",
              "79   0.128008  1.241617       1    cat_1             cat_1\n",
              "92  -3.419752 -5.373879       0    cat_0             cat_0\n",
              "97 -11.583054 -3.216674       0    cat_0             cat_0"
            ],
            "text/html": [
              "\n",
              "  <div id=\"df-f535a45a-3e3b-4a11-aaaa-d53e0240096c\">\n",
              "    <div class=\"colab-df-container\">\n",
              "      <div>\n",
              "<style scoped>\n",
              "    .dataframe tbody tr th:only-of-type {\n",
              "        vertical-align: middle;\n",
              "    }\n",
              "\n",
              "    .dataframe tbody tr th {\n",
              "        vertical-align: top;\n",
              "    }\n",
              "\n",
              "    .dataframe thead th {\n",
              "        text-align: right;\n",
              "    }\n",
              "</style>\n",
              "<table border=\"1\" class=\"dataframe\">\n",
              "  <thead>\n",
              "    <tr style=\"text-align: right;\">\n",
              "      <th></th>\n",
              "      <th>feature1</th>\n",
              "      <th>feature2</th>\n",
              "      <th>target</th>\n",
              "      <th>category</th>\n",
              "      <th>assigned_category</th>\n",
              "    </tr>\n",
              "  </thead>\n",
              "  <tbody>\n",
              "    <tr>\n",
              "      <th>35</th>\n",
              "      <td>-7.109553</td>\n",
              "      <td>-6.709518</td>\n",
              "      <td>0</td>\n",
              "      <td>cat_0</td>\n",
              "      <td>cat_0</td>\n",
              "    </tr>\n",
              "    <tr>\n",
              "      <th>70</th>\n",
              "      <td>5.987402</td>\n",
              "      <td>9.001781</td>\n",
              "      <td>2</td>\n",
              "      <td>cat_2</td>\n",
              "      <td>cat_2</td>\n",
              "    </tr>\n",
              "    <tr>\n",
              "      <th>79</th>\n",
              "      <td>0.128008</td>\n",
              "      <td>1.241617</td>\n",
              "      <td>1</td>\n",
              "      <td>cat_1</td>\n",
              "      <td>cat_1</td>\n",
              "    </tr>\n",
              "    <tr>\n",
              "      <th>92</th>\n",
              "      <td>-3.419752</td>\n",
              "      <td>-5.373879</td>\n",
              "      <td>0</td>\n",
              "      <td>cat_0</td>\n",
              "      <td>cat_0</td>\n",
              "    </tr>\n",
              "    <tr>\n",
              "      <th>97</th>\n",
              "      <td>-11.583054</td>\n",
              "      <td>-3.216674</td>\n",
              "      <td>0</td>\n",
              "      <td>cat_0</td>\n",
              "      <td>cat_0</td>\n",
              "    </tr>\n",
              "  </tbody>\n",
              "</table>\n",
              "</div>\n",
              "      <button class=\"colab-df-convert\" onclick=\"convertToInteractive('df-f535a45a-3e3b-4a11-aaaa-d53e0240096c')\"\n",
              "              title=\"Convert this dataframe to an interactive table.\"\n",
              "              style=\"display:none;\">\n",
              "        \n",
              "  <svg xmlns=\"http://www.w3.org/2000/svg\" height=\"24px\"viewBox=\"0 0 24 24\"\n",
              "       width=\"24px\">\n",
              "    <path d=\"M0 0h24v24H0V0z\" fill=\"none\"/>\n",
              "    <path d=\"M18.56 5.44l.94 2.06.94-2.06 2.06-.94-2.06-.94-.94-2.06-.94 2.06-2.06.94zm-11 1L8.5 8.5l.94-2.06 2.06-.94-2.06-.94L8.5 2.5l-.94 2.06-2.06.94zm10 10l.94 2.06.94-2.06 2.06-.94-2.06-.94-.94-2.06-.94 2.06-2.06.94z\"/><path d=\"M17.41 7.96l-1.37-1.37c-.4-.4-.92-.59-1.43-.59-.52 0-1.04.2-1.43.59L10.3 9.45l-7.72 7.72c-.78.78-.78 2.05 0 2.83L4 21.41c.39.39.9.59 1.41.59.51 0 1.02-.2 1.41-.59l7.78-7.78 2.81-2.81c.8-.78.8-2.07 0-2.86zM5.41 20L4 18.59l7.72-7.72 1.47 1.35L5.41 20z\"/>\n",
              "  </svg>\n",
              "      </button>\n",
              "      \n",
              "  <style>\n",
              "    .colab-df-container {\n",
              "      display:flex;\n",
              "      flex-wrap:wrap;\n",
              "      gap: 12px;\n",
              "    }\n",
              "\n",
              "    .colab-df-convert {\n",
              "      background-color: #E8F0FE;\n",
              "      border: none;\n",
              "      border-radius: 50%;\n",
              "      cursor: pointer;\n",
              "      display: none;\n",
              "      fill: #1967D2;\n",
              "      height: 32px;\n",
              "      padding: 0 0 0 0;\n",
              "      width: 32px;\n",
              "    }\n",
              "\n",
              "    .colab-df-convert:hover {\n",
              "      background-color: #E2EBFA;\n",
              "      box-shadow: 0px 1px 2px rgba(60, 64, 67, 0.3), 0px 1px 3px 1px rgba(60, 64, 67, 0.15);\n",
              "      fill: #174EA6;\n",
              "    }\n",
              "\n",
              "    [theme=dark] .colab-df-convert {\n",
              "      background-color: #3B4455;\n",
              "      fill: #D2E3FC;\n",
              "    }\n",
              "\n",
              "    [theme=dark] .colab-df-convert:hover {\n",
              "      background-color: #434B5C;\n",
              "      box-shadow: 0px 1px 3px 1px rgba(0, 0, 0, 0.15);\n",
              "      filter: drop-shadow(0px 1px 2px rgba(0, 0, 0, 0.3));\n",
              "      fill: #FFFFFF;\n",
              "    }\n",
              "  </style>\n",
              "\n",
              "      <script>\n",
              "        const buttonEl =\n",
              "          document.querySelector('#df-f535a45a-3e3b-4a11-aaaa-d53e0240096c button.colab-df-convert');\n",
              "        buttonEl.style.display =\n",
              "          google.colab.kernel.accessAllowed ? 'block' : 'none';\n",
              "\n",
              "        async function convertToInteractive(key) {\n",
              "          const element = document.querySelector('#df-f535a45a-3e3b-4a11-aaaa-d53e0240096c');\n",
              "          const dataTable =\n",
              "            await google.colab.kernel.invokeFunction('convertToInteractive',\n",
              "                                                     [key], {});\n",
              "          if (!dataTable) return;\n",
              "\n",
              "          const docLinkHtml = 'Like what you see? Visit the ' +\n",
              "            '<a target=\"_blank\" href=https://colab.research.google.com/notebooks/data_table.ipynb>data table notebook</a>'\n",
              "            + ' to learn more about interactive tables.';\n",
              "          element.innerHTML = '';\n",
              "          dataTable['output_type'] = 'display_data';\n",
              "          await google.colab.output.renderOutput(dataTable, element);\n",
              "          const docLink = document.createElement('div');\n",
              "          docLink.innerHTML = docLinkHtml;\n",
              "          element.appendChild(docLink);\n",
              "        }\n",
              "      </script>\n",
              "    </div>\n",
              "  </div>\n",
              "  "
            ],
            "application/vnd.google.colaboratory.module+javascript": "\n      import \"https://ssl.gstatic.com/colaboratory/data_table/f872b2c2305463fd/data_table.js\";\n\n      window.createDataTable({\n        data: [[{\n            'v': 35,\n            'f': \"35\",\n        },\n{\n            'v': -7.109552810057596,\n            'f': \"-7.109552810057596\",\n        },\n{\n            'v': -6.709517958537973,\n            'f': \"-6.709517958537973\",\n        },\n{\n            'v': 0,\n            'f': \"0\",\n        },\n\"cat_0\",\n\"cat_0\"],\n [{\n            'v': 70,\n            'f': \"70\",\n        },\n{\n            'v': 5.9874024420853305,\n            'f': \"5.9874024420853305\",\n        },\n{\n            'v': 9.001780713802063,\n            'f': \"9.001780713802063\",\n        },\n{\n            'v': 2,\n            'f': \"2\",\n        },\n\"cat_2\",\n\"cat_2\"],\n [{\n            'v': 79,\n            'f': \"79\",\n        },\n{\n            'v': 0.12800782111610085,\n            'f': \"0.12800782111610085\",\n        },\n{\n            'v': 1.2416165181585397,\n            'f': \"1.2416165181585397\",\n        },\n{\n            'v': 1,\n            'f': \"1\",\n        },\n\"cat_1\",\n\"cat_1\"],\n [{\n            'v': 92,\n            'f': \"92\",\n        },\n{\n            'v': -3.4197520600643636,\n            'f': \"-3.4197520600643636\",\n        },\n{\n            'v': -5.373879251951787,\n            'f': \"-5.373879251951787\",\n        },\n{\n            'v': 0,\n            'f': \"0\",\n        },\n\"cat_0\",\n\"cat_0\"],\n [{\n            'v': 97,\n            'f': \"97\",\n        },\n{\n            'v': -11.5830540105627,\n            'f': \"-11.5830540105627\",\n        },\n{\n            'v': -3.216674184510385,\n            'f': \"-3.216674184510385\",\n        },\n{\n            'v': 0,\n            'f': \"0\",\n        },\n\"cat_0\",\n\"cat_0\"]],\n        columns: [[\"number\", \"index\"], [\"number\", \"feature1\"], [\"number\", \"feature2\"], [\"number\", \"target\"], [\"string\", \"category\"], [\"string\", \"assigned_category\"]],\n        columnOptions: [{\"width\": \"1px\", \"className\": \"index_column\"}],\n        rowsPerPage: 25,\n        helpUrl: \"https://colab.research.google.com/notebooks/data_table.ipynb\",\n        suppressOutputScrolling: true,\n        minimumWidth: undefined,\n      });\n    "
          },
          "metadata": {},
          "execution_count": 11
        }
      ]
    },
    {
      "cell_type": "code",
      "source": [
        "#@title Visualisierung\n",
        "\n",
        "fig_classification = go.Figure(fig_init)\n",
        "fig_classification.add_trace(\n",
        " go.Scatter(\n",
        "        \n",
        "        x = train_data['feature1'],\n",
        "        y = train_data['feature2'],\n",
        "        mode = 'markers',\n",
        "        name = 'assigned category',\n",
        "        marker={\n",
        "            'color': train_data.assigned_category.str.split('_').str.get(1).astype('int'),\n",
        "            'colorscale': ['blue', 'red', 'green'],\n",
        "            'size': 9,\n",
        "            'symbol': 'circle-open',\n",
        "        }\n",
        "    )\n",
        ")\n",
        "#fig_classification.update_yaxes(\n",
        "#    scaleanchor = \"x\",\n",
        "#    scaleratio = 1,\n",
        "#  )"
      ],
      "metadata": {
        "colab": {
          "base_uri": "https://localhost:8080/",
          "height": 517
        },
        "id": "mFXJoILQipMT",
        "outputId": "bdc0e0b4-ff76-4396-91bf-63db293a36cc",
        "cellView": "form"
      },
      "execution_count": 12,
      "outputs": [
        {
          "output_type": "display_data",
          "data": {
            "text/html": [
              "<html>\n",
              "<head><meta charset=\"utf-8\" /></head>\n",
              "<body>\n",
              "    <div>            <script src=\"https://cdnjs.cloudflare.com/ajax/libs/mathjax/2.7.5/MathJax.js?config=TeX-AMS-MML_SVG\"></script><script type=\"text/javascript\">if (window.MathJax) {MathJax.Hub.Config({SVG: {font: \"STIX-Web\"}});}</script>                <script type=\"text/javascript\">window.PlotlyConfig = {MathJaxConfig: 'local'};</script>\n",
              "        <script src=\"https://cdn.plot.ly/plotly-2.8.3.min.js\"></script>                <div id=\"0df3e53a-c341-46bb-9782-c669c9c3d657\" class=\"plotly-graph-div\" style=\"height:500px; width:600px;\"></div>            <script type=\"text/javascript\">                                    window.PLOTLYENV=window.PLOTLYENV || {};                                    if (document.getElementById(\"0df3e53a-c341-46bb-9782-c669c9c3d657\")) {                    Plotly.newPlot(                        \"0df3e53a-c341-46bb-9782-c669c9c3d657\",                        [{\"hovertemplate\":\"category=cat_0<br>feature1=%{x}<br>feature2=%{y}<extra></extra>\",\"legendgroup\":\"cat_0\",\"marker\":{\"color\":\"#636efa\",\"symbol\":\"circle\"},\"mode\":\"markers\",\"name\":\"cat_0\",\"orientation\":\"v\",\"showlegend\":true,\"x\":[-7.109552810057596,-8.593643553225927,-8.0665916991926,-2.4747278311698806,-9.839984720908866,-9.01333917438989,-1.8074099510149795,-2.740741834994699,-8.364314953943502,-6.61802740759715,-1.5672500002600298,-12.493141783340988,-11.255459013450729,-7.200824298078203,-6.330965925929839,-0.0498274720298415,-6.672360394487658,-8.759842709255462,-10.099723498432347,-7.6647920605205915,-7.42508303778698,-1.5040881641701267,-8.181439790478121,-2.0705302629673596,-8.29883368197082,-8.712850717364606,-8.411540416028874,-2.593924198061167,-5.388217188950073,-10.740186108080692,-11.5830540105627,1.1545138937212744,-8.698910041246855,-5.614010127711966,-5.419747143585888,-4.064846609597879,-3.4197520600643636,-17.662951007170847,-3.427346877617126],\"xaxis\":\"x\",\"y\":[-6.709517958537973,-7.474929674917517,-6.378143332871425,-2.580853872694103,-5.245409531773599,-9.488220501282187,-3.3325243611150266,-7.039983508195127,-7.032834735576948,-2.4607453934125143,-3.761218689362217,-4.706649095459656,-4.230755239000831,-1.6837013158861627,-7.254001353647695,-8.23660136880073,-2.181446381466868,-5.02717104946277,-4.2013231083183715,-4.550684683521101,-9.486282073906917,-6.263828465601802,-9.092954631165936,-8.202135260222951,-6.218908667761217,-5.14712985111985,-9.828944086811628,-5.027501347783377,-8.12839054787305,-6.411299798845082,-3.216674184510385,-5.126980298976021,-5.698766269269956,-9.726985406728982,-3.6642354273967164,-4.647567200273876,-5.373879251951787,-7.943681005145219,-5.501826586548332],\"yaxis\":\"y\",\"type\":\"scatter\"},{\"hovertemplate\":\"category=cat_1<br>feature1=%{x}<br>feature2=%{y}<extra></extra>\",\"legendgroup\":\"cat_1\",\"marker\":{\"color\":\"#EF553B\",\"symbol\":\"circle\"},\"mode\":\"markers\",\"name\":\"cat_1\",\"orientation\":\"v\",\"showlegend\":true,\"x\":[1.729417429210297,0.5935881147911207,0.4457809586531427,0.561951672422086,-0.7160257975174191,-1.0705854991525032,-0.587220312328312,-0.34903539298253017,-0.23733747553109175,0.3882504142848946,-0.05394784919048745,1.0697983584569932,-0.7959146932233903,-2.030393553778298,-0.018627715556959044,-1.2209019198961333,-1.2356366241061225,0.12800782111610085,-0.511128992552914,0.1334970410228064,-0.43089005538560166,-0.7254334803985123,1.094653079198753,0.6478297974098579,0.5587132048474234],\"xaxis\":\"x\",\"y\":[0.6940522720694241,2.0708785257760858,-0.782709043447464,-0.29382123783761,0.7314657358201054,0.37086997203026,1.9108268513563658,0.2528250912215497,0.885339675170791,-0.3871271811779628,1.3151672242748802,0.1665195100182666,0.07274552915143462,-0.9607751102139338,0.48352878740830696,0.059615433090329545,-0.1407864421846237,1.2416165181585397,-0.12284340561303929,-1.2892611938117313,-0.540270263790554,-0.0349433855520906,0.6396923552031146,-0.5603734188841619,-0.4783646604432103],\"yaxis\":\"y\",\"type\":\"scatter\"},{\"hovertemplate\":\"category=cat_2<br>feature1=%{x}<br>feature2=%{y}<extra></extra>\",\"legendgroup\":\"cat_2\",\"marker\":{\"color\":\"#00cc96\",\"symbol\":\"circle\"},\"mode\":\"markers\",\"name\":\"cat_2\",\"orientation\":\"v\",\"showlegend\":true,\"x\":[6.276029310016074,6.182069023154669,0.6469572699189694,6.836762045237343,6.480913560829175,10.092665552729521,4.2596816199246845,9.678303774374637,5.9874024420853305,6.5663718435609795,8.840684610318593,6.575314457421722,5.686962371543834,10.039301284190708,6.149455587899874,5.340843694311273,9.006523905410972,7.0335951082066375,8.130840363165332,6.181433546057293,4.747170993028246,7.809056973517464,7.707926743312776,5.916311543638355,6.16992811564178,3.42754134474525,3.7744376991223416,4.775231164631773,4.858935409794105,5.048201226180942,4.769782871170975,4.008411511084965,3.9405809493734463,5.53619089360479,2.109855475652514,8.983044692655723],\"xaxis\":\"x\",\"y\":[7.879005708390844,7.570864494154181,5.139798785845975,4.215187330673151,6.906075573549749,7.333975699183396,5.520735853069058,10.631717194500904,9.001780713802063,5.871279656221559,5.360819718134216,2.4103859293553556,1.455511770758287,6.652524545897313,4.743498386391799,7.794299494372734,7.81663743268094,5.134847247700244,4.2552486773411395,1.5651647779266966,5.0159122137151435,2.2686976550303237,9.173733086132563,5.454528927727748,8.195558975081262,3.712556347325746,2.721407505366034,8.79993099204373,1.94185574852383,6.593689061540348,3.87568775314434,6.687589036996599,3.939582764586884,5.070662557702199,3.680554098019784,3.203767978324612],\"yaxis\":\"y\",\"type\":\"scatter\"},{\"marker\":{\"color\":[0,2,1],\"colorscale\":[[0.0,\"blue\"],[0.5,\"red\"],[1.0,\"green\"]],\"size\":12,\"symbol\":\"x-open\"},\"mode\":\"markers\",\"name\":\"prototypes\",\"x\":[-7.109552810057596,5.9874024420853305,0.12800782111610085],\"y\":[-6.709517958537973,9.001780713802063,1.2416165181585397],\"type\":\"scatter\"},{\"marker\":{\"color\":[0,2,1,0,0,1,2,1,0,0,1,0,0,1,1,1,1,0,0,1,0,1,0,2,0,1,2,1,2,0,1,0,2,0,2,0,1,0,1,1,0,1,2,1,1,2,2,2,1,0,0,1,1,0,1,0,1,2,1,1,2,1,2,1,1,0,0,1,1,1,1,2,2,2,0,0,2,2,1,2,0,1,0,2,0,2,0,1,0,1,2,2,2,0,0,1,0,0,2,2],\"colorscale\":[[0.0,\"blue\"],[0.5,\"red\"],[1.0,\"green\"]],\"size\":9,\"symbol\":\"circle-open\"},\"mode\":\"markers\",\"name\":\"assigned category\",\"x\":[-7.109552810057596,5.9874024420853305,0.12800782111610085,-3.4197520600643636,-11.5830540105627,-0.018627715556959044,9.678303774374637,-0.23733747553109175,-10.740186108080692,-2.593924198061167,-2.030393553778298,-4.064846609597879,-5.419747143585888,3.9405809493734463,3.7744376991223416,0.3882504142848946,1.0697983584569932,-8.698910041246855,-5.388217188950073,1.1545138937212744,-5.614010127711966,0.1334970410228064,-3.427346877617126,9.006523905410972,-17.662951007170847,-1.2209019198961333,4.008411511084965,6.575314457421722,6.149455587899874,-8.712850717364606,-1.2356366241061225,-8.29883368197082,5.340843694311273,-8.593643553225927,7.0335951082066375,-8.0665916991926,-2.4747278311698806,-9.839984720908866,1.094653079198753,-0.43089005538560166,-9.01333917438989,-0.7254334803985123,8.130840363165332,0.5587132048474234,6.181433546057293,4.747170993028246,7.809056973517464,7.707926743312776,-1.8074099510149795,-8.411540416028874,-2.740741834994699,-0.7959146932233903,2.109855475652514,-8.364314953943502,3.42754134474525,-6.61802740759715,-1.5672500002600298,4.775231164631773,4.858935409794105,-0.34903539298253017,5.048201226180942,-1.0705854991525032,4.769782871170975,5.686962371543834,0.5935881147911207,-12.493141783340988,-11.255459013450729,1.729417429210297,0.4457809586531427,-0.7160257975174191,-0.587220312328312,5.53619089360479,10.039301284190708,5.916311543638355,-7.200824298078203,-6.330965925929839,8.840684610318593,6.5663718435609795,-0.05394784919048745,6.836762045237343,-0.0498274720298415,0.561951672422086,-6.672360394487658,6.480913560829175,-8.759842709255462,4.2596816199246845,-10.099723498432347,0.6469572699189694,-7.6647920605205915,0.6478297974098579,10.092665552729521,6.182069023154669,6.276029310016074,-7.42508303778698,-1.5040881641701267,-0.511128992552914,-8.181439790478121,-2.0705302629673596,6.16992811564178,8.983044692655723],\"y\":[-6.709517958537973,9.001780713802063,1.2416165181585397,-5.373879251951787,-3.216674184510385,0.48352878740830696,10.631717194500904,0.885339675170791,-6.411299798845082,-5.027501347783377,-0.9607751102139338,-4.647567200273876,-3.6642354273967164,3.939582764586884,2.721407505366034,-0.3871271811779628,0.1665195100182666,-5.698766269269956,-8.12839054787305,-5.126980298976021,-9.726985406728982,-1.2892611938117313,-5.501826586548332,7.81663743268094,-7.943681005145219,0.059615433090329545,6.687589036996599,2.4103859293553556,4.743498386391799,-5.14712985111985,-0.1407864421846237,-6.218908667761217,7.794299494372734,-7.474929674917517,5.134847247700244,-6.378143332871425,-2.580853872694103,-5.245409531773599,0.6396923552031146,-0.540270263790554,-9.488220501282187,-0.0349433855520906,4.2552486773411395,-0.4783646604432103,1.5651647779266966,5.0159122137151435,2.2686976550303237,9.173733086132563,-3.3325243611150266,-9.828944086811628,-7.039983508195127,0.07274552915143462,3.680554098019784,-7.032834735576948,3.712556347325746,-2.4607453934125143,-3.761218689362217,8.79993099204373,1.94185574852383,0.2528250912215497,6.593689061540348,0.37086997203026,3.87568775314434,1.455511770758287,2.0708785257760858,-4.706649095459656,-4.230755239000831,0.6940522720694241,-0.782709043447464,0.7314657358201054,1.9108268513563658,5.070662557702199,6.652524545897313,5.454528927727748,-1.6837013158861627,-7.254001353647695,5.360819718134216,5.871279656221559,1.3151672242748802,4.215187330673151,-8.23660136880073,-0.29382123783761,-2.181446381466868,6.906075573549749,-5.02717104946277,5.520735853069058,-4.2013231083183715,5.139798785845975,-4.550684683521101,-0.5603734188841619,7.333975699183396,7.570864494154181,7.879005708390844,-9.486282073906917,-6.263828465601802,-0.12284340561303929,-9.092954631165936,-8.202135260222951,8.195558975081262,3.203767978324612],\"type\":\"scatter\"}],                        {\"height\":500,\"legend\":{\"title\":{\"text\":\"category\"},\"tracegroupgap\":0},\"margin\":{\"t\":60},\"template\":{\"data\":{\"barpolar\":[{\"marker\":{\"line\":{\"color\":\"#E5ECF6\",\"width\":0.5},\"pattern\":{\"fillmode\":\"overlay\",\"size\":10,\"solidity\":0.2}},\"type\":\"barpolar\"}],\"bar\":[{\"error_x\":{\"color\":\"#2a3f5f\"},\"error_y\":{\"color\":\"#2a3f5f\"},\"marker\":{\"line\":{\"color\":\"#E5ECF6\",\"width\":0.5},\"pattern\":{\"fillmode\":\"overlay\",\"size\":10,\"solidity\":0.2}},\"type\":\"bar\"}],\"carpet\":[{\"aaxis\":{\"endlinecolor\":\"#2a3f5f\",\"gridcolor\":\"white\",\"linecolor\":\"white\",\"minorgridcolor\":\"white\",\"startlinecolor\":\"#2a3f5f\"},\"baxis\":{\"endlinecolor\":\"#2a3f5f\",\"gridcolor\":\"white\",\"linecolor\":\"white\",\"minorgridcolor\":\"white\",\"startlinecolor\":\"#2a3f5f\"},\"type\":\"carpet\"}],\"choropleth\":[{\"colorbar\":{\"outlinewidth\":0,\"ticks\":\"\"},\"type\":\"choropleth\"}],\"contourcarpet\":[{\"colorbar\":{\"outlinewidth\":0,\"ticks\":\"\"},\"type\":\"contourcarpet\"}],\"contour\":[{\"colorbar\":{\"outlinewidth\":0,\"ticks\":\"\"},\"colorscale\":[[0.0,\"#0d0887\"],[0.1111111111111111,\"#46039f\"],[0.2222222222222222,\"#7201a8\"],[0.3333333333333333,\"#9c179e\"],[0.4444444444444444,\"#bd3786\"],[0.5555555555555556,\"#d8576b\"],[0.6666666666666666,\"#ed7953\"],[0.7777777777777778,\"#fb9f3a\"],[0.8888888888888888,\"#fdca26\"],[1.0,\"#f0f921\"]],\"type\":\"contour\"}],\"heatmapgl\":[{\"colorbar\":{\"outlinewidth\":0,\"ticks\":\"\"},\"colorscale\":[[0.0,\"#0d0887\"],[0.1111111111111111,\"#46039f\"],[0.2222222222222222,\"#7201a8\"],[0.3333333333333333,\"#9c179e\"],[0.4444444444444444,\"#bd3786\"],[0.5555555555555556,\"#d8576b\"],[0.6666666666666666,\"#ed7953\"],[0.7777777777777778,\"#fb9f3a\"],[0.8888888888888888,\"#fdca26\"],[1.0,\"#f0f921\"]],\"type\":\"heatmapgl\"}],\"heatmap\":[{\"colorbar\":{\"outlinewidth\":0,\"ticks\":\"\"},\"colorscale\":[[0.0,\"#0d0887\"],[0.1111111111111111,\"#46039f\"],[0.2222222222222222,\"#7201a8\"],[0.3333333333333333,\"#9c179e\"],[0.4444444444444444,\"#bd3786\"],[0.5555555555555556,\"#d8576b\"],[0.6666666666666666,\"#ed7953\"],[0.7777777777777778,\"#fb9f3a\"],[0.8888888888888888,\"#fdca26\"],[1.0,\"#f0f921\"]],\"type\":\"heatmap\"}],\"histogram2dcontour\":[{\"colorbar\":{\"outlinewidth\":0,\"ticks\":\"\"},\"colorscale\":[[0.0,\"#0d0887\"],[0.1111111111111111,\"#46039f\"],[0.2222222222222222,\"#7201a8\"],[0.3333333333333333,\"#9c179e\"],[0.4444444444444444,\"#bd3786\"],[0.5555555555555556,\"#d8576b\"],[0.6666666666666666,\"#ed7953\"],[0.7777777777777778,\"#fb9f3a\"],[0.8888888888888888,\"#fdca26\"],[1.0,\"#f0f921\"]],\"type\":\"histogram2dcontour\"}],\"histogram2d\":[{\"colorbar\":{\"outlinewidth\":0,\"ticks\":\"\"},\"colorscale\":[[0.0,\"#0d0887\"],[0.1111111111111111,\"#46039f\"],[0.2222222222222222,\"#7201a8\"],[0.3333333333333333,\"#9c179e\"],[0.4444444444444444,\"#bd3786\"],[0.5555555555555556,\"#d8576b\"],[0.6666666666666666,\"#ed7953\"],[0.7777777777777778,\"#fb9f3a\"],[0.8888888888888888,\"#fdca26\"],[1.0,\"#f0f921\"]],\"type\":\"histogram2d\"}],\"histogram\":[{\"marker\":{\"pattern\":{\"fillmode\":\"overlay\",\"size\":10,\"solidity\":0.2}},\"type\":\"histogram\"}],\"mesh3d\":[{\"colorbar\":{\"outlinewidth\":0,\"ticks\":\"\"},\"type\":\"mesh3d\"}],\"parcoords\":[{\"line\":{\"colorbar\":{\"outlinewidth\":0,\"ticks\":\"\"}},\"type\":\"parcoords\"}],\"pie\":[{\"automargin\":true,\"type\":\"pie\"}],\"scatter3d\":[{\"line\":{\"colorbar\":{\"outlinewidth\":0,\"ticks\":\"\"}},\"marker\":{\"colorbar\":{\"outlinewidth\":0,\"ticks\":\"\"}},\"type\":\"scatter3d\"}],\"scattercarpet\":[{\"marker\":{\"colorbar\":{\"outlinewidth\":0,\"ticks\":\"\"}},\"type\":\"scattercarpet\"}],\"scattergeo\":[{\"marker\":{\"colorbar\":{\"outlinewidth\":0,\"ticks\":\"\"}},\"type\":\"scattergeo\"}],\"scattergl\":[{\"marker\":{\"colorbar\":{\"outlinewidth\":0,\"ticks\":\"\"}},\"type\":\"scattergl\"}],\"scattermapbox\":[{\"marker\":{\"colorbar\":{\"outlinewidth\":0,\"ticks\":\"\"}},\"type\":\"scattermapbox\"}],\"scatterpolargl\":[{\"marker\":{\"colorbar\":{\"outlinewidth\":0,\"ticks\":\"\"}},\"type\":\"scatterpolargl\"}],\"scatterpolar\":[{\"marker\":{\"colorbar\":{\"outlinewidth\":0,\"ticks\":\"\"}},\"type\":\"scatterpolar\"}],\"scatter\":[{\"marker\":{\"colorbar\":{\"outlinewidth\":0,\"ticks\":\"\"}},\"type\":\"scatter\"}],\"scatterternary\":[{\"marker\":{\"colorbar\":{\"outlinewidth\":0,\"ticks\":\"\"}},\"type\":\"scatterternary\"}],\"surface\":[{\"colorbar\":{\"outlinewidth\":0,\"ticks\":\"\"},\"colorscale\":[[0.0,\"#0d0887\"],[0.1111111111111111,\"#46039f\"],[0.2222222222222222,\"#7201a8\"],[0.3333333333333333,\"#9c179e\"],[0.4444444444444444,\"#bd3786\"],[0.5555555555555556,\"#d8576b\"],[0.6666666666666666,\"#ed7953\"],[0.7777777777777778,\"#fb9f3a\"],[0.8888888888888888,\"#fdca26\"],[1.0,\"#f0f921\"]],\"type\":\"surface\"}],\"table\":[{\"cells\":{\"fill\":{\"color\":\"#EBF0F8\"},\"line\":{\"color\":\"white\"}},\"header\":{\"fill\":{\"color\":\"#C8D4E3\"},\"line\":{\"color\":\"white\"}},\"type\":\"table\"}]},\"layout\":{\"annotationdefaults\":{\"arrowcolor\":\"#2a3f5f\",\"arrowhead\":0,\"arrowwidth\":1},\"autotypenumbers\":\"strict\",\"coloraxis\":{\"colorbar\":{\"outlinewidth\":0,\"ticks\":\"\"}},\"colorscale\":{\"diverging\":[[0,\"#8e0152\"],[0.1,\"#c51b7d\"],[0.2,\"#de77ae\"],[0.3,\"#f1b6da\"],[0.4,\"#fde0ef\"],[0.5,\"#f7f7f7\"],[0.6,\"#e6f5d0\"],[0.7,\"#b8e186\"],[0.8,\"#7fbc41\"],[0.9,\"#4d9221\"],[1,\"#276419\"]],\"sequential\":[[0.0,\"#0d0887\"],[0.1111111111111111,\"#46039f\"],[0.2222222222222222,\"#7201a8\"],[0.3333333333333333,\"#9c179e\"],[0.4444444444444444,\"#bd3786\"],[0.5555555555555556,\"#d8576b\"],[0.6666666666666666,\"#ed7953\"],[0.7777777777777778,\"#fb9f3a\"],[0.8888888888888888,\"#fdca26\"],[1.0,\"#f0f921\"]],\"sequentialminus\":[[0.0,\"#0d0887\"],[0.1111111111111111,\"#46039f\"],[0.2222222222222222,\"#7201a8\"],[0.3333333333333333,\"#9c179e\"],[0.4444444444444444,\"#bd3786\"],[0.5555555555555556,\"#d8576b\"],[0.6666666666666666,\"#ed7953\"],[0.7777777777777778,\"#fb9f3a\"],[0.8888888888888888,\"#fdca26\"],[1.0,\"#f0f921\"]]},\"colorway\":[\"#636efa\",\"#EF553B\",\"#00cc96\",\"#ab63fa\",\"#FFA15A\",\"#19d3f3\",\"#FF6692\",\"#B6E880\",\"#FF97FF\",\"#FECB52\"],\"font\":{\"color\":\"#2a3f5f\"},\"geo\":{\"bgcolor\":\"white\",\"lakecolor\":\"white\",\"landcolor\":\"#E5ECF6\",\"showlakes\":true,\"showland\":true,\"subunitcolor\":\"white\"},\"hoverlabel\":{\"align\":\"left\"},\"hovermode\":\"closest\",\"mapbox\":{\"style\":\"light\"},\"paper_bgcolor\":\"white\",\"plot_bgcolor\":\"#E5ECF6\",\"polar\":{\"angularaxis\":{\"gridcolor\":\"white\",\"linecolor\":\"white\",\"ticks\":\"\"},\"bgcolor\":\"#E5ECF6\",\"radialaxis\":{\"gridcolor\":\"white\",\"linecolor\":\"white\",\"ticks\":\"\"}},\"scene\":{\"xaxis\":{\"backgroundcolor\":\"#E5ECF6\",\"gridcolor\":\"white\",\"gridwidth\":2,\"linecolor\":\"white\",\"showbackground\":true,\"ticks\":\"\",\"zerolinecolor\":\"white\"},\"yaxis\":{\"backgroundcolor\":\"#E5ECF6\",\"gridcolor\":\"white\",\"gridwidth\":2,\"linecolor\":\"white\",\"showbackground\":true,\"ticks\":\"\",\"zerolinecolor\":\"white\"},\"zaxis\":{\"backgroundcolor\":\"#E5ECF6\",\"gridcolor\":\"white\",\"gridwidth\":2,\"linecolor\":\"white\",\"showbackground\":true,\"ticks\":\"\",\"zerolinecolor\":\"white\"}},\"shapedefaults\":{\"line\":{\"color\":\"#2a3f5f\"}},\"ternary\":{\"aaxis\":{\"gridcolor\":\"white\",\"linecolor\":\"white\",\"ticks\":\"\"},\"baxis\":{\"gridcolor\":\"white\",\"linecolor\":\"white\",\"ticks\":\"\"},\"bgcolor\":\"#E5ECF6\",\"caxis\":{\"gridcolor\":\"white\",\"linecolor\":\"white\",\"ticks\":\"\"}},\"title\":{\"x\":0.05},\"xaxis\":{\"automargin\":true,\"gridcolor\":\"white\",\"linecolor\":\"white\",\"ticks\":\"\",\"title\":{\"standoff\":15},\"zerolinecolor\":\"white\",\"zerolinewidth\":2},\"yaxis\":{\"automargin\":true,\"gridcolor\":\"white\",\"linecolor\":\"white\",\"ticks\":\"\",\"title\":{\"standoff\":15},\"zerolinecolor\":\"white\",\"zerolinewidth\":2}}},\"width\":600,\"xaxis\":{\"anchor\":\"y\",\"domain\":[0.0,1.0],\"title\":{\"text\":\"feature1\"}},\"yaxis\":{\"anchor\":\"x\",\"domain\":[0.0,1.0],\"title\":{\"text\":\"feature2\"}}},                        {\"responsive\": true}                    ).then(function(){\n",
              "                            \n",
              "var gd = document.getElementById('0df3e53a-c341-46bb-9782-c669c9c3d657');\n",
              "var x = new MutationObserver(function (mutations, observer) {{\n",
              "        var display = window.getComputedStyle(gd).display;\n",
              "        if (!display || display === 'none') {{\n",
              "            console.log([gd, 'removed!']);\n",
              "            Plotly.purge(gd);\n",
              "            observer.disconnect();\n",
              "        }}\n",
              "}});\n",
              "\n",
              "// Listen for the removal of the full notebook cells\n",
              "var notebookContainer = gd.closest('#notebook-container');\n",
              "if (notebookContainer) {{\n",
              "    x.observe(notebookContainer, {childList: true});\n",
              "}}\n",
              "\n",
              "// Listen for the clearing of the current output cell\n",
              "var outputEl = gd.closest('.output');\n",
              "if (outputEl) {{\n",
              "    x.observe(outputEl, {childList: true});\n",
              "}}\n",
              "\n",
              "                        })                };                            </script>        </div>\n",
              "</body>\n",
              "</html>"
            ]
          },
          "metadata": {}
        }
      ]
    },
    {
      "cell_type": "markdown",
      "source": [
        "### Update des Prototypen"
      ],
      "metadata": {
        "id": "h-TgqzcI8joe"
      }
    },
    {
      "cell_type": "markdown",
      "source": [
        "Auswahl eines Trainingsdatenpunkt"
      ],
      "metadata": {
        "id": "LRFzM3Ay9FVp"
      }
    },
    {
      "cell_type": "code",
      "source": [
        "train_sample = train_data.loc[169] #30"
      ],
      "metadata": {
        "id": "ykUCUqw6ShQf"
      },
      "execution_count": 13,
      "outputs": []
    },
    {
      "cell_type": "markdown",
      "source": [
        "Bestimmung des nächsten Prototyp"
      ],
      "metadata": {
        "id": "Gpn6KxHI9Jpt"
      }
    },
    {
      "cell_type": "code",
      "source": [
        "distances = distance_fn(train_sample[features], prototypes[features])\n",
        "nearest_prototype = np.argmin(distances)"
      ],
      "metadata": {
        "id": "WEljdESe9CXc"
      },
      "execution_count": 14,
      "outputs": []
    },
    {
      "cell_type": "code",
      "source": [
        "#@title Visualisierung\n",
        "\n",
        "def add_vector(fig, start, end, color='gray', size=1):\n",
        "    fig.add_annotation(\n",
        "        x=end[0],  # arrows' head\n",
        "        y=end[1],  # arrows' head\n",
        "        ax=start[0],  # arrows' tail\n",
        "        ay=start[1],  # arrows' tail\n",
        "        xref='x',\n",
        "        yref='y',\n",
        "        axref='x',\n",
        "        ayref='y',\n",
        "        text='',  # if you want only the arrow\n",
        "        showarrow=True,\n",
        "        arrowhead=2,\n",
        "        arrowsize=1,\n",
        "        arrowwidth=size,\n",
        "        arrowcolor=color\n",
        "    )\n",
        "    return fig\n",
        "\n",
        "fig_update = go.Figure(fig_classification)\n",
        "add_vector(start =[0,0], end = train_sample[features], fig= fig_update)\n",
        "add_vector(start = [0,0], end = prototypes.loc[nearest_prototype, features], fig = fig_update)"
      ],
      "metadata": {
        "colab": {
          "base_uri": "https://localhost:8080/",
          "height": 517
        },
        "cellView": "form",
        "id": "1oiU6Kka8x2t",
        "outputId": "4d709b8c-e112-46ff-9c6e-4c386e9de381"
      },
      "execution_count": 15,
      "outputs": [
        {
          "output_type": "display_data",
          "data": {
            "text/html": [
              "<html>\n",
              "<head><meta charset=\"utf-8\" /></head>\n",
              "<body>\n",
              "    <div>            <script src=\"https://cdnjs.cloudflare.com/ajax/libs/mathjax/2.7.5/MathJax.js?config=TeX-AMS-MML_SVG\"></script><script type=\"text/javascript\">if (window.MathJax) {MathJax.Hub.Config({SVG: {font: \"STIX-Web\"}});}</script>                <script type=\"text/javascript\">window.PlotlyConfig = {MathJaxConfig: 'local'};</script>\n",
              "        <script src=\"https://cdn.plot.ly/plotly-2.8.3.min.js\"></script>                <div id=\"10d3daca-0822-4e97-9d4e-150c22705a45\" class=\"plotly-graph-div\" style=\"height:500px; width:600px;\"></div>            <script type=\"text/javascript\">                                    window.PLOTLYENV=window.PLOTLYENV || {};                                    if (document.getElementById(\"10d3daca-0822-4e97-9d4e-150c22705a45\")) {                    Plotly.newPlot(                        \"10d3daca-0822-4e97-9d4e-150c22705a45\",                        [{\"hovertemplate\":\"category=cat_0<br>feature1=%{x}<br>feature2=%{y}<extra></extra>\",\"legendgroup\":\"cat_0\",\"marker\":{\"color\":\"#636efa\",\"symbol\":\"circle\"},\"mode\":\"markers\",\"name\":\"cat_0\",\"orientation\":\"v\",\"showlegend\":true,\"x\":[-7.109552810057596,-8.593643553225927,-8.0665916991926,-2.4747278311698806,-9.839984720908866,-9.01333917438989,-1.8074099510149795,-2.740741834994699,-8.364314953943502,-6.61802740759715,-1.5672500002600298,-12.493141783340988,-11.255459013450729,-7.200824298078203,-6.330965925929839,-0.0498274720298415,-6.672360394487658,-8.759842709255462,-10.099723498432347,-7.6647920605205915,-7.42508303778698,-1.5040881641701267,-8.181439790478121,-2.0705302629673596,-8.29883368197082,-8.712850717364606,-8.411540416028874,-2.593924198061167,-5.388217188950073,-10.740186108080692,-11.5830540105627,1.1545138937212744,-8.698910041246855,-5.614010127711966,-5.419747143585888,-4.064846609597879,-3.4197520600643636,-17.662951007170847,-3.427346877617126],\"xaxis\":\"x\",\"y\":[-6.709517958537973,-7.474929674917517,-6.378143332871425,-2.580853872694103,-5.245409531773599,-9.488220501282187,-3.3325243611150266,-7.039983508195127,-7.032834735576948,-2.4607453934125143,-3.761218689362217,-4.706649095459656,-4.230755239000831,-1.6837013158861627,-7.254001353647695,-8.23660136880073,-2.181446381466868,-5.02717104946277,-4.2013231083183715,-4.550684683521101,-9.486282073906917,-6.263828465601802,-9.092954631165936,-8.202135260222951,-6.218908667761217,-5.14712985111985,-9.828944086811628,-5.027501347783377,-8.12839054787305,-6.411299798845082,-3.216674184510385,-5.126980298976021,-5.698766269269956,-9.726985406728982,-3.6642354273967164,-4.647567200273876,-5.373879251951787,-7.943681005145219,-5.501826586548332],\"yaxis\":\"y\",\"type\":\"scatter\"},{\"hovertemplate\":\"category=cat_1<br>feature1=%{x}<br>feature2=%{y}<extra></extra>\",\"legendgroup\":\"cat_1\",\"marker\":{\"color\":\"#EF553B\",\"symbol\":\"circle\"},\"mode\":\"markers\",\"name\":\"cat_1\",\"orientation\":\"v\",\"showlegend\":true,\"x\":[1.729417429210297,0.5935881147911207,0.4457809586531427,0.561951672422086,-0.7160257975174191,-1.0705854991525032,-0.587220312328312,-0.34903539298253017,-0.23733747553109175,0.3882504142848946,-0.05394784919048745,1.0697983584569932,-0.7959146932233903,-2.030393553778298,-0.018627715556959044,-1.2209019198961333,-1.2356366241061225,0.12800782111610085,-0.511128992552914,0.1334970410228064,-0.43089005538560166,-0.7254334803985123,1.094653079198753,0.6478297974098579,0.5587132048474234],\"xaxis\":\"x\",\"y\":[0.6940522720694241,2.0708785257760858,-0.782709043447464,-0.29382123783761,0.7314657358201054,0.37086997203026,1.9108268513563658,0.2528250912215497,0.885339675170791,-0.3871271811779628,1.3151672242748802,0.1665195100182666,0.07274552915143462,-0.9607751102139338,0.48352878740830696,0.059615433090329545,-0.1407864421846237,1.2416165181585397,-0.12284340561303929,-1.2892611938117313,-0.540270263790554,-0.0349433855520906,0.6396923552031146,-0.5603734188841619,-0.4783646604432103],\"yaxis\":\"y\",\"type\":\"scatter\"},{\"hovertemplate\":\"category=cat_2<br>feature1=%{x}<br>feature2=%{y}<extra></extra>\",\"legendgroup\":\"cat_2\",\"marker\":{\"color\":\"#00cc96\",\"symbol\":\"circle\"},\"mode\":\"markers\",\"name\":\"cat_2\",\"orientation\":\"v\",\"showlegend\":true,\"x\":[6.276029310016074,6.182069023154669,0.6469572699189694,6.836762045237343,6.480913560829175,10.092665552729521,4.2596816199246845,9.678303774374637,5.9874024420853305,6.5663718435609795,8.840684610318593,6.575314457421722,5.686962371543834,10.039301284190708,6.149455587899874,5.340843694311273,9.006523905410972,7.0335951082066375,8.130840363165332,6.181433546057293,4.747170993028246,7.809056973517464,7.707926743312776,5.916311543638355,6.16992811564178,3.42754134474525,3.7744376991223416,4.775231164631773,4.858935409794105,5.048201226180942,4.769782871170975,4.008411511084965,3.9405809493734463,5.53619089360479,2.109855475652514,8.983044692655723],\"xaxis\":\"x\",\"y\":[7.879005708390844,7.570864494154181,5.139798785845975,4.215187330673151,6.906075573549749,7.333975699183396,5.520735853069058,10.631717194500904,9.001780713802063,5.871279656221559,5.360819718134216,2.4103859293553556,1.455511770758287,6.652524545897313,4.743498386391799,7.794299494372734,7.81663743268094,5.134847247700244,4.2552486773411395,1.5651647779266966,5.0159122137151435,2.2686976550303237,9.173733086132563,5.454528927727748,8.195558975081262,3.712556347325746,2.721407505366034,8.79993099204373,1.94185574852383,6.593689061540348,3.87568775314434,6.687589036996599,3.939582764586884,5.070662557702199,3.680554098019784,3.203767978324612],\"yaxis\":\"y\",\"type\":\"scatter\"},{\"marker\":{\"color\":[0,2,1],\"colorscale\":[[0.0,\"blue\"],[0.5,\"red\"],[1.0,\"green\"]],\"size\":12,\"symbol\":\"x-open\"},\"mode\":\"markers\",\"name\":\"prototypes\",\"x\":[-7.109552810057596,5.9874024420853305,0.12800782111610085],\"y\":[-6.709517958537973,9.001780713802063,1.2416165181585397],\"type\":\"scatter\"},{\"marker\":{\"color\":[0,2,1,0,0,1,2,1,0,0,1,0,0,1,1,1,1,0,0,1,0,1,0,2,0,1,2,1,2,0,1,0,2,0,2,0,1,0,1,1,0,1,2,1,1,2,2,2,1,0,0,1,1,0,1,0,1,2,1,1,2,1,2,1,1,0,0,1,1,1,1,2,2,2,0,0,2,2,1,2,0,1,0,2,0,2,0,1,0,1,2,2,2,0,0,1,0,0,2,2],\"colorscale\":[[0.0,\"blue\"],[0.5,\"red\"],[1.0,\"green\"]],\"size\":9,\"symbol\":\"circle-open\"},\"mode\":\"markers\",\"name\":\"assigned category\",\"x\":[-7.109552810057596,5.9874024420853305,0.12800782111610085,-3.4197520600643636,-11.5830540105627,-0.018627715556959044,9.678303774374637,-0.23733747553109175,-10.740186108080692,-2.593924198061167,-2.030393553778298,-4.064846609597879,-5.419747143585888,3.9405809493734463,3.7744376991223416,0.3882504142848946,1.0697983584569932,-8.698910041246855,-5.388217188950073,1.1545138937212744,-5.614010127711966,0.1334970410228064,-3.427346877617126,9.006523905410972,-17.662951007170847,-1.2209019198961333,4.008411511084965,6.575314457421722,6.149455587899874,-8.712850717364606,-1.2356366241061225,-8.29883368197082,5.340843694311273,-8.593643553225927,7.0335951082066375,-8.0665916991926,-2.4747278311698806,-9.839984720908866,1.094653079198753,-0.43089005538560166,-9.01333917438989,-0.7254334803985123,8.130840363165332,0.5587132048474234,6.181433546057293,4.747170993028246,7.809056973517464,7.707926743312776,-1.8074099510149795,-8.411540416028874,-2.740741834994699,-0.7959146932233903,2.109855475652514,-8.364314953943502,3.42754134474525,-6.61802740759715,-1.5672500002600298,4.775231164631773,4.858935409794105,-0.34903539298253017,5.048201226180942,-1.0705854991525032,4.769782871170975,5.686962371543834,0.5935881147911207,-12.493141783340988,-11.255459013450729,1.729417429210297,0.4457809586531427,-0.7160257975174191,-0.587220312328312,5.53619089360479,10.039301284190708,5.916311543638355,-7.200824298078203,-6.330965925929839,8.840684610318593,6.5663718435609795,-0.05394784919048745,6.836762045237343,-0.0498274720298415,0.561951672422086,-6.672360394487658,6.480913560829175,-8.759842709255462,4.2596816199246845,-10.099723498432347,0.6469572699189694,-7.6647920605205915,0.6478297974098579,10.092665552729521,6.182069023154669,6.276029310016074,-7.42508303778698,-1.5040881641701267,-0.511128992552914,-8.181439790478121,-2.0705302629673596,6.16992811564178,8.983044692655723],\"y\":[-6.709517958537973,9.001780713802063,1.2416165181585397,-5.373879251951787,-3.216674184510385,0.48352878740830696,10.631717194500904,0.885339675170791,-6.411299798845082,-5.027501347783377,-0.9607751102139338,-4.647567200273876,-3.6642354273967164,3.939582764586884,2.721407505366034,-0.3871271811779628,0.1665195100182666,-5.698766269269956,-8.12839054787305,-5.126980298976021,-9.726985406728982,-1.2892611938117313,-5.501826586548332,7.81663743268094,-7.943681005145219,0.059615433090329545,6.687589036996599,2.4103859293553556,4.743498386391799,-5.14712985111985,-0.1407864421846237,-6.218908667761217,7.794299494372734,-7.474929674917517,5.134847247700244,-6.378143332871425,-2.580853872694103,-5.245409531773599,0.6396923552031146,-0.540270263790554,-9.488220501282187,-0.0349433855520906,4.2552486773411395,-0.4783646604432103,1.5651647779266966,5.0159122137151435,2.2686976550303237,9.173733086132563,-3.3325243611150266,-9.828944086811628,-7.039983508195127,0.07274552915143462,3.680554098019784,-7.032834735576948,3.712556347325746,-2.4607453934125143,-3.761218689362217,8.79993099204373,1.94185574852383,0.2528250912215497,6.593689061540348,0.37086997203026,3.87568775314434,1.455511770758287,2.0708785257760858,-4.706649095459656,-4.230755239000831,0.6940522720694241,-0.782709043447464,0.7314657358201054,1.9108268513563658,5.070662557702199,6.652524545897313,5.454528927727748,-1.6837013158861627,-7.254001353647695,5.360819718134216,5.871279656221559,1.3151672242748802,4.215187330673151,-8.23660136880073,-0.29382123783761,-2.181446381466868,6.906075573549749,-5.02717104946277,5.520735853069058,-4.2013231083183715,5.139798785845975,-4.550684683521101,-0.5603734188841619,7.333975699183396,7.570864494154181,7.879005708390844,-9.486282073906917,-6.263828465601802,-0.12284340561303929,-9.092954631165936,-8.202135260222951,8.195558975081262,3.203767978324612],\"type\":\"scatter\"}],                        {\"height\":500,\"legend\":{\"title\":{\"text\":\"category\"},\"tracegroupgap\":0},\"margin\":{\"t\":60},\"template\":{\"data\":{\"barpolar\":[{\"marker\":{\"line\":{\"color\":\"#E5ECF6\",\"width\":0.5},\"pattern\":{\"fillmode\":\"overlay\",\"size\":10,\"solidity\":0.2}},\"type\":\"barpolar\"}],\"bar\":[{\"error_x\":{\"color\":\"#2a3f5f\"},\"error_y\":{\"color\":\"#2a3f5f\"},\"marker\":{\"line\":{\"color\":\"#E5ECF6\",\"width\":0.5},\"pattern\":{\"fillmode\":\"overlay\",\"size\":10,\"solidity\":0.2}},\"type\":\"bar\"}],\"carpet\":[{\"aaxis\":{\"endlinecolor\":\"#2a3f5f\",\"gridcolor\":\"white\",\"linecolor\":\"white\",\"minorgridcolor\":\"white\",\"startlinecolor\":\"#2a3f5f\"},\"baxis\":{\"endlinecolor\":\"#2a3f5f\",\"gridcolor\":\"white\",\"linecolor\":\"white\",\"minorgridcolor\":\"white\",\"startlinecolor\":\"#2a3f5f\"},\"type\":\"carpet\"}],\"choropleth\":[{\"colorbar\":{\"outlinewidth\":0,\"ticks\":\"\"},\"type\":\"choropleth\"}],\"contourcarpet\":[{\"colorbar\":{\"outlinewidth\":0,\"ticks\":\"\"},\"type\":\"contourcarpet\"}],\"contour\":[{\"colorbar\":{\"outlinewidth\":0,\"ticks\":\"\"},\"colorscale\":[[0.0,\"#0d0887\"],[0.1111111111111111,\"#46039f\"],[0.2222222222222222,\"#7201a8\"],[0.3333333333333333,\"#9c179e\"],[0.4444444444444444,\"#bd3786\"],[0.5555555555555556,\"#d8576b\"],[0.6666666666666666,\"#ed7953\"],[0.7777777777777778,\"#fb9f3a\"],[0.8888888888888888,\"#fdca26\"],[1.0,\"#f0f921\"]],\"type\":\"contour\"}],\"heatmapgl\":[{\"colorbar\":{\"outlinewidth\":0,\"ticks\":\"\"},\"colorscale\":[[0.0,\"#0d0887\"],[0.1111111111111111,\"#46039f\"],[0.2222222222222222,\"#7201a8\"],[0.3333333333333333,\"#9c179e\"],[0.4444444444444444,\"#bd3786\"],[0.5555555555555556,\"#d8576b\"],[0.6666666666666666,\"#ed7953\"],[0.7777777777777778,\"#fb9f3a\"],[0.8888888888888888,\"#fdca26\"],[1.0,\"#f0f921\"]],\"type\":\"heatmapgl\"}],\"heatmap\":[{\"colorbar\":{\"outlinewidth\":0,\"ticks\":\"\"},\"colorscale\":[[0.0,\"#0d0887\"],[0.1111111111111111,\"#46039f\"],[0.2222222222222222,\"#7201a8\"],[0.3333333333333333,\"#9c179e\"],[0.4444444444444444,\"#bd3786\"],[0.5555555555555556,\"#d8576b\"],[0.6666666666666666,\"#ed7953\"],[0.7777777777777778,\"#fb9f3a\"],[0.8888888888888888,\"#fdca26\"],[1.0,\"#f0f921\"]],\"type\":\"heatmap\"}],\"histogram2dcontour\":[{\"colorbar\":{\"outlinewidth\":0,\"ticks\":\"\"},\"colorscale\":[[0.0,\"#0d0887\"],[0.1111111111111111,\"#46039f\"],[0.2222222222222222,\"#7201a8\"],[0.3333333333333333,\"#9c179e\"],[0.4444444444444444,\"#bd3786\"],[0.5555555555555556,\"#d8576b\"],[0.6666666666666666,\"#ed7953\"],[0.7777777777777778,\"#fb9f3a\"],[0.8888888888888888,\"#fdca26\"],[1.0,\"#f0f921\"]],\"type\":\"histogram2dcontour\"}],\"histogram2d\":[{\"colorbar\":{\"outlinewidth\":0,\"ticks\":\"\"},\"colorscale\":[[0.0,\"#0d0887\"],[0.1111111111111111,\"#46039f\"],[0.2222222222222222,\"#7201a8\"],[0.3333333333333333,\"#9c179e\"],[0.4444444444444444,\"#bd3786\"],[0.5555555555555556,\"#d8576b\"],[0.6666666666666666,\"#ed7953\"],[0.7777777777777778,\"#fb9f3a\"],[0.8888888888888888,\"#fdca26\"],[1.0,\"#f0f921\"]],\"type\":\"histogram2d\"}],\"histogram\":[{\"marker\":{\"pattern\":{\"fillmode\":\"overlay\",\"size\":10,\"solidity\":0.2}},\"type\":\"histogram\"}],\"mesh3d\":[{\"colorbar\":{\"outlinewidth\":0,\"ticks\":\"\"},\"type\":\"mesh3d\"}],\"parcoords\":[{\"line\":{\"colorbar\":{\"outlinewidth\":0,\"ticks\":\"\"}},\"type\":\"parcoords\"}],\"pie\":[{\"automargin\":true,\"type\":\"pie\"}],\"scatter3d\":[{\"line\":{\"colorbar\":{\"outlinewidth\":0,\"ticks\":\"\"}},\"marker\":{\"colorbar\":{\"outlinewidth\":0,\"ticks\":\"\"}},\"type\":\"scatter3d\"}],\"scattercarpet\":[{\"marker\":{\"colorbar\":{\"outlinewidth\":0,\"ticks\":\"\"}},\"type\":\"scattercarpet\"}],\"scattergeo\":[{\"marker\":{\"colorbar\":{\"outlinewidth\":0,\"ticks\":\"\"}},\"type\":\"scattergeo\"}],\"scattergl\":[{\"marker\":{\"colorbar\":{\"outlinewidth\":0,\"ticks\":\"\"}},\"type\":\"scattergl\"}],\"scattermapbox\":[{\"marker\":{\"colorbar\":{\"outlinewidth\":0,\"ticks\":\"\"}},\"type\":\"scattermapbox\"}],\"scatterpolargl\":[{\"marker\":{\"colorbar\":{\"outlinewidth\":0,\"ticks\":\"\"}},\"type\":\"scatterpolargl\"}],\"scatterpolar\":[{\"marker\":{\"colorbar\":{\"outlinewidth\":0,\"ticks\":\"\"}},\"type\":\"scatterpolar\"}],\"scatter\":[{\"marker\":{\"colorbar\":{\"outlinewidth\":0,\"ticks\":\"\"}},\"type\":\"scatter\"}],\"scatterternary\":[{\"marker\":{\"colorbar\":{\"outlinewidth\":0,\"ticks\":\"\"}},\"type\":\"scatterternary\"}],\"surface\":[{\"colorbar\":{\"outlinewidth\":0,\"ticks\":\"\"},\"colorscale\":[[0.0,\"#0d0887\"],[0.1111111111111111,\"#46039f\"],[0.2222222222222222,\"#7201a8\"],[0.3333333333333333,\"#9c179e\"],[0.4444444444444444,\"#bd3786\"],[0.5555555555555556,\"#d8576b\"],[0.6666666666666666,\"#ed7953\"],[0.7777777777777778,\"#fb9f3a\"],[0.8888888888888888,\"#fdca26\"],[1.0,\"#f0f921\"]],\"type\":\"surface\"}],\"table\":[{\"cells\":{\"fill\":{\"color\":\"#EBF0F8\"},\"line\":{\"color\":\"white\"}},\"header\":{\"fill\":{\"color\":\"#C8D4E3\"},\"line\":{\"color\":\"white\"}},\"type\":\"table\"}]},\"layout\":{\"annotationdefaults\":{\"arrowcolor\":\"#2a3f5f\",\"arrowhead\":0,\"arrowwidth\":1},\"autotypenumbers\":\"strict\",\"coloraxis\":{\"colorbar\":{\"outlinewidth\":0,\"ticks\":\"\"}},\"colorscale\":{\"diverging\":[[0,\"#8e0152\"],[0.1,\"#c51b7d\"],[0.2,\"#de77ae\"],[0.3,\"#f1b6da\"],[0.4,\"#fde0ef\"],[0.5,\"#f7f7f7\"],[0.6,\"#e6f5d0\"],[0.7,\"#b8e186\"],[0.8,\"#7fbc41\"],[0.9,\"#4d9221\"],[1,\"#276419\"]],\"sequential\":[[0.0,\"#0d0887\"],[0.1111111111111111,\"#46039f\"],[0.2222222222222222,\"#7201a8\"],[0.3333333333333333,\"#9c179e\"],[0.4444444444444444,\"#bd3786\"],[0.5555555555555556,\"#d8576b\"],[0.6666666666666666,\"#ed7953\"],[0.7777777777777778,\"#fb9f3a\"],[0.8888888888888888,\"#fdca26\"],[1.0,\"#f0f921\"]],\"sequentialminus\":[[0.0,\"#0d0887\"],[0.1111111111111111,\"#46039f\"],[0.2222222222222222,\"#7201a8\"],[0.3333333333333333,\"#9c179e\"],[0.4444444444444444,\"#bd3786\"],[0.5555555555555556,\"#d8576b\"],[0.6666666666666666,\"#ed7953\"],[0.7777777777777778,\"#fb9f3a\"],[0.8888888888888888,\"#fdca26\"],[1.0,\"#f0f921\"]]},\"colorway\":[\"#636efa\",\"#EF553B\",\"#00cc96\",\"#ab63fa\",\"#FFA15A\",\"#19d3f3\",\"#FF6692\",\"#B6E880\",\"#FF97FF\",\"#FECB52\"],\"font\":{\"color\":\"#2a3f5f\"},\"geo\":{\"bgcolor\":\"white\",\"lakecolor\":\"white\",\"landcolor\":\"#E5ECF6\",\"showlakes\":true,\"showland\":true,\"subunitcolor\":\"white\"},\"hoverlabel\":{\"align\":\"left\"},\"hovermode\":\"closest\",\"mapbox\":{\"style\":\"light\"},\"paper_bgcolor\":\"white\",\"plot_bgcolor\":\"#E5ECF6\",\"polar\":{\"angularaxis\":{\"gridcolor\":\"white\",\"linecolor\":\"white\",\"ticks\":\"\"},\"bgcolor\":\"#E5ECF6\",\"radialaxis\":{\"gridcolor\":\"white\",\"linecolor\":\"white\",\"ticks\":\"\"}},\"scene\":{\"xaxis\":{\"backgroundcolor\":\"#E5ECF6\",\"gridcolor\":\"white\",\"gridwidth\":2,\"linecolor\":\"white\",\"showbackground\":true,\"ticks\":\"\",\"zerolinecolor\":\"white\"},\"yaxis\":{\"backgroundcolor\":\"#E5ECF6\",\"gridcolor\":\"white\",\"gridwidth\":2,\"linecolor\":\"white\",\"showbackground\":true,\"ticks\":\"\",\"zerolinecolor\":\"white\"},\"zaxis\":{\"backgroundcolor\":\"#E5ECF6\",\"gridcolor\":\"white\",\"gridwidth\":2,\"linecolor\":\"white\",\"showbackground\":true,\"ticks\":\"\",\"zerolinecolor\":\"white\"}},\"shapedefaults\":{\"line\":{\"color\":\"#2a3f5f\"}},\"ternary\":{\"aaxis\":{\"gridcolor\":\"white\",\"linecolor\":\"white\",\"ticks\":\"\"},\"baxis\":{\"gridcolor\":\"white\",\"linecolor\":\"white\",\"ticks\":\"\"},\"bgcolor\":\"#E5ECF6\",\"caxis\":{\"gridcolor\":\"white\",\"linecolor\":\"white\",\"ticks\":\"\"}},\"title\":{\"x\":0.05},\"xaxis\":{\"automargin\":true,\"gridcolor\":\"white\",\"linecolor\":\"white\",\"ticks\":\"\",\"title\":{\"standoff\":15},\"zerolinecolor\":\"white\",\"zerolinewidth\":2},\"yaxis\":{\"automargin\":true,\"gridcolor\":\"white\",\"linecolor\":\"white\",\"ticks\":\"\",\"title\":{\"standoff\":15},\"zerolinecolor\":\"white\",\"zerolinewidth\":2}}},\"width\":600,\"xaxis\":{\"anchor\":\"y\",\"domain\":[0.0,1.0],\"title\":{\"text\":\"feature1\"}},\"yaxis\":{\"anchor\":\"x\",\"domain\":[0.0,1.0],\"title\":{\"text\":\"feature2\"}},\"annotations\":[{\"arrowcolor\":\"gray\",\"arrowhead\":2,\"arrowsize\":1,\"arrowwidth\":1,\"ax\":0,\"axref\":\"x\",\"ay\":0,\"ayref\":\"y\",\"showarrow\":true,\"text\":\"\",\"x\":3.7744376991223416,\"xref\":\"x\",\"y\":2.721407505366034,\"yref\":\"y\"},{\"arrowcolor\":\"gray\",\"arrowhead\":2,\"arrowsize\":1,\"arrowwidth\":1,\"ax\":0,\"axref\":\"x\",\"ay\":0,\"ayref\":\"y\",\"showarrow\":true,\"text\":\"\",\"x\":0.12800782111610085,\"xref\":\"x\",\"y\":1.2416165181585397,\"yref\":\"y\"}]},                        {\"responsive\": true}                    ).then(function(){\n",
              "                            \n",
              "var gd = document.getElementById('10d3daca-0822-4e97-9d4e-150c22705a45');\n",
              "var x = new MutationObserver(function (mutations, observer) {{\n",
              "        var display = window.getComputedStyle(gd).display;\n",
              "        if (!display || display === 'none') {{\n",
              "            console.log([gd, 'removed!']);\n",
              "            Plotly.purge(gd);\n",
              "            observer.disconnect();\n",
              "        }}\n",
              "}});\n",
              "\n",
              "// Listen for the removal of the full notebook cells\n",
              "var notebookContainer = gd.closest('#notebook-container');\n",
              "if (notebookContainer) {{\n",
              "    x.observe(notebookContainer, {childList: true});\n",
              "}}\n",
              "\n",
              "// Listen for the clearing of the current output cell\n",
              "var outputEl = gd.closest('.output');\n",
              "if (outputEl) {{\n",
              "    x.observe(outputEl, {childList: true});\n",
              "}}\n",
              "\n",
              "                        })                };                            </script>        </div>\n",
              "</body>\n",
              "</html>"
            ]
          },
          "metadata": {}
        }
      ]
    },
    {
      "cell_type": "markdown",
      "source": [
        "Bestimmen der Richtung des Protoyp Updates"
      ],
      "metadata": {
        "id": "peTE9dvB9Y_w"
      }
    },
    {
      "cell_type": "code",
      "source": [
        "update_direction = (train_sample[features] - prototypes.loc[nearest_prototype, features])"
      ],
      "metadata": {
        "id": "3_xvuLKp9fg5"
      },
      "execution_count": 16,
      "outputs": []
    },
    {
      "cell_type": "code",
      "source": [
        "#@title Visualisierung\n",
        "\n",
        "add_vector(start = prototypes.loc[nearest_prototype, features], end = train_sample[features], fig = fig_update)"
      ],
      "metadata": {
        "colab": {
          "base_uri": "https://localhost:8080/",
          "height": 517
        },
        "id": "-7eGew5dZCF4",
        "outputId": "cc3ea667-7433-48df-d1d0-ad08fa12352f",
        "cellView": "form"
      },
      "execution_count": 17,
      "outputs": [
        {
          "output_type": "display_data",
          "data": {
            "text/html": [
              "<html>\n",
              "<head><meta charset=\"utf-8\" /></head>\n",
              "<body>\n",
              "    <div>            <script src=\"https://cdnjs.cloudflare.com/ajax/libs/mathjax/2.7.5/MathJax.js?config=TeX-AMS-MML_SVG\"></script><script type=\"text/javascript\">if (window.MathJax) {MathJax.Hub.Config({SVG: {font: \"STIX-Web\"}});}</script>                <script type=\"text/javascript\">window.PlotlyConfig = {MathJaxConfig: 'local'};</script>\n",
              "        <script src=\"https://cdn.plot.ly/plotly-2.8.3.min.js\"></script>                <div id=\"14c41a55-f50a-4c39-972d-9e19e20dfd6d\" class=\"plotly-graph-div\" style=\"height:500px; width:600px;\"></div>            <script type=\"text/javascript\">                                    window.PLOTLYENV=window.PLOTLYENV || {};                                    if (document.getElementById(\"14c41a55-f50a-4c39-972d-9e19e20dfd6d\")) {                    Plotly.newPlot(                        \"14c41a55-f50a-4c39-972d-9e19e20dfd6d\",                        [{\"hovertemplate\":\"category=cat_0<br>feature1=%{x}<br>feature2=%{y}<extra></extra>\",\"legendgroup\":\"cat_0\",\"marker\":{\"color\":\"#636efa\",\"symbol\":\"circle\"},\"mode\":\"markers\",\"name\":\"cat_0\",\"orientation\":\"v\",\"showlegend\":true,\"x\":[-7.109552810057596,-8.593643553225927,-8.0665916991926,-2.4747278311698806,-9.839984720908866,-9.01333917438989,-1.8074099510149795,-2.740741834994699,-8.364314953943502,-6.61802740759715,-1.5672500002600298,-12.493141783340988,-11.255459013450729,-7.200824298078203,-6.330965925929839,-0.0498274720298415,-6.672360394487658,-8.759842709255462,-10.099723498432347,-7.6647920605205915,-7.42508303778698,-1.5040881641701267,-8.181439790478121,-2.0705302629673596,-8.29883368197082,-8.712850717364606,-8.411540416028874,-2.593924198061167,-5.388217188950073,-10.740186108080692,-11.5830540105627,1.1545138937212744,-8.698910041246855,-5.614010127711966,-5.419747143585888,-4.064846609597879,-3.4197520600643636,-17.662951007170847,-3.427346877617126],\"xaxis\":\"x\",\"y\":[-6.709517958537973,-7.474929674917517,-6.378143332871425,-2.580853872694103,-5.245409531773599,-9.488220501282187,-3.3325243611150266,-7.039983508195127,-7.032834735576948,-2.4607453934125143,-3.761218689362217,-4.706649095459656,-4.230755239000831,-1.6837013158861627,-7.254001353647695,-8.23660136880073,-2.181446381466868,-5.02717104946277,-4.2013231083183715,-4.550684683521101,-9.486282073906917,-6.263828465601802,-9.092954631165936,-8.202135260222951,-6.218908667761217,-5.14712985111985,-9.828944086811628,-5.027501347783377,-8.12839054787305,-6.411299798845082,-3.216674184510385,-5.126980298976021,-5.698766269269956,-9.726985406728982,-3.6642354273967164,-4.647567200273876,-5.373879251951787,-7.943681005145219,-5.501826586548332],\"yaxis\":\"y\",\"type\":\"scatter\"},{\"hovertemplate\":\"category=cat_1<br>feature1=%{x}<br>feature2=%{y}<extra></extra>\",\"legendgroup\":\"cat_1\",\"marker\":{\"color\":\"#EF553B\",\"symbol\":\"circle\"},\"mode\":\"markers\",\"name\":\"cat_1\",\"orientation\":\"v\",\"showlegend\":true,\"x\":[1.729417429210297,0.5935881147911207,0.4457809586531427,0.561951672422086,-0.7160257975174191,-1.0705854991525032,-0.587220312328312,-0.34903539298253017,-0.23733747553109175,0.3882504142848946,-0.05394784919048745,1.0697983584569932,-0.7959146932233903,-2.030393553778298,-0.018627715556959044,-1.2209019198961333,-1.2356366241061225,0.12800782111610085,-0.511128992552914,0.1334970410228064,-0.43089005538560166,-0.7254334803985123,1.094653079198753,0.6478297974098579,0.5587132048474234],\"xaxis\":\"x\",\"y\":[0.6940522720694241,2.0708785257760858,-0.782709043447464,-0.29382123783761,0.7314657358201054,0.37086997203026,1.9108268513563658,0.2528250912215497,0.885339675170791,-0.3871271811779628,1.3151672242748802,0.1665195100182666,0.07274552915143462,-0.9607751102139338,0.48352878740830696,0.059615433090329545,-0.1407864421846237,1.2416165181585397,-0.12284340561303929,-1.2892611938117313,-0.540270263790554,-0.0349433855520906,0.6396923552031146,-0.5603734188841619,-0.4783646604432103],\"yaxis\":\"y\",\"type\":\"scatter\"},{\"hovertemplate\":\"category=cat_2<br>feature1=%{x}<br>feature2=%{y}<extra></extra>\",\"legendgroup\":\"cat_2\",\"marker\":{\"color\":\"#00cc96\",\"symbol\":\"circle\"},\"mode\":\"markers\",\"name\":\"cat_2\",\"orientation\":\"v\",\"showlegend\":true,\"x\":[6.276029310016074,6.182069023154669,0.6469572699189694,6.836762045237343,6.480913560829175,10.092665552729521,4.2596816199246845,9.678303774374637,5.9874024420853305,6.5663718435609795,8.840684610318593,6.575314457421722,5.686962371543834,10.039301284190708,6.149455587899874,5.340843694311273,9.006523905410972,7.0335951082066375,8.130840363165332,6.181433546057293,4.747170993028246,7.809056973517464,7.707926743312776,5.916311543638355,6.16992811564178,3.42754134474525,3.7744376991223416,4.775231164631773,4.858935409794105,5.048201226180942,4.769782871170975,4.008411511084965,3.9405809493734463,5.53619089360479,2.109855475652514,8.983044692655723],\"xaxis\":\"x\",\"y\":[7.879005708390844,7.570864494154181,5.139798785845975,4.215187330673151,6.906075573549749,7.333975699183396,5.520735853069058,10.631717194500904,9.001780713802063,5.871279656221559,5.360819718134216,2.4103859293553556,1.455511770758287,6.652524545897313,4.743498386391799,7.794299494372734,7.81663743268094,5.134847247700244,4.2552486773411395,1.5651647779266966,5.0159122137151435,2.2686976550303237,9.173733086132563,5.454528927727748,8.195558975081262,3.712556347325746,2.721407505366034,8.79993099204373,1.94185574852383,6.593689061540348,3.87568775314434,6.687589036996599,3.939582764586884,5.070662557702199,3.680554098019784,3.203767978324612],\"yaxis\":\"y\",\"type\":\"scatter\"},{\"marker\":{\"color\":[0,2,1],\"colorscale\":[[0.0,\"blue\"],[0.5,\"red\"],[1.0,\"green\"]],\"size\":12,\"symbol\":\"x-open\"},\"mode\":\"markers\",\"name\":\"prototypes\",\"x\":[-7.109552810057596,5.9874024420853305,0.12800782111610085],\"y\":[-6.709517958537973,9.001780713802063,1.2416165181585397],\"type\":\"scatter\"},{\"marker\":{\"color\":[0,2,1,0,0,1,2,1,0,0,1,0,0,1,1,1,1,0,0,1,0,1,0,2,0,1,2,1,2,0,1,0,2,0,2,0,1,0,1,1,0,1,2,1,1,2,2,2,1,0,0,1,1,0,1,0,1,2,1,1,2,1,2,1,1,0,0,1,1,1,1,2,2,2,0,0,2,2,1,2,0,1,0,2,0,2,0,1,0,1,2,2,2,0,0,1,0,0,2,2],\"colorscale\":[[0.0,\"blue\"],[0.5,\"red\"],[1.0,\"green\"]],\"size\":9,\"symbol\":\"circle-open\"},\"mode\":\"markers\",\"name\":\"assigned category\",\"x\":[-7.109552810057596,5.9874024420853305,0.12800782111610085,-3.4197520600643636,-11.5830540105627,-0.018627715556959044,9.678303774374637,-0.23733747553109175,-10.740186108080692,-2.593924198061167,-2.030393553778298,-4.064846609597879,-5.419747143585888,3.9405809493734463,3.7744376991223416,0.3882504142848946,1.0697983584569932,-8.698910041246855,-5.388217188950073,1.1545138937212744,-5.614010127711966,0.1334970410228064,-3.427346877617126,9.006523905410972,-17.662951007170847,-1.2209019198961333,4.008411511084965,6.575314457421722,6.149455587899874,-8.712850717364606,-1.2356366241061225,-8.29883368197082,5.340843694311273,-8.593643553225927,7.0335951082066375,-8.0665916991926,-2.4747278311698806,-9.839984720908866,1.094653079198753,-0.43089005538560166,-9.01333917438989,-0.7254334803985123,8.130840363165332,0.5587132048474234,6.181433546057293,4.747170993028246,7.809056973517464,7.707926743312776,-1.8074099510149795,-8.411540416028874,-2.740741834994699,-0.7959146932233903,2.109855475652514,-8.364314953943502,3.42754134474525,-6.61802740759715,-1.5672500002600298,4.775231164631773,4.858935409794105,-0.34903539298253017,5.048201226180942,-1.0705854991525032,4.769782871170975,5.686962371543834,0.5935881147911207,-12.493141783340988,-11.255459013450729,1.729417429210297,0.4457809586531427,-0.7160257975174191,-0.587220312328312,5.53619089360479,10.039301284190708,5.916311543638355,-7.200824298078203,-6.330965925929839,8.840684610318593,6.5663718435609795,-0.05394784919048745,6.836762045237343,-0.0498274720298415,0.561951672422086,-6.672360394487658,6.480913560829175,-8.759842709255462,4.2596816199246845,-10.099723498432347,0.6469572699189694,-7.6647920605205915,0.6478297974098579,10.092665552729521,6.182069023154669,6.276029310016074,-7.42508303778698,-1.5040881641701267,-0.511128992552914,-8.181439790478121,-2.0705302629673596,6.16992811564178,8.983044692655723],\"y\":[-6.709517958537973,9.001780713802063,1.2416165181585397,-5.373879251951787,-3.216674184510385,0.48352878740830696,10.631717194500904,0.885339675170791,-6.411299798845082,-5.027501347783377,-0.9607751102139338,-4.647567200273876,-3.6642354273967164,3.939582764586884,2.721407505366034,-0.3871271811779628,0.1665195100182666,-5.698766269269956,-8.12839054787305,-5.126980298976021,-9.726985406728982,-1.2892611938117313,-5.501826586548332,7.81663743268094,-7.943681005145219,0.059615433090329545,6.687589036996599,2.4103859293553556,4.743498386391799,-5.14712985111985,-0.1407864421846237,-6.218908667761217,7.794299494372734,-7.474929674917517,5.134847247700244,-6.378143332871425,-2.580853872694103,-5.245409531773599,0.6396923552031146,-0.540270263790554,-9.488220501282187,-0.0349433855520906,4.2552486773411395,-0.4783646604432103,1.5651647779266966,5.0159122137151435,2.2686976550303237,9.173733086132563,-3.3325243611150266,-9.828944086811628,-7.039983508195127,0.07274552915143462,3.680554098019784,-7.032834735576948,3.712556347325746,-2.4607453934125143,-3.761218689362217,8.79993099204373,1.94185574852383,0.2528250912215497,6.593689061540348,0.37086997203026,3.87568775314434,1.455511770758287,2.0708785257760858,-4.706649095459656,-4.230755239000831,0.6940522720694241,-0.782709043447464,0.7314657358201054,1.9108268513563658,5.070662557702199,6.652524545897313,5.454528927727748,-1.6837013158861627,-7.254001353647695,5.360819718134216,5.871279656221559,1.3151672242748802,4.215187330673151,-8.23660136880073,-0.29382123783761,-2.181446381466868,6.906075573549749,-5.02717104946277,5.520735853069058,-4.2013231083183715,5.139798785845975,-4.550684683521101,-0.5603734188841619,7.333975699183396,7.570864494154181,7.879005708390844,-9.486282073906917,-6.263828465601802,-0.12284340561303929,-9.092954631165936,-8.202135260222951,8.195558975081262,3.203767978324612],\"type\":\"scatter\"}],                        {\"height\":500,\"legend\":{\"title\":{\"text\":\"category\"},\"tracegroupgap\":0},\"margin\":{\"t\":60},\"template\":{\"data\":{\"barpolar\":[{\"marker\":{\"line\":{\"color\":\"#E5ECF6\",\"width\":0.5},\"pattern\":{\"fillmode\":\"overlay\",\"size\":10,\"solidity\":0.2}},\"type\":\"barpolar\"}],\"bar\":[{\"error_x\":{\"color\":\"#2a3f5f\"},\"error_y\":{\"color\":\"#2a3f5f\"},\"marker\":{\"line\":{\"color\":\"#E5ECF6\",\"width\":0.5},\"pattern\":{\"fillmode\":\"overlay\",\"size\":10,\"solidity\":0.2}},\"type\":\"bar\"}],\"carpet\":[{\"aaxis\":{\"endlinecolor\":\"#2a3f5f\",\"gridcolor\":\"white\",\"linecolor\":\"white\",\"minorgridcolor\":\"white\",\"startlinecolor\":\"#2a3f5f\"},\"baxis\":{\"endlinecolor\":\"#2a3f5f\",\"gridcolor\":\"white\",\"linecolor\":\"white\",\"minorgridcolor\":\"white\",\"startlinecolor\":\"#2a3f5f\"},\"type\":\"carpet\"}],\"choropleth\":[{\"colorbar\":{\"outlinewidth\":0,\"ticks\":\"\"},\"type\":\"choropleth\"}],\"contourcarpet\":[{\"colorbar\":{\"outlinewidth\":0,\"ticks\":\"\"},\"type\":\"contourcarpet\"}],\"contour\":[{\"colorbar\":{\"outlinewidth\":0,\"ticks\":\"\"},\"colorscale\":[[0.0,\"#0d0887\"],[0.1111111111111111,\"#46039f\"],[0.2222222222222222,\"#7201a8\"],[0.3333333333333333,\"#9c179e\"],[0.4444444444444444,\"#bd3786\"],[0.5555555555555556,\"#d8576b\"],[0.6666666666666666,\"#ed7953\"],[0.7777777777777778,\"#fb9f3a\"],[0.8888888888888888,\"#fdca26\"],[1.0,\"#f0f921\"]],\"type\":\"contour\"}],\"heatmapgl\":[{\"colorbar\":{\"outlinewidth\":0,\"ticks\":\"\"},\"colorscale\":[[0.0,\"#0d0887\"],[0.1111111111111111,\"#46039f\"],[0.2222222222222222,\"#7201a8\"],[0.3333333333333333,\"#9c179e\"],[0.4444444444444444,\"#bd3786\"],[0.5555555555555556,\"#d8576b\"],[0.6666666666666666,\"#ed7953\"],[0.7777777777777778,\"#fb9f3a\"],[0.8888888888888888,\"#fdca26\"],[1.0,\"#f0f921\"]],\"type\":\"heatmapgl\"}],\"heatmap\":[{\"colorbar\":{\"outlinewidth\":0,\"ticks\":\"\"},\"colorscale\":[[0.0,\"#0d0887\"],[0.1111111111111111,\"#46039f\"],[0.2222222222222222,\"#7201a8\"],[0.3333333333333333,\"#9c179e\"],[0.4444444444444444,\"#bd3786\"],[0.5555555555555556,\"#d8576b\"],[0.6666666666666666,\"#ed7953\"],[0.7777777777777778,\"#fb9f3a\"],[0.8888888888888888,\"#fdca26\"],[1.0,\"#f0f921\"]],\"type\":\"heatmap\"}],\"histogram2dcontour\":[{\"colorbar\":{\"outlinewidth\":0,\"ticks\":\"\"},\"colorscale\":[[0.0,\"#0d0887\"],[0.1111111111111111,\"#46039f\"],[0.2222222222222222,\"#7201a8\"],[0.3333333333333333,\"#9c179e\"],[0.4444444444444444,\"#bd3786\"],[0.5555555555555556,\"#d8576b\"],[0.6666666666666666,\"#ed7953\"],[0.7777777777777778,\"#fb9f3a\"],[0.8888888888888888,\"#fdca26\"],[1.0,\"#f0f921\"]],\"type\":\"histogram2dcontour\"}],\"histogram2d\":[{\"colorbar\":{\"outlinewidth\":0,\"ticks\":\"\"},\"colorscale\":[[0.0,\"#0d0887\"],[0.1111111111111111,\"#46039f\"],[0.2222222222222222,\"#7201a8\"],[0.3333333333333333,\"#9c179e\"],[0.4444444444444444,\"#bd3786\"],[0.5555555555555556,\"#d8576b\"],[0.6666666666666666,\"#ed7953\"],[0.7777777777777778,\"#fb9f3a\"],[0.8888888888888888,\"#fdca26\"],[1.0,\"#f0f921\"]],\"type\":\"histogram2d\"}],\"histogram\":[{\"marker\":{\"pattern\":{\"fillmode\":\"overlay\",\"size\":10,\"solidity\":0.2}},\"type\":\"histogram\"}],\"mesh3d\":[{\"colorbar\":{\"outlinewidth\":0,\"ticks\":\"\"},\"type\":\"mesh3d\"}],\"parcoords\":[{\"line\":{\"colorbar\":{\"outlinewidth\":0,\"ticks\":\"\"}},\"type\":\"parcoords\"}],\"pie\":[{\"automargin\":true,\"type\":\"pie\"}],\"scatter3d\":[{\"line\":{\"colorbar\":{\"outlinewidth\":0,\"ticks\":\"\"}},\"marker\":{\"colorbar\":{\"outlinewidth\":0,\"ticks\":\"\"}},\"type\":\"scatter3d\"}],\"scattercarpet\":[{\"marker\":{\"colorbar\":{\"outlinewidth\":0,\"ticks\":\"\"}},\"type\":\"scattercarpet\"}],\"scattergeo\":[{\"marker\":{\"colorbar\":{\"outlinewidth\":0,\"ticks\":\"\"}},\"type\":\"scattergeo\"}],\"scattergl\":[{\"marker\":{\"colorbar\":{\"outlinewidth\":0,\"ticks\":\"\"}},\"type\":\"scattergl\"}],\"scattermapbox\":[{\"marker\":{\"colorbar\":{\"outlinewidth\":0,\"ticks\":\"\"}},\"type\":\"scattermapbox\"}],\"scatterpolargl\":[{\"marker\":{\"colorbar\":{\"outlinewidth\":0,\"ticks\":\"\"}},\"type\":\"scatterpolargl\"}],\"scatterpolar\":[{\"marker\":{\"colorbar\":{\"outlinewidth\":0,\"ticks\":\"\"}},\"type\":\"scatterpolar\"}],\"scatter\":[{\"marker\":{\"colorbar\":{\"outlinewidth\":0,\"ticks\":\"\"}},\"type\":\"scatter\"}],\"scatterternary\":[{\"marker\":{\"colorbar\":{\"outlinewidth\":0,\"ticks\":\"\"}},\"type\":\"scatterternary\"}],\"surface\":[{\"colorbar\":{\"outlinewidth\":0,\"ticks\":\"\"},\"colorscale\":[[0.0,\"#0d0887\"],[0.1111111111111111,\"#46039f\"],[0.2222222222222222,\"#7201a8\"],[0.3333333333333333,\"#9c179e\"],[0.4444444444444444,\"#bd3786\"],[0.5555555555555556,\"#d8576b\"],[0.6666666666666666,\"#ed7953\"],[0.7777777777777778,\"#fb9f3a\"],[0.8888888888888888,\"#fdca26\"],[1.0,\"#f0f921\"]],\"type\":\"surface\"}],\"table\":[{\"cells\":{\"fill\":{\"color\":\"#EBF0F8\"},\"line\":{\"color\":\"white\"}},\"header\":{\"fill\":{\"color\":\"#C8D4E3\"},\"line\":{\"color\":\"white\"}},\"type\":\"table\"}]},\"layout\":{\"annotationdefaults\":{\"arrowcolor\":\"#2a3f5f\",\"arrowhead\":0,\"arrowwidth\":1},\"autotypenumbers\":\"strict\",\"coloraxis\":{\"colorbar\":{\"outlinewidth\":0,\"ticks\":\"\"}},\"colorscale\":{\"diverging\":[[0,\"#8e0152\"],[0.1,\"#c51b7d\"],[0.2,\"#de77ae\"],[0.3,\"#f1b6da\"],[0.4,\"#fde0ef\"],[0.5,\"#f7f7f7\"],[0.6,\"#e6f5d0\"],[0.7,\"#b8e186\"],[0.8,\"#7fbc41\"],[0.9,\"#4d9221\"],[1,\"#276419\"]],\"sequential\":[[0.0,\"#0d0887\"],[0.1111111111111111,\"#46039f\"],[0.2222222222222222,\"#7201a8\"],[0.3333333333333333,\"#9c179e\"],[0.4444444444444444,\"#bd3786\"],[0.5555555555555556,\"#d8576b\"],[0.6666666666666666,\"#ed7953\"],[0.7777777777777778,\"#fb9f3a\"],[0.8888888888888888,\"#fdca26\"],[1.0,\"#f0f921\"]],\"sequentialminus\":[[0.0,\"#0d0887\"],[0.1111111111111111,\"#46039f\"],[0.2222222222222222,\"#7201a8\"],[0.3333333333333333,\"#9c179e\"],[0.4444444444444444,\"#bd3786\"],[0.5555555555555556,\"#d8576b\"],[0.6666666666666666,\"#ed7953\"],[0.7777777777777778,\"#fb9f3a\"],[0.8888888888888888,\"#fdca26\"],[1.0,\"#f0f921\"]]},\"colorway\":[\"#636efa\",\"#EF553B\",\"#00cc96\",\"#ab63fa\",\"#FFA15A\",\"#19d3f3\",\"#FF6692\",\"#B6E880\",\"#FF97FF\",\"#FECB52\"],\"font\":{\"color\":\"#2a3f5f\"},\"geo\":{\"bgcolor\":\"white\",\"lakecolor\":\"white\",\"landcolor\":\"#E5ECF6\",\"showlakes\":true,\"showland\":true,\"subunitcolor\":\"white\"},\"hoverlabel\":{\"align\":\"left\"},\"hovermode\":\"closest\",\"mapbox\":{\"style\":\"light\"},\"paper_bgcolor\":\"white\",\"plot_bgcolor\":\"#E5ECF6\",\"polar\":{\"angularaxis\":{\"gridcolor\":\"white\",\"linecolor\":\"white\",\"ticks\":\"\"},\"bgcolor\":\"#E5ECF6\",\"radialaxis\":{\"gridcolor\":\"white\",\"linecolor\":\"white\",\"ticks\":\"\"}},\"scene\":{\"xaxis\":{\"backgroundcolor\":\"#E5ECF6\",\"gridcolor\":\"white\",\"gridwidth\":2,\"linecolor\":\"white\",\"showbackground\":true,\"ticks\":\"\",\"zerolinecolor\":\"white\"},\"yaxis\":{\"backgroundcolor\":\"#E5ECF6\",\"gridcolor\":\"white\",\"gridwidth\":2,\"linecolor\":\"white\",\"showbackground\":true,\"ticks\":\"\",\"zerolinecolor\":\"white\"},\"zaxis\":{\"backgroundcolor\":\"#E5ECF6\",\"gridcolor\":\"white\",\"gridwidth\":2,\"linecolor\":\"white\",\"showbackground\":true,\"ticks\":\"\",\"zerolinecolor\":\"white\"}},\"shapedefaults\":{\"line\":{\"color\":\"#2a3f5f\"}},\"ternary\":{\"aaxis\":{\"gridcolor\":\"white\",\"linecolor\":\"white\",\"ticks\":\"\"},\"baxis\":{\"gridcolor\":\"white\",\"linecolor\":\"white\",\"ticks\":\"\"},\"bgcolor\":\"#E5ECF6\",\"caxis\":{\"gridcolor\":\"white\",\"linecolor\":\"white\",\"ticks\":\"\"}},\"title\":{\"x\":0.05},\"xaxis\":{\"automargin\":true,\"gridcolor\":\"white\",\"linecolor\":\"white\",\"ticks\":\"\",\"title\":{\"standoff\":15},\"zerolinecolor\":\"white\",\"zerolinewidth\":2},\"yaxis\":{\"automargin\":true,\"gridcolor\":\"white\",\"linecolor\":\"white\",\"ticks\":\"\",\"title\":{\"standoff\":15},\"zerolinecolor\":\"white\",\"zerolinewidth\":2}}},\"width\":600,\"xaxis\":{\"anchor\":\"y\",\"domain\":[0.0,1.0],\"title\":{\"text\":\"feature1\"}},\"yaxis\":{\"anchor\":\"x\",\"domain\":[0.0,1.0],\"title\":{\"text\":\"feature2\"}},\"annotations\":[{\"arrowcolor\":\"gray\",\"arrowhead\":2,\"arrowsize\":1,\"arrowwidth\":1,\"ax\":0,\"axref\":\"x\",\"ay\":0,\"ayref\":\"y\",\"showarrow\":true,\"text\":\"\",\"x\":3.7744376991223416,\"xref\":\"x\",\"y\":2.721407505366034,\"yref\":\"y\"},{\"arrowcolor\":\"gray\",\"arrowhead\":2,\"arrowsize\":1,\"arrowwidth\":1,\"ax\":0,\"axref\":\"x\",\"ay\":0,\"ayref\":\"y\",\"showarrow\":true,\"text\":\"\",\"x\":0.12800782111610085,\"xref\":\"x\",\"y\":1.2416165181585397,\"yref\":\"y\"},{\"arrowcolor\":\"gray\",\"arrowhead\":2,\"arrowsize\":1,\"arrowwidth\":1,\"ax\":0.12800782111610085,\"axref\":\"x\",\"ay\":1.2416165181585397,\"ayref\":\"y\",\"showarrow\":true,\"text\":\"\",\"x\":3.7744376991223416,\"xref\":\"x\",\"y\":2.721407505366034,\"yref\":\"y\"}]},                        {\"responsive\": true}                    ).then(function(){\n",
              "                            \n",
              "var gd = document.getElementById('14c41a55-f50a-4c39-972d-9e19e20dfd6d');\n",
              "var x = new MutationObserver(function (mutations, observer) {{\n",
              "        var display = window.getComputedStyle(gd).display;\n",
              "        if (!display || display === 'none') {{\n",
              "            console.log([gd, 'removed!']);\n",
              "            Plotly.purge(gd);\n",
              "            observer.disconnect();\n",
              "        }}\n",
              "}});\n",
              "\n",
              "// Listen for the removal of the full notebook cells\n",
              "var notebookContainer = gd.closest('#notebook-container');\n",
              "if (notebookContainer) {{\n",
              "    x.observe(notebookContainer, {childList: true});\n",
              "}}\n",
              "\n",
              "// Listen for the clearing of the current output cell\n",
              "var outputEl = gd.closest('.output');\n",
              "if (outputEl) {{\n",
              "    x.observe(outputEl, {childList: true});\n",
              "}}\n",
              "\n",
              "                        })                };                            </script>        </div>\n",
              "</body>\n",
              "</html>"
            ]
          },
          "metadata": {}
        }
      ]
    },
    {
      "cell_type": "code",
      "source": [
        "pull = train_sample.category == prototypes.loc[nearest_prototype].category\n",
        "lernrate = 0.5\n",
        "\n",
        "sign = 1 if pull else -1\n",
        "updated_prototype = prototypes.loc[nearest_prototype, features] + sign * lernrate * update_direction"
      ],
      "metadata": {
        "id": "fkhfTNdUeIKn"
      },
      "execution_count": 18,
      "outputs": []
    },
    {
      "cell_type": "code",
      "source": [
        "#@title Visualisierung\n",
        "add_vector(start=prototypes.loc[nearest_prototype, features], end = updated_prototype, fig=go.Figure(fig_update), color='black', size=3)"
      ],
      "metadata": {
        "colab": {
          "base_uri": "https://localhost:8080/",
          "height": 517
        },
        "id": "mPRkCSrxiIXN",
        "outputId": "c48f73c4-f9bf-4292-b844-c77772a1ac74",
        "cellView": "form"
      },
      "execution_count": 19,
      "outputs": [
        {
          "output_type": "display_data",
          "data": {
            "text/html": [
              "<html>\n",
              "<head><meta charset=\"utf-8\" /></head>\n",
              "<body>\n",
              "    <div>            <script src=\"https://cdnjs.cloudflare.com/ajax/libs/mathjax/2.7.5/MathJax.js?config=TeX-AMS-MML_SVG\"></script><script type=\"text/javascript\">if (window.MathJax) {MathJax.Hub.Config({SVG: {font: \"STIX-Web\"}});}</script>                <script type=\"text/javascript\">window.PlotlyConfig = {MathJaxConfig: 'local'};</script>\n",
              "        <script src=\"https://cdn.plot.ly/plotly-2.8.3.min.js\"></script>                <div id=\"d6e599ea-50f3-4180-ba97-5fff89435a1a\" class=\"plotly-graph-div\" style=\"height:500px; width:600px;\"></div>            <script type=\"text/javascript\">                                    window.PLOTLYENV=window.PLOTLYENV || {};                                    if (document.getElementById(\"d6e599ea-50f3-4180-ba97-5fff89435a1a\")) {                    Plotly.newPlot(                        \"d6e599ea-50f3-4180-ba97-5fff89435a1a\",                        [{\"hovertemplate\":\"category=cat_0<br>feature1=%{x}<br>feature2=%{y}<extra></extra>\",\"legendgroup\":\"cat_0\",\"marker\":{\"color\":\"#636efa\",\"symbol\":\"circle\"},\"mode\":\"markers\",\"name\":\"cat_0\",\"orientation\":\"v\",\"showlegend\":true,\"x\":[-7.109552810057596,-8.593643553225927,-8.0665916991926,-2.4747278311698806,-9.839984720908866,-9.01333917438989,-1.8074099510149795,-2.740741834994699,-8.364314953943502,-6.61802740759715,-1.5672500002600298,-12.493141783340988,-11.255459013450729,-7.200824298078203,-6.330965925929839,-0.0498274720298415,-6.672360394487658,-8.759842709255462,-10.099723498432347,-7.6647920605205915,-7.42508303778698,-1.5040881641701267,-8.181439790478121,-2.0705302629673596,-8.29883368197082,-8.712850717364606,-8.411540416028874,-2.593924198061167,-5.388217188950073,-10.740186108080692,-11.5830540105627,1.1545138937212744,-8.698910041246855,-5.614010127711966,-5.419747143585888,-4.064846609597879,-3.4197520600643636,-17.662951007170847,-3.427346877617126],\"xaxis\":\"x\",\"y\":[-6.709517958537973,-7.474929674917517,-6.378143332871425,-2.580853872694103,-5.245409531773599,-9.488220501282187,-3.3325243611150266,-7.039983508195127,-7.032834735576948,-2.4607453934125143,-3.761218689362217,-4.706649095459656,-4.230755239000831,-1.6837013158861627,-7.254001353647695,-8.23660136880073,-2.181446381466868,-5.02717104946277,-4.2013231083183715,-4.550684683521101,-9.486282073906917,-6.263828465601802,-9.092954631165936,-8.202135260222951,-6.218908667761217,-5.14712985111985,-9.828944086811628,-5.027501347783377,-8.12839054787305,-6.411299798845082,-3.216674184510385,-5.126980298976021,-5.698766269269956,-9.726985406728982,-3.6642354273967164,-4.647567200273876,-5.373879251951787,-7.943681005145219,-5.501826586548332],\"yaxis\":\"y\",\"type\":\"scatter\"},{\"hovertemplate\":\"category=cat_1<br>feature1=%{x}<br>feature2=%{y}<extra></extra>\",\"legendgroup\":\"cat_1\",\"marker\":{\"color\":\"#EF553B\",\"symbol\":\"circle\"},\"mode\":\"markers\",\"name\":\"cat_1\",\"orientation\":\"v\",\"showlegend\":true,\"x\":[1.729417429210297,0.5935881147911207,0.4457809586531427,0.561951672422086,-0.7160257975174191,-1.0705854991525032,-0.587220312328312,-0.34903539298253017,-0.23733747553109175,0.3882504142848946,-0.05394784919048745,1.0697983584569932,-0.7959146932233903,-2.030393553778298,-0.018627715556959044,-1.2209019198961333,-1.2356366241061225,0.12800782111610085,-0.511128992552914,0.1334970410228064,-0.43089005538560166,-0.7254334803985123,1.094653079198753,0.6478297974098579,0.5587132048474234],\"xaxis\":\"x\",\"y\":[0.6940522720694241,2.0708785257760858,-0.782709043447464,-0.29382123783761,0.7314657358201054,0.37086997203026,1.9108268513563658,0.2528250912215497,0.885339675170791,-0.3871271811779628,1.3151672242748802,0.1665195100182666,0.07274552915143462,-0.9607751102139338,0.48352878740830696,0.059615433090329545,-0.1407864421846237,1.2416165181585397,-0.12284340561303929,-1.2892611938117313,-0.540270263790554,-0.0349433855520906,0.6396923552031146,-0.5603734188841619,-0.4783646604432103],\"yaxis\":\"y\",\"type\":\"scatter\"},{\"hovertemplate\":\"category=cat_2<br>feature1=%{x}<br>feature2=%{y}<extra></extra>\",\"legendgroup\":\"cat_2\",\"marker\":{\"color\":\"#00cc96\",\"symbol\":\"circle\"},\"mode\":\"markers\",\"name\":\"cat_2\",\"orientation\":\"v\",\"showlegend\":true,\"x\":[6.276029310016074,6.182069023154669,0.6469572699189694,6.836762045237343,6.480913560829175,10.092665552729521,4.2596816199246845,9.678303774374637,5.9874024420853305,6.5663718435609795,8.840684610318593,6.575314457421722,5.686962371543834,10.039301284190708,6.149455587899874,5.340843694311273,9.006523905410972,7.0335951082066375,8.130840363165332,6.181433546057293,4.747170993028246,7.809056973517464,7.707926743312776,5.916311543638355,6.16992811564178,3.42754134474525,3.7744376991223416,4.775231164631773,4.858935409794105,5.048201226180942,4.769782871170975,4.008411511084965,3.9405809493734463,5.53619089360479,2.109855475652514,8.983044692655723],\"xaxis\":\"x\",\"y\":[7.879005708390844,7.570864494154181,5.139798785845975,4.215187330673151,6.906075573549749,7.333975699183396,5.520735853069058,10.631717194500904,9.001780713802063,5.871279656221559,5.360819718134216,2.4103859293553556,1.455511770758287,6.652524545897313,4.743498386391799,7.794299494372734,7.81663743268094,5.134847247700244,4.2552486773411395,1.5651647779266966,5.0159122137151435,2.2686976550303237,9.173733086132563,5.454528927727748,8.195558975081262,3.712556347325746,2.721407505366034,8.79993099204373,1.94185574852383,6.593689061540348,3.87568775314434,6.687589036996599,3.939582764586884,5.070662557702199,3.680554098019784,3.203767978324612],\"yaxis\":\"y\",\"type\":\"scatter\"},{\"marker\":{\"color\":[0,2,1],\"colorscale\":[[0.0,\"blue\"],[0.5,\"red\"],[1.0,\"green\"]],\"size\":12,\"symbol\":\"x-open\"},\"mode\":\"markers\",\"name\":\"prototypes\",\"x\":[-7.109552810057596,5.9874024420853305,0.12800782111610085],\"y\":[-6.709517958537973,9.001780713802063,1.2416165181585397],\"type\":\"scatter\"},{\"marker\":{\"color\":[0,2,1,0,0,1,2,1,0,0,1,0,0,1,1,1,1,0,0,1,0,1,0,2,0,1,2,1,2,0,1,0,2,0,2,0,1,0,1,1,0,1,2,1,1,2,2,2,1,0,0,1,1,0,1,0,1,2,1,1,2,1,2,1,1,0,0,1,1,1,1,2,2,2,0,0,2,2,1,2,0,1,0,2,0,2,0,1,0,1,2,2,2,0,0,1,0,0,2,2],\"colorscale\":[[0.0,\"blue\"],[0.5,\"red\"],[1.0,\"green\"]],\"size\":9,\"symbol\":\"circle-open\"},\"mode\":\"markers\",\"name\":\"assigned category\",\"x\":[-7.109552810057596,5.9874024420853305,0.12800782111610085,-3.4197520600643636,-11.5830540105627,-0.018627715556959044,9.678303774374637,-0.23733747553109175,-10.740186108080692,-2.593924198061167,-2.030393553778298,-4.064846609597879,-5.419747143585888,3.9405809493734463,3.7744376991223416,0.3882504142848946,1.0697983584569932,-8.698910041246855,-5.388217188950073,1.1545138937212744,-5.614010127711966,0.1334970410228064,-3.427346877617126,9.006523905410972,-17.662951007170847,-1.2209019198961333,4.008411511084965,6.575314457421722,6.149455587899874,-8.712850717364606,-1.2356366241061225,-8.29883368197082,5.340843694311273,-8.593643553225927,7.0335951082066375,-8.0665916991926,-2.4747278311698806,-9.839984720908866,1.094653079198753,-0.43089005538560166,-9.01333917438989,-0.7254334803985123,8.130840363165332,0.5587132048474234,6.181433546057293,4.747170993028246,7.809056973517464,7.707926743312776,-1.8074099510149795,-8.411540416028874,-2.740741834994699,-0.7959146932233903,2.109855475652514,-8.364314953943502,3.42754134474525,-6.61802740759715,-1.5672500002600298,4.775231164631773,4.858935409794105,-0.34903539298253017,5.048201226180942,-1.0705854991525032,4.769782871170975,5.686962371543834,0.5935881147911207,-12.493141783340988,-11.255459013450729,1.729417429210297,0.4457809586531427,-0.7160257975174191,-0.587220312328312,5.53619089360479,10.039301284190708,5.916311543638355,-7.200824298078203,-6.330965925929839,8.840684610318593,6.5663718435609795,-0.05394784919048745,6.836762045237343,-0.0498274720298415,0.561951672422086,-6.672360394487658,6.480913560829175,-8.759842709255462,4.2596816199246845,-10.099723498432347,0.6469572699189694,-7.6647920605205915,0.6478297974098579,10.092665552729521,6.182069023154669,6.276029310016074,-7.42508303778698,-1.5040881641701267,-0.511128992552914,-8.181439790478121,-2.0705302629673596,6.16992811564178,8.983044692655723],\"y\":[-6.709517958537973,9.001780713802063,1.2416165181585397,-5.373879251951787,-3.216674184510385,0.48352878740830696,10.631717194500904,0.885339675170791,-6.411299798845082,-5.027501347783377,-0.9607751102139338,-4.647567200273876,-3.6642354273967164,3.939582764586884,2.721407505366034,-0.3871271811779628,0.1665195100182666,-5.698766269269956,-8.12839054787305,-5.126980298976021,-9.726985406728982,-1.2892611938117313,-5.501826586548332,7.81663743268094,-7.943681005145219,0.059615433090329545,6.687589036996599,2.4103859293553556,4.743498386391799,-5.14712985111985,-0.1407864421846237,-6.218908667761217,7.794299494372734,-7.474929674917517,5.134847247700244,-6.378143332871425,-2.580853872694103,-5.245409531773599,0.6396923552031146,-0.540270263790554,-9.488220501282187,-0.0349433855520906,4.2552486773411395,-0.4783646604432103,1.5651647779266966,5.0159122137151435,2.2686976550303237,9.173733086132563,-3.3325243611150266,-9.828944086811628,-7.039983508195127,0.07274552915143462,3.680554098019784,-7.032834735576948,3.712556347325746,-2.4607453934125143,-3.761218689362217,8.79993099204373,1.94185574852383,0.2528250912215497,6.593689061540348,0.37086997203026,3.87568775314434,1.455511770758287,2.0708785257760858,-4.706649095459656,-4.230755239000831,0.6940522720694241,-0.782709043447464,0.7314657358201054,1.9108268513563658,5.070662557702199,6.652524545897313,5.454528927727748,-1.6837013158861627,-7.254001353647695,5.360819718134216,5.871279656221559,1.3151672242748802,4.215187330673151,-8.23660136880073,-0.29382123783761,-2.181446381466868,6.906075573549749,-5.02717104946277,5.520735853069058,-4.2013231083183715,5.139798785845975,-4.550684683521101,-0.5603734188841619,7.333975699183396,7.570864494154181,7.879005708390844,-9.486282073906917,-6.263828465601802,-0.12284340561303929,-9.092954631165936,-8.202135260222951,8.195558975081262,3.203767978324612],\"type\":\"scatter\"}],                        {\"annotations\":[{\"arrowcolor\":\"gray\",\"arrowhead\":2,\"arrowsize\":1,\"arrowwidth\":1,\"ax\":0,\"axref\":\"x\",\"ay\":0,\"ayref\":\"y\",\"showarrow\":true,\"text\":\"\",\"x\":3.7744376991223416,\"xref\":\"x\",\"y\":2.721407505366034,\"yref\":\"y\"},{\"arrowcolor\":\"gray\",\"arrowhead\":2,\"arrowsize\":1,\"arrowwidth\":1,\"ax\":0,\"axref\":\"x\",\"ay\":0,\"ayref\":\"y\",\"showarrow\":true,\"text\":\"\",\"x\":0.12800782111610085,\"xref\":\"x\",\"y\":1.2416165181585397,\"yref\":\"y\"},{\"arrowcolor\":\"gray\",\"arrowhead\":2,\"arrowsize\":1,\"arrowwidth\":1,\"ax\":0.12800782111610085,\"axref\":\"x\",\"ay\":1.2416165181585397,\"ayref\":\"y\",\"showarrow\":true,\"text\":\"\",\"x\":3.7744376991223416,\"xref\":\"x\",\"y\":2.721407505366034,\"yref\":\"y\"},{\"arrowcolor\":\"black\",\"arrowhead\":2,\"arrowsize\":1,\"arrowwidth\":3,\"ax\":0.12800782111610085,\"axref\":\"x\",\"ay\":1.2416165181585397,\"ayref\":\"y\",\"showarrow\":true,\"text\":\"\",\"x\":-1.6952071178870196,\"xref\":\"x\",\"y\":0.5017210245547925,\"yref\":\"y\"}],\"height\":500,\"legend\":{\"title\":{\"text\":\"category\"},\"tracegroupgap\":0},\"margin\":{\"t\":60},\"template\":{\"data\":{\"barpolar\":[{\"marker\":{\"line\":{\"color\":\"#E5ECF6\",\"width\":0.5},\"pattern\":{\"fillmode\":\"overlay\",\"size\":10,\"solidity\":0.2}},\"type\":\"barpolar\"}],\"bar\":[{\"error_x\":{\"color\":\"#2a3f5f\"},\"error_y\":{\"color\":\"#2a3f5f\"},\"marker\":{\"line\":{\"color\":\"#E5ECF6\",\"width\":0.5},\"pattern\":{\"fillmode\":\"overlay\",\"size\":10,\"solidity\":0.2}},\"type\":\"bar\"}],\"carpet\":[{\"aaxis\":{\"endlinecolor\":\"#2a3f5f\",\"gridcolor\":\"white\",\"linecolor\":\"white\",\"minorgridcolor\":\"white\",\"startlinecolor\":\"#2a3f5f\"},\"baxis\":{\"endlinecolor\":\"#2a3f5f\",\"gridcolor\":\"white\",\"linecolor\":\"white\",\"minorgridcolor\":\"white\",\"startlinecolor\":\"#2a3f5f\"},\"type\":\"carpet\"}],\"choropleth\":[{\"colorbar\":{\"outlinewidth\":0,\"ticks\":\"\"},\"type\":\"choropleth\"}],\"contourcarpet\":[{\"colorbar\":{\"outlinewidth\":0,\"ticks\":\"\"},\"type\":\"contourcarpet\"}],\"contour\":[{\"colorbar\":{\"outlinewidth\":0,\"ticks\":\"\"},\"colorscale\":[[0.0,\"#0d0887\"],[0.1111111111111111,\"#46039f\"],[0.2222222222222222,\"#7201a8\"],[0.3333333333333333,\"#9c179e\"],[0.4444444444444444,\"#bd3786\"],[0.5555555555555556,\"#d8576b\"],[0.6666666666666666,\"#ed7953\"],[0.7777777777777778,\"#fb9f3a\"],[0.8888888888888888,\"#fdca26\"],[1.0,\"#f0f921\"]],\"type\":\"contour\"}],\"heatmapgl\":[{\"colorbar\":{\"outlinewidth\":0,\"ticks\":\"\"},\"colorscale\":[[0.0,\"#0d0887\"],[0.1111111111111111,\"#46039f\"],[0.2222222222222222,\"#7201a8\"],[0.3333333333333333,\"#9c179e\"],[0.4444444444444444,\"#bd3786\"],[0.5555555555555556,\"#d8576b\"],[0.6666666666666666,\"#ed7953\"],[0.7777777777777778,\"#fb9f3a\"],[0.8888888888888888,\"#fdca26\"],[1.0,\"#f0f921\"]],\"type\":\"heatmapgl\"}],\"heatmap\":[{\"colorbar\":{\"outlinewidth\":0,\"ticks\":\"\"},\"colorscale\":[[0.0,\"#0d0887\"],[0.1111111111111111,\"#46039f\"],[0.2222222222222222,\"#7201a8\"],[0.3333333333333333,\"#9c179e\"],[0.4444444444444444,\"#bd3786\"],[0.5555555555555556,\"#d8576b\"],[0.6666666666666666,\"#ed7953\"],[0.7777777777777778,\"#fb9f3a\"],[0.8888888888888888,\"#fdca26\"],[1.0,\"#f0f921\"]],\"type\":\"heatmap\"}],\"histogram2dcontour\":[{\"colorbar\":{\"outlinewidth\":0,\"ticks\":\"\"},\"colorscale\":[[0.0,\"#0d0887\"],[0.1111111111111111,\"#46039f\"],[0.2222222222222222,\"#7201a8\"],[0.3333333333333333,\"#9c179e\"],[0.4444444444444444,\"#bd3786\"],[0.5555555555555556,\"#d8576b\"],[0.6666666666666666,\"#ed7953\"],[0.7777777777777778,\"#fb9f3a\"],[0.8888888888888888,\"#fdca26\"],[1.0,\"#f0f921\"]],\"type\":\"histogram2dcontour\"}],\"histogram2d\":[{\"colorbar\":{\"outlinewidth\":0,\"ticks\":\"\"},\"colorscale\":[[0.0,\"#0d0887\"],[0.1111111111111111,\"#46039f\"],[0.2222222222222222,\"#7201a8\"],[0.3333333333333333,\"#9c179e\"],[0.4444444444444444,\"#bd3786\"],[0.5555555555555556,\"#d8576b\"],[0.6666666666666666,\"#ed7953\"],[0.7777777777777778,\"#fb9f3a\"],[0.8888888888888888,\"#fdca26\"],[1.0,\"#f0f921\"]],\"type\":\"histogram2d\"}],\"histogram\":[{\"marker\":{\"pattern\":{\"fillmode\":\"overlay\",\"size\":10,\"solidity\":0.2}},\"type\":\"histogram\"}],\"mesh3d\":[{\"colorbar\":{\"outlinewidth\":0,\"ticks\":\"\"},\"type\":\"mesh3d\"}],\"parcoords\":[{\"line\":{\"colorbar\":{\"outlinewidth\":0,\"ticks\":\"\"}},\"type\":\"parcoords\"}],\"pie\":[{\"automargin\":true,\"type\":\"pie\"}],\"scatter3d\":[{\"line\":{\"colorbar\":{\"outlinewidth\":0,\"ticks\":\"\"}},\"marker\":{\"colorbar\":{\"outlinewidth\":0,\"ticks\":\"\"}},\"type\":\"scatter3d\"}],\"scattercarpet\":[{\"marker\":{\"colorbar\":{\"outlinewidth\":0,\"ticks\":\"\"}},\"type\":\"scattercarpet\"}],\"scattergeo\":[{\"marker\":{\"colorbar\":{\"outlinewidth\":0,\"ticks\":\"\"}},\"type\":\"scattergeo\"}],\"scattergl\":[{\"marker\":{\"colorbar\":{\"outlinewidth\":0,\"ticks\":\"\"}},\"type\":\"scattergl\"}],\"scattermapbox\":[{\"marker\":{\"colorbar\":{\"outlinewidth\":0,\"ticks\":\"\"}},\"type\":\"scattermapbox\"}],\"scatterpolargl\":[{\"marker\":{\"colorbar\":{\"outlinewidth\":0,\"ticks\":\"\"}},\"type\":\"scatterpolargl\"}],\"scatterpolar\":[{\"marker\":{\"colorbar\":{\"outlinewidth\":0,\"ticks\":\"\"}},\"type\":\"scatterpolar\"}],\"scatter\":[{\"marker\":{\"colorbar\":{\"outlinewidth\":0,\"ticks\":\"\"}},\"type\":\"scatter\"}],\"scatterternary\":[{\"marker\":{\"colorbar\":{\"outlinewidth\":0,\"ticks\":\"\"}},\"type\":\"scatterternary\"}],\"surface\":[{\"colorbar\":{\"outlinewidth\":0,\"ticks\":\"\"},\"colorscale\":[[0.0,\"#0d0887\"],[0.1111111111111111,\"#46039f\"],[0.2222222222222222,\"#7201a8\"],[0.3333333333333333,\"#9c179e\"],[0.4444444444444444,\"#bd3786\"],[0.5555555555555556,\"#d8576b\"],[0.6666666666666666,\"#ed7953\"],[0.7777777777777778,\"#fb9f3a\"],[0.8888888888888888,\"#fdca26\"],[1.0,\"#f0f921\"]],\"type\":\"surface\"}],\"table\":[{\"cells\":{\"fill\":{\"color\":\"#EBF0F8\"},\"line\":{\"color\":\"white\"}},\"header\":{\"fill\":{\"color\":\"#C8D4E3\"},\"line\":{\"color\":\"white\"}},\"type\":\"table\"}]},\"layout\":{\"annotationdefaults\":{\"arrowcolor\":\"#2a3f5f\",\"arrowhead\":0,\"arrowwidth\":1},\"autotypenumbers\":\"strict\",\"coloraxis\":{\"colorbar\":{\"outlinewidth\":0,\"ticks\":\"\"}},\"colorscale\":{\"diverging\":[[0,\"#8e0152\"],[0.1,\"#c51b7d\"],[0.2,\"#de77ae\"],[0.3,\"#f1b6da\"],[0.4,\"#fde0ef\"],[0.5,\"#f7f7f7\"],[0.6,\"#e6f5d0\"],[0.7,\"#b8e186\"],[0.8,\"#7fbc41\"],[0.9,\"#4d9221\"],[1,\"#276419\"]],\"sequential\":[[0.0,\"#0d0887\"],[0.1111111111111111,\"#46039f\"],[0.2222222222222222,\"#7201a8\"],[0.3333333333333333,\"#9c179e\"],[0.4444444444444444,\"#bd3786\"],[0.5555555555555556,\"#d8576b\"],[0.6666666666666666,\"#ed7953\"],[0.7777777777777778,\"#fb9f3a\"],[0.8888888888888888,\"#fdca26\"],[1.0,\"#f0f921\"]],\"sequentialminus\":[[0.0,\"#0d0887\"],[0.1111111111111111,\"#46039f\"],[0.2222222222222222,\"#7201a8\"],[0.3333333333333333,\"#9c179e\"],[0.4444444444444444,\"#bd3786\"],[0.5555555555555556,\"#d8576b\"],[0.6666666666666666,\"#ed7953\"],[0.7777777777777778,\"#fb9f3a\"],[0.8888888888888888,\"#fdca26\"],[1.0,\"#f0f921\"]]},\"colorway\":[\"#636efa\",\"#EF553B\",\"#00cc96\",\"#ab63fa\",\"#FFA15A\",\"#19d3f3\",\"#FF6692\",\"#B6E880\",\"#FF97FF\",\"#FECB52\"],\"font\":{\"color\":\"#2a3f5f\"},\"geo\":{\"bgcolor\":\"white\",\"lakecolor\":\"white\",\"landcolor\":\"#E5ECF6\",\"showlakes\":true,\"showland\":true,\"subunitcolor\":\"white\"},\"hoverlabel\":{\"align\":\"left\"},\"hovermode\":\"closest\",\"mapbox\":{\"style\":\"light\"},\"paper_bgcolor\":\"white\",\"plot_bgcolor\":\"#E5ECF6\",\"polar\":{\"angularaxis\":{\"gridcolor\":\"white\",\"linecolor\":\"white\",\"ticks\":\"\"},\"bgcolor\":\"#E5ECF6\",\"radialaxis\":{\"gridcolor\":\"white\",\"linecolor\":\"white\",\"ticks\":\"\"}},\"scene\":{\"xaxis\":{\"backgroundcolor\":\"#E5ECF6\",\"gridcolor\":\"white\",\"gridwidth\":2,\"linecolor\":\"white\",\"showbackground\":true,\"ticks\":\"\",\"zerolinecolor\":\"white\"},\"yaxis\":{\"backgroundcolor\":\"#E5ECF6\",\"gridcolor\":\"white\",\"gridwidth\":2,\"linecolor\":\"white\",\"showbackground\":true,\"ticks\":\"\",\"zerolinecolor\":\"white\"},\"zaxis\":{\"backgroundcolor\":\"#E5ECF6\",\"gridcolor\":\"white\",\"gridwidth\":2,\"linecolor\":\"white\",\"showbackground\":true,\"ticks\":\"\",\"zerolinecolor\":\"white\"}},\"shapedefaults\":{\"line\":{\"color\":\"#2a3f5f\"}},\"ternary\":{\"aaxis\":{\"gridcolor\":\"white\",\"linecolor\":\"white\",\"ticks\":\"\"},\"baxis\":{\"gridcolor\":\"white\",\"linecolor\":\"white\",\"ticks\":\"\"},\"bgcolor\":\"#E5ECF6\",\"caxis\":{\"gridcolor\":\"white\",\"linecolor\":\"white\",\"ticks\":\"\"}},\"title\":{\"x\":0.05},\"xaxis\":{\"automargin\":true,\"gridcolor\":\"white\",\"linecolor\":\"white\",\"ticks\":\"\",\"title\":{\"standoff\":15},\"zerolinecolor\":\"white\",\"zerolinewidth\":2},\"yaxis\":{\"automargin\":true,\"gridcolor\":\"white\",\"linecolor\":\"white\",\"ticks\":\"\",\"title\":{\"standoff\":15},\"zerolinecolor\":\"white\",\"zerolinewidth\":2}}},\"width\":600,\"xaxis\":{\"anchor\":\"y\",\"domain\":[0.0,1.0],\"title\":{\"text\":\"feature1\"}},\"yaxis\":{\"anchor\":\"x\",\"domain\":[0.0,1.0],\"title\":{\"text\":\"feature2\"}}},                        {\"responsive\": true}                    ).then(function(){\n",
              "                            \n",
              "var gd = document.getElementById('d6e599ea-50f3-4180-ba97-5fff89435a1a');\n",
              "var x = new MutationObserver(function (mutations, observer) {{\n",
              "        var display = window.getComputedStyle(gd).display;\n",
              "        if (!display || display === 'none') {{\n",
              "            console.log([gd, 'removed!']);\n",
              "            Plotly.purge(gd);\n",
              "            observer.disconnect();\n",
              "        }}\n",
              "}});\n",
              "\n",
              "// Listen for the removal of the full notebook cells\n",
              "var notebookContainer = gd.closest('#notebook-container');\n",
              "if (notebookContainer) {{\n",
              "    x.observe(notebookContainer, {childList: true});\n",
              "}}\n",
              "\n",
              "// Listen for the clearing of the current output cell\n",
              "var outputEl = gd.closest('.output');\n",
              "if (outputEl) {{\n",
              "    x.observe(outputEl, {childList: true});\n",
              "}}\n",
              "\n",
              "                        })                };                            </script>        </div>\n",
              "</body>\n",
              "</html>"
            ]
          },
          "metadata": {}
        }
      ]
    },
    {
      "cell_type": "markdown",
      "source": [
        "## LVQ komplett"
      ],
      "metadata": {
        "id": "5J0OiDKm_-hM"
      }
    },
    {
      "cell_type": "code",
      "source": [
        "logging = []\n",
        "\n",
        "prototypes = train_data.groupby('category').head(1)\n",
        "prototypes = prototypes.reset_index(drop=True)\n",
        "prototypes"
      ],
      "metadata": {
        "id": "NljV-Cb29cMP",
        "colab": {
          "base_uri": "https://localhost:8080/",
          "height": 155
        },
        "outputId": "c1043902-cfc3-444a-dff8-3138f4d5df1c"
      },
      "execution_count": 20,
      "outputs": [
        {
          "output_type": "execute_result",
          "data": {
            "text/plain": [
              "   feature1  feature2  target category assigned_category\n",
              "0 -7.109553 -6.709518       0    cat_0             cat_0\n",
              "1  5.987402  9.001781       2    cat_2             cat_2\n",
              "2  0.128008  1.241617       1    cat_1             cat_1"
            ],
            "text/html": [
              "\n",
              "  <div id=\"df-b91da465-4761-4a90-a5c3-28683f4dd553\">\n",
              "    <div class=\"colab-df-container\">\n",
              "      <div>\n",
              "<style scoped>\n",
              "    .dataframe tbody tr th:only-of-type {\n",
              "        vertical-align: middle;\n",
              "    }\n",
              "\n",
              "    .dataframe tbody tr th {\n",
              "        vertical-align: top;\n",
              "    }\n",
              "\n",
              "    .dataframe thead th {\n",
              "        text-align: right;\n",
              "    }\n",
              "</style>\n",
              "<table border=\"1\" class=\"dataframe\">\n",
              "  <thead>\n",
              "    <tr style=\"text-align: right;\">\n",
              "      <th></th>\n",
              "      <th>feature1</th>\n",
              "      <th>feature2</th>\n",
              "      <th>target</th>\n",
              "      <th>category</th>\n",
              "      <th>assigned_category</th>\n",
              "    </tr>\n",
              "  </thead>\n",
              "  <tbody>\n",
              "    <tr>\n",
              "      <th>0</th>\n",
              "      <td>-7.109553</td>\n",
              "      <td>-6.709518</td>\n",
              "      <td>0</td>\n",
              "      <td>cat_0</td>\n",
              "      <td>cat_0</td>\n",
              "    </tr>\n",
              "    <tr>\n",
              "      <th>1</th>\n",
              "      <td>5.987402</td>\n",
              "      <td>9.001781</td>\n",
              "      <td>2</td>\n",
              "      <td>cat_2</td>\n",
              "      <td>cat_2</td>\n",
              "    </tr>\n",
              "    <tr>\n",
              "      <th>2</th>\n",
              "      <td>0.128008</td>\n",
              "      <td>1.241617</td>\n",
              "      <td>1</td>\n",
              "      <td>cat_1</td>\n",
              "      <td>cat_1</td>\n",
              "    </tr>\n",
              "  </tbody>\n",
              "</table>\n",
              "</div>\n",
              "      <button class=\"colab-df-convert\" onclick=\"convertToInteractive('df-b91da465-4761-4a90-a5c3-28683f4dd553')\"\n",
              "              title=\"Convert this dataframe to an interactive table.\"\n",
              "              style=\"display:none;\">\n",
              "        \n",
              "  <svg xmlns=\"http://www.w3.org/2000/svg\" height=\"24px\"viewBox=\"0 0 24 24\"\n",
              "       width=\"24px\">\n",
              "    <path d=\"M0 0h24v24H0V0z\" fill=\"none\"/>\n",
              "    <path d=\"M18.56 5.44l.94 2.06.94-2.06 2.06-.94-2.06-.94-.94-2.06-.94 2.06-2.06.94zm-11 1L8.5 8.5l.94-2.06 2.06-.94-2.06-.94L8.5 2.5l-.94 2.06-2.06.94zm10 10l.94 2.06.94-2.06 2.06-.94-2.06-.94-.94-2.06-.94 2.06-2.06.94z\"/><path d=\"M17.41 7.96l-1.37-1.37c-.4-.4-.92-.59-1.43-.59-.52 0-1.04.2-1.43.59L10.3 9.45l-7.72 7.72c-.78.78-.78 2.05 0 2.83L4 21.41c.39.39.9.59 1.41.59.51 0 1.02-.2 1.41-.59l7.78-7.78 2.81-2.81c.8-.78.8-2.07 0-2.86zM5.41 20L4 18.59l7.72-7.72 1.47 1.35L5.41 20z\"/>\n",
              "  </svg>\n",
              "      </button>\n",
              "      \n",
              "  <style>\n",
              "    .colab-df-container {\n",
              "      display:flex;\n",
              "      flex-wrap:wrap;\n",
              "      gap: 12px;\n",
              "    }\n",
              "\n",
              "    .colab-df-convert {\n",
              "      background-color: #E8F0FE;\n",
              "      border: none;\n",
              "      border-radius: 50%;\n",
              "      cursor: pointer;\n",
              "      display: none;\n",
              "      fill: #1967D2;\n",
              "      height: 32px;\n",
              "      padding: 0 0 0 0;\n",
              "      width: 32px;\n",
              "    }\n",
              "\n",
              "    .colab-df-convert:hover {\n",
              "      background-color: #E2EBFA;\n",
              "      box-shadow: 0px 1px 2px rgba(60, 64, 67, 0.3), 0px 1px 3px 1px rgba(60, 64, 67, 0.15);\n",
              "      fill: #174EA6;\n",
              "    }\n",
              "\n",
              "    [theme=dark] .colab-df-convert {\n",
              "      background-color: #3B4455;\n",
              "      fill: #D2E3FC;\n",
              "    }\n",
              "\n",
              "    [theme=dark] .colab-df-convert:hover {\n",
              "      background-color: #434B5C;\n",
              "      box-shadow: 0px 1px 3px 1px rgba(0, 0, 0, 0.15);\n",
              "      filter: drop-shadow(0px 1px 2px rgba(0, 0, 0, 0.3));\n",
              "      fill: #FFFFFF;\n",
              "    }\n",
              "  </style>\n",
              "\n",
              "      <script>\n",
              "        const buttonEl =\n",
              "          document.querySelector('#df-b91da465-4761-4a90-a5c3-28683f4dd553 button.colab-df-convert');\n",
              "        buttonEl.style.display =\n",
              "          google.colab.kernel.accessAllowed ? 'block' : 'none';\n",
              "\n",
              "        async function convertToInteractive(key) {\n",
              "          const element = document.querySelector('#df-b91da465-4761-4a90-a5c3-28683f4dd553');\n",
              "          const dataTable =\n",
              "            await google.colab.kernel.invokeFunction('convertToInteractive',\n",
              "                                                     [key], {});\n",
              "          if (!dataTable) return;\n",
              "\n",
              "          const docLinkHtml = 'Like what you see? Visit the ' +\n",
              "            '<a target=\"_blank\" href=https://colab.research.google.com/notebooks/data_table.ipynb>data table notebook</a>'\n",
              "            + ' to learn more about interactive tables.';\n",
              "          element.innerHTML = '';\n",
              "          dataTable['output_type'] = 'display_data';\n",
              "          await google.colab.output.renderOutput(dataTable, element);\n",
              "          const docLink = document.createElement('div');\n",
              "          docLink.innerHTML = docLinkHtml;\n",
              "          element.appendChild(docLink);\n",
              "        }\n",
              "      </script>\n",
              "    </div>\n",
              "  </div>\n",
              "  "
            ],
            "application/vnd.google.colaboratory.module+javascript": "\n      import \"https://ssl.gstatic.com/colaboratory/data_table/f872b2c2305463fd/data_table.js\";\n\n      window.createDataTable({\n        data: [[{\n            'v': 0,\n            'f': \"0\",\n        },\n{\n            'v': -7.109552810057596,\n            'f': \"-7.109552810057596\",\n        },\n{\n            'v': -6.709517958537973,\n            'f': \"-6.709517958537973\",\n        },\n{\n            'v': 0,\n            'f': \"0\",\n        },\n\"cat_0\",\n\"cat_0\"],\n [{\n            'v': 1,\n            'f': \"1\",\n        },\n{\n            'v': 5.9874024420853305,\n            'f': \"5.9874024420853305\",\n        },\n{\n            'v': 9.001780713802063,\n            'f': \"9.001780713802063\",\n        },\n{\n            'v': 2,\n            'f': \"2\",\n        },\n\"cat_2\",\n\"cat_2\"],\n [{\n            'v': 2,\n            'f': \"2\",\n        },\n{\n            'v': 0.12800782111610085,\n            'f': \"0.12800782111610085\",\n        },\n{\n            'v': 1.2416165181585397,\n            'f': \"1.2416165181585397\",\n        },\n{\n            'v': 1,\n            'f': \"1\",\n        },\n\"cat_1\",\n\"cat_1\"]],\n        columns: [[\"number\", \"index\"], [\"number\", \"feature1\"], [\"number\", \"feature2\"], [\"number\", \"target\"], [\"string\", \"category\"], [\"string\", \"assigned_category\"]],\n        columnOptions: [{\"width\": \"1px\", \"className\": \"index_column\"}],\n        rowsPerPage: 25,\n        helpUrl: \"https://colab.research.google.com/notebooks/data_table.ipynb\",\n        suppressOutputScrolling: true,\n        minimumWidth: undefined,\n      });\n    "
          },
          "metadata": {},
          "execution_count": 20
        }
      ]
    },
    {
      "cell_type": "code",
      "source": [
        "learning_rate = 0.01\n",
        "num_epochs = 20 # Eine Epoche ist ein Durchlauf durch die Daten\n",
        "\n",
        "for i in range(num_epochs):\n",
        "\n",
        "    for ix, train_sample in train_data.iterrows():\n",
        "\n",
        "        logging.append(prototypes.copy())\n",
        "\n",
        "        # Compute distance from each prototype to this point ...\n",
        "        distances = distance_fn(train_sample, prototypes[features])  \n",
        "        # ... and select nearest\n",
        "        nearest_prototype = np.argmin(distances)\n",
        "\n",
        "        # Push or pull the prototype based on the label\n",
        "        push_or_pull = 1 if train_sample.category == prototypes.loc[nearest_prototype].category else -1\n",
        "\n",
        "        # direction\n",
        "        update_direction = (train_sample[features] - prototypes.loc[nearest_prototype, features])\n",
        "\n",
        "        # Update nearest prototype\n",
        "        prototypes.loc[nearest_prototype, features] = prototypes.loc[nearest_prototype, features] + push_or_pull * learning_rate * update_direction\n",
        "\n",
        "\n",
        "    train_data = predict(train_data, prototypes)\n",
        "    print(f'Train Accuracy epoch_{i:02d}: {(train_data.category == train_data.assigned_category).mean():.3f}')\n",
        "\n",
        "logging.append(prototypes.copy())\n",
        "trajectory = pd.concat(logging)"
      ],
      "metadata": {
        "colab": {
          "base_uri": "https://localhost:8080/"
        },
        "id": "GLvA9iRVA_63",
        "outputId": "978b109e-2a37-4684-fc21-576a63000181"
      },
      "execution_count": 21,
      "outputs": [
        {
          "output_type": "stream",
          "name": "stdout",
          "text": [
            "Train Accuracy epoch_00: 0.890\n",
            "Train Accuracy epoch_01: 0.900\n",
            "Train Accuracy epoch_02: 0.920\n",
            "Train Accuracy epoch_03: 0.930\n",
            "Train Accuracy epoch_04: 0.940\n",
            "Train Accuracy epoch_05: 0.940\n",
            "Train Accuracy epoch_06: 0.940\n",
            "Train Accuracy epoch_07: 0.940\n",
            "Train Accuracy epoch_08: 0.940\n",
            "Train Accuracy epoch_09: 0.940\n"
          ]
        }
      ]
    },
    {
      "cell_type": "code",
      "source": [
        "#@title Visualisierung\n",
        "\n",
        "go.Figure(fig_data).add_traces(\n",
        "    [   \n",
        "     go.Scatter(\n",
        "            x=trajectory.loc[i, 'feature1'], \n",
        "            y=trajectory.loc[i, 'feature2'],\n",
        "            line=dict(color=\"black\")\n",
        "        )\n",
        "        for i in trajectory.index.unique()\n",
        "    ] \n",
        "        +\n",
        "    [\n",
        "    go.Scatter(\n",
        "        x = prototypes['feature1'],\n",
        "        y = prototypes['feature2'],\n",
        "        mode = 'markers',\n",
        "        name = 'prototypes',\n",
        "        marker={\n",
        "            'color': prototypes.target,\n",
        "            'colorscale': ['blue', 'red', 'green'],\n",
        "            'size': 12,\n",
        "            'symbol': 'x-open',\n",
        "        }\n",
        "    ),\n",
        "    go.Scatter(\n",
        "        x = train_data['feature1'],\n",
        "        y = train_data['feature2'],\n",
        "        mode = 'markers',\n",
        "        name = 'assigned category',\n",
        "        marker={\n",
        "            'color': train_data.assigned_category.str.split('_').str.get(1).astype('int'),\n",
        "            'colorscale': ['blue', 'red', 'green'],\n",
        "            'size': 9,\n",
        "            'symbol': 'circle-open',\n",
        "        }\n",
        "    )\n",
        "])"
      ],
      "metadata": {
        "id": "2bXnVE7jUOEc",
        "colab": {
          "base_uri": "https://localhost:8080/",
          "height": 517
        },
        "outputId": "db727124-f9a8-47ac-ea44-d75f7ffc2440",
        "cellView": "form"
      },
      "execution_count": 22,
      "outputs": [
        {
          "output_type": "display_data",
          "data": {
            "text/html": [
              "<html>\n",
              "<head><meta charset=\"utf-8\" /></head>\n",
              "<body>\n",
              "    <div>            <script src=\"https://cdnjs.cloudflare.com/ajax/libs/mathjax/2.7.5/MathJax.js?config=TeX-AMS-MML_SVG\"></script><script type=\"text/javascript\">if (window.MathJax) {MathJax.Hub.Config({SVG: {font: \"STIX-Web\"}});}</script>                <script type=\"text/javascript\">window.PlotlyConfig = {MathJaxConfig: 'local'};</script>\n",
              "        <script src=\"https://cdn.plot.ly/plotly-2.8.3.min.js\"></script>                <div id=\"b53dd2a7-a067-4a09-9598-a3dc253da928\" class=\"plotly-graph-div\" style=\"height:500px; width:600px;\"></div>            <script type=\"text/javascript\">                                    window.PLOTLYENV=window.PLOTLYENV || {};                                    if (document.getElementById(\"b53dd2a7-a067-4a09-9598-a3dc253da928\")) {                    Plotly.newPlot(                        \"b53dd2a7-a067-4a09-9598-a3dc253da928\",                        [{\"hovertemplate\":\"category=cat_0<br>feature1=%{x}<br>feature2=%{y}<extra></extra>\",\"legendgroup\":\"cat_0\",\"marker\":{\"color\":\"#636efa\",\"symbol\":\"circle\"},\"mode\":\"markers\",\"name\":\"cat_0\",\"orientation\":\"v\",\"showlegend\":true,\"x\":[-7.109552810057596,-8.593643553225927,-8.0665916991926,-2.4747278311698806,-9.839984720908866,-9.01333917438989,-1.8074099510149795,-2.740741834994699,-8.364314953943502,-6.61802740759715,-1.5672500002600298,-12.493141783340988,-11.255459013450729,-7.200824298078203,-6.330965925929839,-0.0498274720298415,-6.672360394487658,-8.759842709255462,-10.099723498432347,-7.6647920605205915,-7.42508303778698,-1.5040881641701267,-8.181439790478121,-2.0705302629673596,-8.29883368197082,-8.712850717364606,-8.411540416028874,-2.593924198061167,-5.388217188950073,-10.740186108080692,-11.5830540105627,1.1545138937212744,-8.698910041246855,-5.614010127711966,-5.419747143585888,-4.064846609597879,-3.4197520600643636,-17.662951007170847,-3.427346877617126],\"xaxis\":\"x\",\"y\":[-6.709517958537973,-7.474929674917517,-6.378143332871425,-2.580853872694103,-5.245409531773599,-9.488220501282187,-3.3325243611150266,-7.039983508195127,-7.032834735576948,-2.4607453934125143,-3.761218689362217,-4.706649095459656,-4.230755239000831,-1.6837013158861627,-7.254001353647695,-8.23660136880073,-2.181446381466868,-5.02717104946277,-4.2013231083183715,-4.550684683521101,-9.486282073906917,-6.263828465601802,-9.092954631165936,-8.202135260222951,-6.218908667761217,-5.14712985111985,-9.828944086811628,-5.027501347783377,-8.12839054787305,-6.411299798845082,-3.216674184510385,-5.126980298976021,-5.698766269269956,-9.726985406728982,-3.6642354273967164,-4.647567200273876,-5.373879251951787,-7.943681005145219,-5.501826586548332],\"yaxis\":\"y\",\"type\":\"scatter\"},{\"hovertemplate\":\"category=cat_1<br>feature1=%{x}<br>feature2=%{y}<extra></extra>\",\"legendgroup\":\"cat_1\",\"marker\":{\"color\":\"#EF553B\",\"symbol\":\"circle\"},\"mode\":\"markers\",\"name\":\"cat_1\",\"orientation\":\"v\",\"showlegend\":true,\"x\":[1.729417429210297,0.5935881147911207,0.4457809586531427,0.561951672422086,-0.7160257975174191,-1.0705854991525032,-0.587220312328312,-0.34903539298253017,-0.23733747553109175,0.3882504142848946,-0.05394784919048745,1.0697983584569932,-0.7959146932233903,-2.030393553778298,-0.018627715556959044,-1.2209019198961333,-1.2356366241061225,0.12800782111610085,-0.511128992552914,0.1334970410228064,-0.43089005538560166,-0.7254334803985123,1.094653079198753,0.6478297974098579,0.5587132048474234],\"xaxis\":\"x\",\"y\":[0.6940522720694241,2.0708785257760858,-0.782709043447464,-0.29382123783761,0.7314657358201054,0.37086997203026,1.9108268513563658,0.2528250912215497,0.885339675170791,-0.3871271811779628,1.3151672242748802,0.1665195100182666,0.07274552915143462,-0.9607751102139338,0.48352878740830696,0.059615433090329545,-0.1407864421846237,1.2416165181585397,-0.12284340561303929,-1.2892611938117313,-0.540270263790554,-0.0349433855520906,0.6396923552031146,-0.5603734188841619,-0.4783646604432103],\"yaxis\":\"y\",\"type\":\"scatter\"},{\"hovertemplate\":\"category=cat_2<br>feature1=%{x}<br>feature2=%{y}<extra></extra>\",\"legendgroup\":\"cat_2\",\"marker\":{\"color\":\"#00cc96\",\"symbol\":\"circle\"},\"mode\":\"markers\",\"name\":\"cat_2\",\"orientation\":\"v\",\"showlegend\":true,\"x\":[6.276029310016074,6.182069023154669,0.6469572699189694,6.836762045237343,6.480913560829175,10.092665552729521,4.2596816199246845,9.678303774374637,5.9874024420853305,6.5663718435609795,8.840684610318593,6.575314457421722,5.686962371543834,10.039301284190708,6.149455587899874,5.340843694311273,9.006523905410972,7.0335951082066375,8.130840363165332,6.181433546057293,4.747170993028246,7.809056973517464,7.707926743312776,5.916311543638355,6.16992811564178,3.42754134474525,3.7744376991223416,4.775231164631773,4.858935409794105,5.048201226180942,4.769782871170975,4.008411511084965,3.9405809493734463,5.53619089360479,2.109855475652514,8.983044692655723],\"xaxis\":\"x\",\"y\":[7.879005708390844,7.570864494154181,5.139798785845975,4.215187330673151,6.906075573549749,7.333975699183396,5.520735853069058,10.631717194500904,9.001780713802063,5.871279656221559,5.360819718134216,2.4103859293553556,1.455511770758287,6.652524545897313,4.743498386391799,7.794299494372734,7.81663743268094,5.134847247700244,4.2552486773411395,1.5651647779266966,5.0159122137151435,2.2686976550303237,9.173733086132563,5.454528927727748,8.195558975081262,3.712556347325746,2.721407505366034,8.79993099204373,1.94185574852383,6.593689061540348,3.87568775314434,6.687589036996599,3.939582764586884,5.070662557702199,3.680554098019784,3.203767978324612],\"yaxis\":\"y\",\"type\":\"scatter\"},{\"line\":{\"color\":\"black\"},\"x\":[-7.109552810057596,-7.109552810057596,-7.109552810057596,-7.109552810057596,-7.072654802557664,-7.117758794637714,-7.117758794637714,-7.117758794637714,-7.117758794637714,-7.153983067772144,-7.108382479075034,-7.108382479075034,-7.077947120380262,-7.061365120612319,-7.061365120612319,-7.061365120612319,-7.061365120612319,-7.061365120612319,-7.077740569818664,-7.060845336009978,-7.060845336009978,-7.046376983926997,-7.046376983926997,-7.010186682863899,-7.010186682863899,-7.116714326106968,-7.116714326106968,-7.116714326106968,-7.116714326106968,-7.116714326106968,-7.1326756900195445,-7.1326756900195445,-7.144337269939057,-7.144337269939057,-7.158830332771926,-7.158830332771926,-7.167907946436133,-7.167907946436133,-7.19462871418086,-7.19462871418086,-7.19462871418086,-7.212815818782951,-7.212815818782951,-7.212815818782951,-7.212815818782951,-7.212815818782951,-7.212815818782951,-7.212815818782951,-7.212815818782951,-7.212815818782951,-7.22480306475541,-7.1799624524578025,-7.1799624524578025,-7.1799624524578025,-7.19180597747266,-7.19180597747266,-7.186068191773905,-7.186068191773905,-7.186068191773905,-7.186068191773905,-7.186068191773905,-7.186068191773905,-7.186068191773905,-7.186068191773905,-7.186068191773905,-7.186068191773905,-7.2391389276895755,-7.279302128547187,-7.279302128547187,-7.279302128547187,-7.279302128547187,-7.279302128547187,-7.279302128547187,-7.279302128547187,-7.279302128547187,-7.278517350242497,-7.269041835999371,-7.269041835999371,-7.269041835999371,-7.269041835999371,-7.269041835999371,-7.196849692359676,-7.196849692359676,-7.191604799380955,-7.191604799380955,-7.2072871784797,-7.2072871784797,-7.236211541679227,-7.236211541679227,-7.240497346867641,-7.240497346867641,-7.240497346867641,-7.240497346867641,-7.240497346867641,-7.2423432037768345,-7.1849606533807675,-7.1849606533807675,-7.194925444751741,-7.143681492933897,-7.143681492933897,-7.143681492933897,-7.143340206105134,-7.143340206105134,-7.143340206105134,-7.106104324644726,-7.1508738215039065,-7.1508738215039065,-7.1508738215039065,-7.1508738215039065,-7.1867669443696744,-7.140838516906589,-7.140838516906589,-7.110078597833502,-7.093175283291027,-7.093175283291027,-7.093175283291027,-7.093175283291027,-7.093175283291027,-7.109232630870585,-7.09202247645138,-7.09202247645138,-7.077242352963985,-7.077242352963985,-7.040743398210517,-7.040743398210517,-7.14696547430012,-7.14696547430012,-7.14696547430012,-7.14696547430012,-7.14696547430012,-7.162624326730764,-7.162624326730764,-7.173986420283165,-7.173986420283165,-7.188182991612592,-7.188182991612592,-7.196967078688393,-7.196967078688393,-7.223397255110597,-7.223397255110597,-7.223397255110597,-7.24129667430339,-7.24129667430339,-7.24129667430339,-7.24129667430339,-7.24129667430339,-7.24129667430339,-7.24129667430339,-7.24129667430339,-7.24129667430339,-7.252999111720645,-7.207876538953386,-7.207876538953386,-7.207876538953386,-7.219440923103287,-7.219440923103287,-7.213426787948225,-7.213426787948225,-7.213426787948225,-7.213426787948225,-7.213426787948225,-7.213426787948225,-7.213426787948225,-7.213426787948225,-7.213426787948225,-7.213426787948225,-7.2662239379021525,-7.3061162886576385,-7.3061162886576385,-7.3061162886576385,-7.3061162886576385,-7.3061162886576385,-7.3061162886576385,-7.3061162886576385,-7.3061162886576385,-7.305063368751844,-7.295322394323624,-7.295322394323624,-7.295322394323624,-7.295322394323624,-7.295322394323624,-7.222867445100686,-7.222867445100686,-7.217362374594556,-7.217362374594556,-7.232787177941165,-7.232787177941165,-7.261456541146077,-7.261456541146077,-7.2654898963398225,-7.2654898963398225,-7.2654898963398225,-7.2654898963398225,-7.2654898963398225,-7.267085827754294,-7.209455851118452,-7.209455851118452,-7.219175690512049,-7.167689236236602,-7.167689236236602,-7.167689236236602,-7.167107871974812,-7.167107871974812,-7.167107871974812,-7.129634313855708,-7.174168510822778,-7.174168510822778,-7.174168510822778,-7.174168510822778,-7.2098286867953565,-7.163669641908014,-7.163669641908014,-7.132681411584913,-7.115552068904923,-7.115552068904923,-7.115552068904923,-7.115552068904923,-7.115552068904923,-7.131385648628342,-7.113953964031559,-7.113953964031559,-7.098954525668363,-7.098954525668363,-7.06223844918785,-7.06223844918785,-7.16824557476768,-7.16824557476768,-7.16824557476768,-7.16824557476768,-7.16824557476768,-7.183691626193649,-7.183691626193649,-7.194843046751421,-7.194843046751421,-7.2088310518161665,-7.2088310518161665,-7.217408658289931,-7.217408658289931,-7.243634418916121,-7.243634418916121,-7.243634418916121,-7.261331466470859,-7.261331466470859,-7.261331466470859,-7.261331466470859,-7.261331466470859,-7.261331466470859,-7.261331466470859,-7.261331466470859,-7.261331466470859,-7.2728335559664385,-7.227512638756721,-7.227512638756721,-7.227512638756721,-7.238880661908589,-7.238880661908589,-7.232672129365475,-7.232672129365475,-7.232672129365475,-7.232672129365475,-7.232672129365475,-7.232672129365475,-7.232672129365475,-7.232672129365475,-7.232672129365475,-7.232672129365475,-7.28527682590523,-7.324978647780685,-7.324978647780685,-7.324978647780685,-7.324978647780685,-7.324978647780685,-7.324978647780685,-7.324978647780685,-7.324978647780685,-7.32373710428366,-7.313809392500122,-7.313809392500122,-7.313809392500122,-7.313809392500122,-7.313809392500122,-7.241169573295419,-7.241169573295419,-7.235481481507342,-7.235481481507342,-7.250725093784823,-7.250725093784823,-7.279215077831298,-7.279215077831298,-7.28307084765819,-7.28307084765819,-7.28307084765819,-7.28307084765819,-7.28307084765819,-7.284490969559478,-7.2266869415055845,-7.2266869415055845,-7.23623446999531,-7.1845774279250305,-7.1845774279250305,-7.1845774279250305,-7.183827181746357,-7.183827181746357,-7.183827181746357,-7.146186430529537,-7.190555106329868,-7.190555106329868,-7.190555106329868,-7.190555106329868,-7.226051416347376,-7.179730144164514,-7.179730144164514,-7.148581308818848,-7.131292967166519,-7.131292967166519,-7.131292967166519,-7.131292967166519,-7.131292967166519,-7.146969137907322,-7.129381618417749,-7.129381618417749,-7.114227903510692,-7.114227903510692,-7.077359093251756,-7.077359093251756,-7.183215012390947,-7.183215012390947,-7.183215012390947,-7.183215012390947,-7.183215012390947,-7.198511369440683,-7.198511369440683,-7.209514592565984,-7.209514592565984,-7.223355882172584,-7.223355882172584,-7.231788240342784,-7.231788240342784,-7.2578702051484445,-7.2578702051484445,-7.2578702051484445,-7.275424894840859,-7.275424894840859,-7.275424894840859,-7.275424894840859,-7.275424894840859,-7.275424894840859,-7.275424894840859,-7.275424894840859,-7.275424894840859,-7.286786050052739,-7.241325607902159,-7.241325607902159,-7.241325607902159,-7.252555501362572,-7.252555501362572,-7.246210220424918,-7.246210220424918,-7.246210220424918,-7.246210220424918,-7.246210220424918,-7.246210220424918,-7.246210220424918,-7.246210220424918,-7.246210220424918,-7.246210220424918,-7.298679536054078,-7.338247330828045,-7.338247330828045,-7.338247330828045,-7.338247330828045,-7.338247330828045,-7.338247330828045,-7.338247330828045,-7.338247330828045,-7.336873100500546,-7.326814028754839,-7.326814028754839,-7.326814028754839,-7.326814028754839,-7.326814028754839,-7.254044163187589,-7.254044163187589,-7.24822732550059,-7.24822732550059,-7.263343479338139,-7.263343479338139,-7.2917072795290805,-7.2917072795290805,-7.295438127338995,-7.295438127338995,-7.295438127338995,-7.295438127338995,-7.295438127338995,-7.296734576443475,-7.238808112320742,-7.238808112320742,-7.2482344291023155,-7.196457387440966,-7.196457387440966,-7.196457387440966,-7.195588341667133,-7.195588341667133,-7.195588341667133,-7.157829978851105,-7.20208221916822,-7.20208221916822,-7.20208221916822,-7.20208221916822,-7.237463258057345,-7.191027867457383,-7.191027867457383,-7.159766054878788,-7.142365865765859,-7.142365865765859,-7.142365865765859,-7.142365865765859,-7.142365865765859,-7.157931307520669,-7.140234166334963,-7.140234166334963,-7.124971925948733,-7.124971925948733,-7.087995675465417,-7.087995675465417,-7.193745228782472,-7.193745228782472,-7.193745228782472,-7.193745228782472,-7.193745228782472,-7.208936283668293,-7.208936283668293,-7.219835257651318,-7.219835257651318,-7.233573340607064,-7.233573340607064,-7.241903524192919,-7.241903524192919,-7.267884336160079,-7.267884336160079,-7.267884336160079,-7.285338884542377,-7.285338884542377,-7.285338884542377,-7.285338884542377,-7.285338884542377,-7.285338884542377,-7.285338884542377,-7.285338884542377,-7.285338884542377,-7.296600899857243,-7.251042309208617,-7.251042309208617,-7.251042309208617,-7.262175035655965,-7.262175035655965,-7.255733559375377,-7.255733559375377,-7.255733559375377,-7.255733559375377,-7.255733559375377,-7.255733559375377,-7.255733559375377,-7.255733559375377,-7.255733559375377,-7.255733559375377,-7.308107641615034,-7.3475811553333905,-7.3475811553333905,-7.3475811553333905,-7.3475811553333905,-7.3475811553333905,-7.3475811553333905,-7.3475811553333905,-7.3475811553333905,-7.346113586760839,-7.335962110152529,-7.335962110152529,-7.335962110152529,-7.335962110152529,-7.335962110152529,-7.263100763771302,-7.263100763771302,-7.257193360078466,-7.257193360078466,-7.272219853570236,-7.272219853570236,-7.300494890018856,-7.300494890018856,-7.3041378617238735,-7.3041378617238735,-7.3041378617238735,-7.3041378617238735,-7.3041378617238735,-7.305347313484504,-7.24733472199136,-7.24733472199136,-7.256675772676228,-7.20481431757914,-7.20481431757914,-7.20481431757914,-7.203861702503924,-7.203861702503924,-7.203861702503924,-7.166020606079528,-7.2101909401243605,-7.2101909401243605,-7.2101909401243605,-7.2101909401243605,-7.245490891803923,-7.198975224866496,-7.198975224866496,-7.16763393871381,-7.150155070762531,-7.150155070762531,-7.150155070762531,-7.150155070762531,-7.150155070762531,-7.165642620467374,-7.147868366152202,-7.147868366152202,-7.132529783767799,-7.132529783767799,-7.0954779547062925,-7.0954779547062925,-7.201152685230938,-7.201152685230938,-7.201152685230938,-7.201152685230938,-7.201152685230938,-7.216269665552275,-7.216269665552275,-7.22709530571646,-7.22709530571646,-7.240760788191555,-7.240760788191555,-7.249019097301566,-7.249019097301566,-7.274928753537639,-7.274928753537639,-7.274928753537639,-7.292312857746161,-7.292312857746161,-7.292312857746161,-7.292312857746161,-7.292312857746161,-7.292312857746161,-7.292312857746161,-7.292312857746161,-7.292312857746161,-7.303505133328988,-7.2578775003456455,-7.2578775003456455,-7.2578775003456455,-7.268941874881624,-7.268941874881624,-7.262432730208779,-7.262432730208779,-7.262432730208779,-7.262432730208779,-7.262432730208779,-7.262432730208779,-7.262432730208779,-7.262432730208779,-7.262432730208779,-7.262432730208779,-7.314739820740101,-7.354147012667207,-7.354147012667207,-7.354147012667207,-7.354147012667207,-7.354147012667207,-7.354147012667207,-7.354147012667207,-7.354147012667207,-7.352613785521317,-7.3423973069254025,-7.3423973069254025,-7.3423973069254025,-7.3423973069254025,-7.3423973069254025,-7.269471608576447,-7.269471608576447,-7.263500496435559,-7.263500496435559,-7.278463918563758,-7.278463918563758,-7.306676514362444,-7.306676514362444,-7.310257669824026,-7.310257669824026,-7.310257669824026,-7.310257669824026,-7.310257669824026,-7.3114059235036555,-7.2533327459103205,-7.2533327459103205,-7.262613816355999,-7.210692980822112,-7.210692980822112,-7.210692980822112,-7.209681579114467,-7.209681579114467,-7.209681579114467,-7.171782283923966,-7.215895001190354,-7.215895001190354,-7.215895001190354,-7.215895001190354,-7.251137912259257,-7.204565775117277,-7.204565775117277,-7.173168583462083,-7.15563436906332,-7.15563436906332,-7.15563436906332,-7.15563436906332,-7.15563436906332,-7.1710671257851555,-7.153238626416805,-7.153238626416805,-7.137846341429756,-7.137846341429756,-7.10074134679163,-7.10074134679163,-7.206363443395422,-7.206363443395422,-7.206363443395422,-7.206363443395422,-7.206363443395422,-7.221428316135114,-7.221428316135114,-7.232202369793471,-7.232202369793471,-7.245816781627796,-7.245816781627796,-7.254024530803444,-7.254024530803444,-7.279884132704498,-7.279884132704498,-7.279884132704498,-7.297218683121352,-7.297218683121352,-7.297218683121352,-7.297218683121352,-7.297218683121352,-7.297218683121352,-7.297218683121352,-7.297218683121352,-7.297218683121352,-7.308361900450428,-7.26268569979587,-7.26268569979587,-7.26268569979587,-7.2737019923373465,-7.2737019923373465,-7.267145246489944,-7.267145246489944,-7.267145246489944,-7.267145246489944,-7.267145246489944,-7.267145246489944,-7.267145246489944,-7.267145246489944,-7.267145246489944,-7.267145246489944,-7.319405211858455,-7.358765749874378,-7.358765749874378,-7.358765749874378,-7.358765749874378,-7.358765749874378,-7.358765749874378,-7.358765749874378,-7.358765749874378,-7.357186335356416,-7.34692413126215,-7.34692413126215,-7.34692413126215,-7.34692413126215,-7.34692413126215,-7.273953164669827,-7.273953164669827,-7.267937236968005,-7.267937236968005,-7.282856291690879,-7.282856291690879,-7.311024963758294,-7.311024963758294,-7.314562634725918,-7.314562634725918,-7.314562634725918,-7.314562634725918,-7.314562634725918,-7.315667838756529,-7.257552042010665,-7.257552042010665,-7.26679091949534,-7.21482831293006,-7.21482831293006,-7.21482831293006,-7.213775557901336,-7.213775557901336,-7.213775557901336,-7.175835322922966,-7.219907509799363,-7.219907509799363,-7.219907509799363,-7.219907509799363,-7.255110295782176,-7.208498434804966,-7.208498434804966,-7.177061916552895,-7.159488768823225,-7.159488768823225,-7.159488768823225,-7.159488768823225,-7.159488768823225,-7.174882981547461,-7.157016323621487,-7.157016323621487,-7.141586261662392,-7.141586261662392,-7.1044438678219395,-7.1044438678219395,-7.210028939215428,-7.210028939215428,-7.210028939215428,-7.210028939215428,-7.210028939215428,-7.22505715699692,-7.22505715699692,-7.235794922246659,-7.235794922246659,-7.249373408556451,-7.249373408556451,-7.257545591462812,-7.257545591462812,-7.283369982757273,-7.283369982757273,-7.283369982757273,-7.3006696746736,-7.3006696746736,-7.3006696746736,-7.3006696746736,-7.3006696746736,-7.3006696746736,-7.3006696746736,-7.3006696746736,-7.3006696746736,-7.3117783820871525,-7.266068016616228,-7.266068016616228,-7.266068016616228,-7.277050485989501,-7.277050485989501,-7.2704602552055775,-7.2704602552055775,-7.2704602552055775,-7.2704602552055775,-7.2704602552055775,-7.2704602552055775,-7.2704602552055775,-7.2704602552055775,-7.2704602552055775,-7.2704602552055775,-7.322687070486932,-7.36201478991657,-7.36201478991657,-7.36201478991657,-7.36201478991657,-7.36201478991657,-7.36201478991657,-7.36201478991657,-7.36201478991657,-7.360402884998186,-7.350108515407503,-7.350108515407503,-7.350108515407503,-7.350108515407503,-7.350108515407503,-7.277105704973726,-7.277105704973726,-7.271058251868865,-7.271058251868865,-7.285946096442731,-7.285946096442731,-7.314083870462627,-7.314083870462627,-7.317590952363207,-7.317590952363207,-7.317590952363207,-7.317590952363207,-7.317590952363207,-7.318665873217444,-7.260520096126971,-7.260520096126971,-7.269729293070482,-7.217737302769451,-7.217737302769451,-7.217737302769451,-7.216655457842332,-7.216655457842332,-7.216655457842332,-7.178686423864552,-7.222730099731534,-7.222730099731534,-7.222730099731534,-7.222730099731534,-7.257904659815025,-7.211264855197486,-7.211264855197486,-7.17980067274149,-7.1622001374499344,-7.1622001374499344,-7.1622001374499344,-7.1622001374499344,-7.1622001374499344,-7.177567236487904,-7.159673736012525,-7.159673736012525,-7.14421709992952,-7.14421709992952,-7.1070483977063965,-7.1070483977063965,-7.212607423801041,-7.212607423801041,-7.212607423801041,-7.212607423801041,-7.212607423801041,-7.227609856736676,-7.227609856736676,-7.238322094989018,-7.238322094989018,-7.251875309571386,-7.251875309571386,-7.260022473467599,-7.260022473467599,-7.285822095942011,-7.285822095942011,-7.285822095942011,-7.30309726672649,-7.30309726672649,-7.30309726672649,-7.30309726672649,-7.30309726672649,-7.30309726672649,-7.30309726672649,-7.30309726672649,-7.30309726672649,-7.314181698219514,-7.268447299587265,-7.268447299587265,-7.268447299587265,-7.279405976130827,-7.279405976130827,-7.27279219044549,-7.27279219044549,-7.27279219044549,-7.27279219044549,-7.27279219044549,-7.27279219044549,-7.27279219044549,-7.27279219044549,-7.27279219044549,-7.27279219044549,-7.324995686374446,-7.364300319645208,-7.364300319645208,-7.364300319645208,-7.364300319645208,-7.364300319645208,-7.364300319645208,-7.364300319645208,-7.364300319645208,-7.362665559429538,-7.352348563094541,-7.352348563094541,-7.352348563094541,-7.352348563094541,-7.352348563094541,-7.279323352183894,-7.279323352183894,-7.273253722606932,-7.273253722606932,-7.288119612473418,-7.288119612473418,-7.316235651333007,-7.316235651333007,-7.319721215424883,-7.319721215424883,-7.319721215424883,-7.319721215424883,-7.319721215424883,-7.320774833648504,-7.262607966953721,-7.262607966953721,-7.271796285188965,-7.219783624966749,-7.219783624966749,-7.219783624966749,-7.218681316817658,-7.218681316817658,-7.218681316817658,-7.180692024250124,-7.22471564411325,-7.22471564411325,-7.22471564411325,-7.22471564411325,-7.259870348752924,-7.213210887246007,-7.213210887246007,-7.181727244469525,-7.164107443460689,-7.164107443460689,-7.164107443460689,-7.164107443460689,-7.164107443460689,-7.179455469438551,-7.1615430866336665,-7.1615430866336665,-7.14606775704445,-7.14606775704445,-7.108880548250177,-7.108880548250177,-7.214421252839384,-7.214421252839384,-7.214421252839384,-7.214421252839384,-7.214421252839384,-7.229405547484636,-7.229405547484636,-7.240099828829498,-7.240099828829498,-7.253635266073463,-7.253635266073463,-7.261764830404654,-7.261764830404654,-7.287547029309696,-7.287547029309696,-7.287547029309696,-7.304804950760498,-7.304804950760498,-7.304804950760498,-7.304804950760498,-7.304804950760498,-7.304804950760498,-7.304804950760498,-7.304804950760498,-7.304804950760498,-7.315872305413182,-7.270121000708997,-7.270121000708997,-7.270121000708997,-7.281062940241342,-7.281062940241342,-7.2744325849149005,-7.2744325849149005,-7.2744325849149005,-7.2744325849149005,-7.2744325849149005,-7.2744325849149005,-7.2744325849149005,-7.2744325849149005,-7.2744325849149005,-7.2744325849149005,-7.326619676899162,-7.365908070264677,-7.365908070264677,-7.365908070264677,-7.365908070264677,-7.365908070264677,-7.365908070264677,-7.365908070264677,-7.365908070264677,-7.364257232542812,-7.353924319476683,-7.353924319476683,-7.353924319476683,-7.353924319476683,-7.353924319476683,-7.280883351002214,-7.280883351002214,-7.274798121437069,-7.274798121437069,-7.289648567315253,-7.289648567315253,-7.317749316626424,-7.317749316626424,-7.321219744065366,-7.321219744065366,-7.321219744065366,-7.321219744065366,-7.321219744065366,-7.322258377002582,-7.264076674874257,-7.264076674874257,-7.273250306030295,-7.221223105599666,-7.221223105599666,-7.221223105599666],\"y\":[-6.709517958537973,-6.709517958537973,-6.709517958537973,-6.709517958537973,-6.696161571472111,-6.661366697602494,-6.661366697602494,-6.661366697602494,-6.661366697602494,-6.65886602861492,-6.642552381806604,-6.642552381806604,-6.622602529991277,-6.593018858965332,-6.593018858965332,-6.593018858965332,-6.593018858965332,-6.593018858965332,-6.584076333068378,-6.599519475216424,-6.599519475216424,-6.63079413453155,-6.63079413453155,-6.619504459051718,-6.619504459051718,-6.632746224512653,-6.632746224512653,-6.632746224512653,-6.632746224512653,-6.632746224512653,-6.617890060778725,-6.617890060778725,-6.61390024684855,-6.61390024684855,-6.622510541129239,-6.622510541129239,-6.620066869046661,-6.620066869046661,-6.60632029567393,-6.60632029567393,-6.60632029567393,-6.635139297730013,-6.635139297730013,-6.635139297730013,-6.635139297730013,-6.635139297730013,-6.635139297730013,-6.635139297730013,-6.635139297730013,-6.635139297730013,-6.667077345620829,-6.670806407246571,-6.670806407246571,-6.670806407246571,-6.6744266905298755,-6.6744266905298755,-6.632289877558702,-6.632289877558702,-6.632289877558702,-6.632289877558702,-6.632289877558702,-6.632289877558702,-6.632289877558702,-6.632289877558702,-6.632289877558702,-6.632289877558702,-6.613033469737712,-6.589210687430342,-6.589210687430342,-6.589210687430342,-6.589210687430342,-6.589210687430342,-6.589210687430342,-6.589210687430342,-6.589210687430342,-6.540155593714901,-6.547294051314228,-6.547294051314228,-6.547294051314228,-6.547294051314228,-6.547294051314228,-6.564187124489093,-6.564187124489093,-6.520359717058871,-6.520359717058871,-6.50542783038291,-6.50542783038291,-6.482386783162265,-6.482386783162265,-6.463069762165853,-6.463069762165853,-6.463069762165853,-6.463069762165853,-6.463069762165853,-6.493301885283263,-6.491007151086449,-6.491007151086449,-6.517026625887244,-6.533877712230601,-6.533877712230601,-6.533877712230601,-6.535634114693675,-6.535634114693675,-6.535634114693675,-6.524016566066256,-6.490943142250697,-6.490943142250697,-6.490943142250697,-6.490943142250697,-6.490146708816641,-6.475520255206309,-6.475520255206309,-6.457240724656985,-6.429310671684382,-6.429310671684382,-6.429310671684382,-6.429310671684382,-6.429310671684382,-6.422005227660238,-6.439069080862366,-6.439069080862366,-6.471948244121032,-6.471948244121032,-6.462247027545305,-6.462247027545305,-6.477061367321304,-6.477061367321304,-6.477061367321304,-6.477061367321304,-6.477061367321304,-6.463762052159289,-6.463762052159289,-6.4613135183153085,-6.4613135183153085,-6.471449679881331,-6.471449679881331,-6.470516616411231,-6.470516616411231,-6.458265545564855,-6.458265545564855,-6.458265545564855,-6.488565095122029,-6.488565095122029,-6.488565095122029,-6.488565095122029,-6.488565095122029,-6.488565095122029,-6.488565095122029,-6.488565095122029,-6.488565095122029,-6.521968885038925,-6.527149031270487,-6.527149031270487,-6.527149031270487,-6.532205888313552,-6.532205888313552,-6.4914912833645415,-6.4914912833645415,-6.4914912833645415,-6.4914912833645415,-6.4914912833645415,-6.4914912833645415,-6.4914912833645415,-6.4914912833645415,-6.4914912833645415,-6.4914912833645415,-6.473642861485493,-6.451213985260646,-6.451213985260646,-6.451213985260646,-6.451213985260646,-6.451213985260646,-6.451213985260646,-6.451213985260646,-6.451213985260646,-6.4035388585669,-6.412043483517708,-6.412043483517708,-6.412043483517708,-6.412043483517708,-6.412043483517708,-6.430289062370538,-6.430289062370538,-6.387800635561502,-6.387800635561502,-6.374194339700514,-6.374194339700514,-6.352465627386692,-6.352465627386692,-6.334447817948036,-6.334447817948036,-6.334447817948036,-6.334447817948036,-6.334447817948036,-6.365966160507625,-6.364944783558567,-6.364944783558567,-6.392224882034641,-6.4103239858165235,-6.4103239858165235,-6.4103239858165235,-6.413315925543738,-6.413315925543738,-6.413315925543738,-6.402921558807819,-6.371059085064845,-6.371059085064845,-6.371059085064845,-6.371059085064845,-6.371461492202647,-6.358021890758454,-6.358021890758454,-6.340917343853608,-6.314150524689039,-6.314150524689039,-6.314150524689039,-6.314150524689039,-6.314150524689039,-6.307996682134847,-6.326200620792229,-6.326200620792229,-6.360208468651597,-6.360208468651597,-6.351624649830564,-6.351624649830564,-6.3675452133837105,-6.3675452133837105,-6.3675452133837105,-6.3675452133837105,-6.3675452133837105,-6.355341059761072,-6.355341059761072,-6.353976735841073,-6.353976735841073,-6.365186265231837,-6.365186265231837,-6.365315835908233,-6.365315835908233,-6.354116772866886,-6.354116772866886,-6.354116772866886,-6.385457810151039,-6.385457810151039,-6.385457810151039,-6.385457810151039,-6.385457810151039,-6.385457810151039,-6.385457810151039,-6.385457810151039,-6.385457810151039,-6.419892672917645,-6.42609358127042,-6.42609358127042,-6.42609358127042,-6.432160992813485,-6.432160992813485,-6.392446836819476,-6.392446836819476,-6.392446836819476,-6.392446836819476,-6.392446836819476,-6.392446836819476,-6.392446836819476,-6.392446836819476,-6.392446836819476,-6.392446836819476,-6.375588859405878,-6.354140523201827,-6.354140523201827,-6.354140523201827,-6.354140523201827,-6.354140523201827,-6.354140523201827,-6.354140523201827,-6.354140523201827,-6.307436131128671,-6.3169017833538605,-6.3169017833538605,-6.3169017833538605,-6.3169017833538605,-6.3169017833538605,-6.33609877920833,-6.33609877920833,-6.294552255230915,-6.294552255230915,-6.281878443173234,-6.281878443173234,-6.2610728898246855,-6.2610728898246855,-6.24396900776165,-6.24396900776165,-6.24396900776165,-6.24396900776165,-6.24396900776165,-6.276392138423103,-6.27626650169489,-6.27626650169489,-6.3044333829896,-6.323410401761934,-6.323410401761934,-6.323410401761934,-6.3272714773296945,-6.3272714773296945,-6.3272714773296945,-6.317737555075915,-6.28672692137026,-6.28672692137026,-6.28672692137026,-6.28672692137026,-6.287972650145008,-6.275367937121391,-6.275367937121391,-6.259089929752916,-6.233141384729354,-6.233141384729354,-6.233141384729354,-6.233141384729354,-6.233141384729354,-6.22779763357476,-6.2468035627177425,-6.2468035627177425,-6.2816053811578545,-6.2816053811578545,-6.273807593211759,-6.273807593211759,-6.290506327331094,-6.290506327331094,-6.290506327331094,-6.290506327331094,-6.290506327331094,-6.279072562568982,-6.279072562568982,-6.278470923620904,-6.278470923620904,-6.29043551113387,-6.29043551113387,-6.291312589351246,-6.291312589351246,-6.280853558775469,-6.280853558775469,-6.280853558775469,-6.312927228200536,-6.312927228200536,-6.312927228200536,-6.312927228200536,-6.312927228200536,-6.312927228200536,-6.312927228200536,-6.312927228200536,-6.312927228200536,-6.348087396786647,-6.355006357900732,-6.355006357900732,-6.355006357900732,-6.3617846416774935,-6.3617846416774935,-6.322774249194843,-6.322774249194843,-6.322774249194843,-6.322774249194843,-6.322774249194843,-6.322774249194843,-6.322774249194843,-6.322774249194843,-6.322774249194843,-6.322774249194843,-6.306612997657491,-6.285854420070924,-6.285854420070924,-6.285854420070924,-6.285854420070924,-6.285854420070924,-6.285854420070924,-6.285854420070924,-6.285854420070924,-6.239832889029077,-6.249974573675263,-6.249974573675263,-6.249974573675263,-6.249974573675263,-6.249974573675263,-6.269840841626517,-6.269840841626517,-6.228956897024921,-6.228956897024921,-6.2169390385493,-6.2169390385493,-6.196782879246991,-6.196782879246991,-6.180321897289732,-6.180321897289732,-6.180321897289732,-6.180321897289732,-6.180321897289732,-6.213381499055903,-6.213885968721362,-6.213885968721362,-6.242676655345808,-6.26227124139458,-6.26227124139458,-6.26227124139458,-6.266743708566014,-6.266743708566014,-6.266743708566014,-6.257815063999872,-6.227403655204977,-6.227403655204977,-6.227403655204977,-6.227403655204977,-6.229242616641378,-6.217225203952798,-6.217225203952798,-6.201528623916008,-6.176155691950815,-6.176155691950815,-6.176155691950815,-6.176155691950815,-6.176155691950815,-6.171381797724007,-6.190951885225497,-6.190951885225497,-6.226312220440533,-6.226312220440533,-6.219067364101611,-6.219067364101611,-6.236313500512047,-6.236313500512047,-6.236313500512047,-6.236313500512047,-6.236313500512047,-6.225421664018125,-6.225421664018125,-6.225356534055556,-6.225356534055556,-6.237852265464175,-6.237852265464175,-6.239255176138248,-6.239255176138248,-6.2293167196946015,-6.2293167196946015,-6.2293167196946015,-6.261905757510477,-6.261905757510477,-6.261905757510477,-6.261905757510477,-6.261905757510477,-6.261905757510477,-6.261905757510477,-6.261905757510477,-6.261905757510477,-6.297576140803488,-6.305000214477404,-6.305000214477404,-6.305000214477404,-6.3122785596884,-6.3122785596884,-6.273763228025641,-6.273763228025641,-6.273763228025641,-6.273763228025641,-6.273763228025641,-6.273763228025641,-6.273763228025641,-6.273763228025641,-6.273763228025641,-6.273763228025641,-6.258092086699981,-6.237818718222989,-6.237818718222989,-6.237818718222989,-6.237818718222989,-6.237818718222989,-6.237818718222989,-6.237818718222989,-6.237818718222989,-6.192277544199621,-6.202894782294102,-6.202894782294102,-6.202894782294102,-6.202894782294102,-6.202894782294102,-6.223231848159168,-6.223231848159168,-6.182813993492245,-6.182813993492245,-6.171257564051951,-6.171257564051951,-6.151558219494615,-6.151558219494615,-6.13554948413488,-6.13554948413488,-6.13554948413488,-6.13554948413488,-6.13554948413488,-6.1690568100326,-6.170004526588293,-6.170004526588293,-6.199234027634069,-6.219263039959958,-6.219263039959958,-6.219263039959958,-6.224165589145738,-6.224165589145738,-6.224165589145738,-6.215662725773798,-6.185672840361164,-6.185672840361164,-6.185672840361164,-6.185672840361164,-6.187929109946003,-6.176324832324377,-6.176324832324377,-6.161037256003872,-6.1360692377178,-6.1360692377178,-6.1360692377178,-6.1360692377178,-6.1360692377178,-6.131696208033322,-6.151663151431719,-6.151663151431719,-6.187416373984691,-6.187416373984691,-6.180560476110327,-6.180560476110327,-6.198191681400676,-6.198191681400676,-6.198191681400676,-6.198191681400676,-6.198191681400676,-6.187681063097868,-6.187681063097868,-6.1879933391445014,-6.1879933391445014,-6.200862702502231,-6.200862702502231,-6.2026355088059235,-6.2026355088059235,-6.193063249035601,-6.193063249035601,-6.193063249035601,-6.226014821558066,-6.226014821558066,-6.226014821558066,-6.226014821558066,-6.226014821558066,-6.226014821558066,-6.226014821558066,-6.226014821558066,-6.226014821558066,-6.262044114210601,-6.269823508150447,-6.269823508150447,-6.269823508150447,-6.277453620424712,-6.277453620424712,-6.23928653815459,-6.23928653815459,-6.23928653815459,-6.23928653815459,-6.23928653815459,-6.23928653815459,-6.23928653815459,-6.23928653815459,-6.23928653815459,-6.23928653815459,-6.223960163727641,-6.204028114480373,-6.204028114480373,-6.204028114480373,-6.204028114480373,-6.204028114480373,-6.204028114480373,-6.204028114480373,-6.204028114480373,-6.158824846494431,-6.169776611565964,-6.169776611565964,-6.169776611565964,-6.169776611565964,-6.169776611565964,-6.190444859138312,-6.190444859138312,-6.1503548743615974,-6.1503548743615974,-6.1391230361126095,-6.1391230361126095,-6.119745036834667,-6.119745036834667,-6.104054433301531,-6.104054433301531,-6.104054433301531,-6.104054433301531,-6.104054433301531,-6.1378767097075855,-6.139136227266528,-6.139136227266528,-6.168674411305522,-6.189009019794697,-6.189009019794697,-6.189009019794697,-6.19421410918213,-6.19421410918213,-6.19421410918213,-6.186010760609826,-6.1563173948488314,-6.1563173948488314,-6.1563173948488314,-6.1563173948488314,-6.158867218888794,-6.14755356017774,-6.14755356017774,-6.132553696578701,-6.107870513886882,-6.107870513886882,-6.107870513886882,-6.107870513886882,-6.107870513886882,-6.1037794714407125,-6.124025582205036,-6.124025582205036,-6.160055180450275,-6.160055180450275,-6.153472894511256,-6.153472894511256,-6.171374975617596,-6.171374975617596,-6.171374975617596,-6.171374975617596,-6.171374975617596,-6.1611325243726185,-6.1611325243726185,-6.161710285806504,-6.161710285806504,-6.174842479697614,-6.174842479697614,-6.176875488229352,-6.176875488229352,-6.1675608286647945,-6.1675608286647945,-6.1675608286647945,-6.200767425390969,-6.200767425390969,-6.200767425390969,-6.200767425390969,-6.200767425390969,-6.200767425390969,-6.200767425390969,-6.200767425390969,-6.200767425390969,-6.237049192005175,-6.245078535167075,-6.245078535167075,-6.245078535167075,-6.2529560971711735,-6.2529560971711735,-6.215033990133587,-6.215033990133587,-6.215033990133587,-6.215033990133587,-6.215033990133587,-6.215033990133587,-6.215033990133587,-6.215033990133587,-6.215033990133587,-6.215033990133587,-6.199950141186847,-6.180258192164987,-6.180258192164987,-6.180258192164987,-6.180258192164987,-6.180258192164987,-6.180258192164987,-6.180258192164987,-6.180258192164987,-6.135292623402199,-6.146479710704654,-6.146479710704654,-6.146479710704654,-6.146479710704654,-6.146479710704654,-6.167380927285614,-6.167380927285614,-6.127521581827427,-6.127521581827427,-6.11651807650378,-6.11651807650378,-6.097366126821926,-6.097366126821926,-6.081899312388918,-6.081899312388918,-6.081899312388918,-6.081899312388918,-6.081899312388918,-6.115943140004099,-6.117421993260075,-6.117421993260075,-6.147177319639134,-6.167726899044972,-6.167726899044972,-6.167726899044972,-6.1731448096399015,-6.1731448096399015,-6.1731448096399015,-6.16515215406302,-6.135667374367494,-6.135667374367494,-6.135667374367494,-6.135667374367494,-6.13842369861227,-6.127314475103981,-6.127314475103981,-6.1125170023556805,-6.088034186606091,-6.088034186606091,-6.088034186606091,-6.088034186606091,-6.088034186606091,-6.084141507432729,-6.104583997837133,-6.104583997837133,-6.140808011926051,-6.140808011926051,-6.134418197672274,-6.134418197672274,-6.152510825747004,-6.152510825747004,-6.152510825747004,-6.152510825747004,-6.152510825747004,-6.142457016000732,-6.142457016000732,-6.143221532518337,-6.143221532518337,-6.156538613942328,-6.156538613942328,-6.15875466113162,-6.15875466113162,-6.149621209838039,-6.149621209838039,-6.149621209838039,-6.1830072027524805,-6.1830072027524805,-6.1830072027524805,-6.1830072027524805,-6.1830072027524805,-6.1830072027524805,-6.1830072027524805,-6.1830072027524805,-6.1830072027524805,-6.219466571593072,-6.227671740959092,-6.227671740959092,-6.227671740959092,-6.235723370905271,-6.235723370905271,-6.197973591130343,-6.197973591130343,-6.197973591130343,-6.197973591130343,-6.197973591130343,-6.197973591130343,-6.197973591130343,-6.197973591130343,-6.197973591130343,-6.197973591130343,-6.183060346173637,-6.163537295101909,-6.163537295101909,-6.163537295101909,-6.163537295101909,-6.163537295101909,-6.163537295101909,-6.163537295101909,-6.163537295101909,-6.118738935309752,-6.130091559493131,-6.130091559493131,-6.130091559493131,-6.130091559493131,-6.130091559493131,-6.151156657586207,-6.151156657586207,-6.1114595548250135,-6.1114595548250135,-6.100616669771391,-6.100616669771391,-6.08162373415686,-6.08162373415686,-6.066314343650503,-6.066314343650503,-6.066314343650503,-6.066314343650503,-6.066314343650503,-6.100514020953067,-6.102147165399555,-6.102147165399555,-6.132055240057219,-6.152756040258876,-6.152756040258876,-6.152756040258876,-6.158323659441668,-6.158323659441668,-6.158323659441668,-6.150479215366769,-6.121141165058205,-6.121141165058205,-6.121141165058205,-6.121141165058205,-6.124042751396074,-6.113077337359947,-6.113077337359947,-6.098422235989086,-6.0740803679031625,-6.0740803679031625,-6.0740803679031625,-6.0740803679031625,-6.0740803679031625,-6.07032722691683,-6.090907860126392,-6.090907860126392,-6.127268635592418,-6.127268635592418,-6.121014215101977,-6.121014215101977,-6.139240883002409,-6.139240883002409,-6.139240883002409,-6.139240883002409,-6.139240883002409,-6.1293197726835835,-6.1293197726835835,-6.1302156616343595,-6.1302156616343595,-6.143662801767191,-6.143662801767191,-6.146007607078234,-6.146007607078234,-6.137001626325188,-6.137001626325188,-6.137001626325188,-6.170513815074758,-6.170513815074758,-6.170513815074758,-6.170513815074758,-6.170513815074758,-6.170513815074758,-6.170513815074758,-6.170513815074758,-6.170513815074758,-6.2070981177921265,-6.215426971696156,-6.215426971696156,-6.215426971696156,-6.223601049334964,-6.223601049334964,-6.18597249277574,-6.18597249277574,-6.18597249277574,-6.18597249277574,-6.18597249277574,-6.18597249277574,-6.18597249277574,-6.18597249277574,-6.18597249277574,-6.18597249277574,-6.171179258802579,-6.151775018604561,-6.151775018604561,-6.151775018604561,-6.151775018604561,-6.151775018604561,-6.151775018604561,-6.151775018604561,-6.151775018604561,-6.107094281577377,-6.1185633522980805,-6.1185633522980805,-6.1185633522980805,-6.1185633522980805,-6.1185633522980805,-6.139743732463107,-6.139743732463107,-6.100160758953145,-6.100160758953145,-6.089430861858241,-6.089430861858241,-6.070549784322842,-6.070549784322842,-6.055351133314825,-6.055351133314825,-6.055351133314825,-6.055351133314825,-6.055351133314825,-6.089660442720746,-6.091402122949556,-6.091402122949556,-6.12141764803172,-6.142224824153632,-6.142224824153632,-6.142224824153632,-6.147897755497476,-6.147897755497476,-6.147897755497476,-6.140157570462018,-6.110922736602502,-6.110922736602502,-6.110922736602502,-6.110922736602502,-6.113926507224928,-6.103062255630513,-6.103062255630513,-6.088507305076947,-6.064264586300144,-6.064264586300144,-6.064264586300144,-6.064264586300144,-6.064264586300144,-6.060609603129842,-6.081287412577274,-6.081287412577274,-6.117744392518791,-6.117744392518791,-6.111585214459086,-6.111585214459086,-6.129906172365947,-6.129906172365947,-6.129906172365947,-6.129906172365947,-6.129906172365947,-6.1200784091534866,-6.1200784091534866,-6.121066711739564,-6.121066711739564,-6.134605341371343,-6.134605341371343,-6.137040721286344,-6.137040721286344,-6.128124409391217,-6.128124409391217,-6.128124409391217,-6.161725370310126,-6.161725370310126,-6.161725370310126,-6.161725370310126,-6.161725370310126,-6.161725370310126,-6.161725370310126,-6.161725370310126,-6.161725370310126,-6.1983975574751415,-6.2068134169823415,-6.2068134169823415,-6.2068134169823415,-6.215073630168288,-6.215073630168288,-6.1775303478007295,-6.1775303478007295,-6.1775303478007295,-6.1775303478007295,-6.1775303478007295,-6.1775303478007295,-6.1775303478007295,-6.1775303478007295,-6.1775303478007295,-6.1775303478007295,-6.162821535277319,-6.143500872314553,-6.143500872314553,-6.143500872314553,-6.143500872314553,-6.143500872314553,-6.143500872314553,-6.143500872314553,-6.143500872314553,-6.0989028767502695,-6.110453861519244,-6.110453861519244,-6.110453861519244,-6.110453861519244,-6.110453861519244,-6.131715336592059,-6.131715336592059,-6.092212647040807,-6.092212647040807,-6.081562231065027,-6.081562231065027,-6.06275983983756,-6.06275983983756,-6.047639088274396,-6.047639088274396,-6.047639088274396,-6.047639088274396,-6.047639088274396,-6.082025518130721,-6.083843547605432,-6.083843547605432,-6.113934658441037,-6.134816664458857,-6.134816664458857,-6.134816664458857],\"type\":\"scatter\"},{\"line\":{\"color\":\"black\"},\"x\":[5.9874024420853305,5.9874024420853305,5.9874024420853305,5.9874024420853305,5.9874024420853305,5.9874024420853305,5.9874024420853305,6.024311455408223,6.024311455408223,6.024311455408223,6.024311455408223,6.024311455408223,6.024311455408223,6.024311455408223,6.024311455408223,6.024311455408223,6.024311455408223,6.024311455408223,6.024311455408223,6.024311455408223,6.024311455408223,6.024311455408223,6.024311455408223,6.024311455408223,6.0541335799082505,6.0541335799082505,6.0541335799082505,6.033676359220018,6.039092740202035,6.040196368679013,6.040196368679013,6.040196368679013,6.040196368679013,6.033202841935336,6.033202841935336,6.0432067645980485,6.0432067645980485,6.0432067645980485,6.0432067645980485,6.0432067645980485,6.0432067645980485,6.0432067645980485,6.0432067645980485,6.064083100583721,6.064083100583721,6.064083100583721,6.050913979508167,6.06849540944826,6.0848897227869045,6.0848897227869045,6.0848897227869045,6.0848897227869045,6.0848897227869045,6.0848897227869045,6.0848897227869045,6.0848897227869045,6.0848897227869045,6.0848897227869045,6.071793137205353,6.071793137205353,6.071793137205353,6.06155721809511,6.06155721809511,6.048639474625868,6.048639474625868,6.048639474625868,6.048639474625868,6.048639474625868,6.048639474625868,6.048639474625868,6.048639474625868,6.048639474625868,6.043514988815657,6.083472851769407,6.081801238688097,6.081801238688097,6.081801238688097,6.109390072404402,6.113959890115968,6.113959890115968,6.121187911667182,6.121187911667182,6.121187911667182,6.121187911667182,6.124785168158802,6.124785168158802,6.106134132676461,6.106134132676461,6.106134132676461,6.106134132676461,6.106134132676461,6.145999446876991,6.146360142639768,6.147656834313531,6.147656834313531,6.147656834313531,6.147656834313531,6.147656834313531,6.147656834313531,6.147879547126813,6.176231198582102,6.176231198582102,6.174342911017135,6.174342911017135,6.174342911017135,6.174342911017135,6.174342911017135,6.20938251965071,6.20938251965071,6.20938251965071,6.20938251965071,6.20938251965071,6.20938251965071,6.20938251965071,6.186694503947937,6.186694503947937,6.186694503947937,6.186694503947937,6.186694503947937,6.186694503947937,6.186694503947937,6.186694503947937,6.186694503947937,6.186694503947937,6.214892797962567,6.214892797962567,6.214892797962567,6.192827985093791,6.19665284981707,6.196180877197898,6.196180877197898,6.196180877197898,6.196180877197898,6.187627505369032,6.187627505369032,6.196087181397408,6.196087181397408,6.196087181397408,6.196087181397408,6.196087181397408,6.196087181397408,6.196087181397408,6.196087181397408,6.215434713215087,6.215434713215087,6.215434713215087,6.200752076013218,6.216835124988261,6.231746041171506,6.231746041171506,6.231746041171506,6.231746041171506,6.231746041171506,6.231746041171506,6.231746041171506,6.231746041171506,6.231746041171506,6.231746041171506,6.217180892406109,6.217180892406109,6.217180892406109,6.205491095743858,6.205491095743858,6.191134013498129,6.191134013498129,6.191134013498129,6.191134013498129,6.191134013498129,6.191134013498129,6.191134013498129,6.191134013498129,6.191134013498129,6.184584582299196,6.223131749318111,6.220063547261313,6.220063547261313,6.220063547261313,6.246269757891886,6.249470778748577,6.249470778748577,6.255343691413465,6.255343691413465,6.255343691413465,6.255343691413465,6.257599390107623,6.257599390107623,6.237620212405793,6.237620212405793,6.237620212405793,6.237620212405793,6.237620212405793,6.276170665809031,6.275229649382487,6.275237645988823,6.275237645988823,6.275237645988823,6.275237645988823,6.275237645988823,6.275237645988823,6.274184550685352,6.301273152105056,6.301273152105056,6.298134445004859,6.298134445004859,6.298134445004859,6.298134445004859,6.298134445004859,6.331936138298556,6.331936138298556,6.331936138298556,6.331936138298556,6.331936138298556,6.331936138298556,6.331936138298556,6.308022586409305,6.308022586409305,6.308022586409305,6.308022586409305,6.308022586409305,6.308022586409305,6.308022586409305,6.308022586409305,6.308022586409305,6.308022586409305,6.335007599599322,6.335007599599322,6.335007599599322,6.311741638714179,6.314377366901255,6.312728149111241,6.312728149111241,6.312728149111241,6.312728149111241,6.303009304563241,6.303009304563241,6.310315162599674,6.310315162599674,6.310315162599674,6.310315162599674,6.310315162599674,6.310315162599674,6.310315162599674,6.310315162599674,6.328520414605331,6.328520414605331,6.32704954591985,6.3112507603909345,6.3262288225222,6.340045801730106,6.340045801730106,6.340045801730106,6.340045801730106,6.340045801730106,6.340045801730106,6.340045801730106,6.340045801730106,6.340045801730106,6.340045801730106,6.324397655359123,6.324397655359123,6.324397655359123,6.311635691067341,6.311635691067341,6.296217162868377,6.290124614955132,6.290124614955132,6.290124614955132,6.290124614955132,6.290124614955132,6.290124614955132,6.290124614955132,6.290124614955132,6.282585277741628,6.320152437806119,6.316114028864441,6.316114028864441,6.316114028864441,6.341359734678983,6.343609855767803,6.343609855767803,6.348541377662499,6.348541377662499,6.348541377662499,6.348541377662499,6.349865099494165,6.349865099494165,6.32896326469847,6.32896326469847,6.32896326469847,6.32896326469847,6.32896326469847,6.36660028757878,6.364754974934539,6.363867718285354,6.363867718285354,6.363867718285354,6.363867718285354,6.363867718285354,6.363867718285354,6.361928322258918,6.388139485962886,6.388139485962886,6.38413211552411,6.38413211552411,6.38413211552411,6.38413211552411,6.38413211552411,6.4170738321126155,6.4170738321126155,6.4170738321126155,6.4170738321126155,6.4170738321126155,6.4170738321126155,6.4170738321126155,6.392308903285223,6.392308903285223,6.392308903285223,6.392308903285223,6.392308903285223,6.392308903285223,6.392308903285223,6.392308903285223,6.392308903285223,6.392308903285223,6.418451053306481,6.418451053306481,6.418451053306481,6.394350657884266,6.396160295879641,6.393693248799843,6.393693248799843,6.393693248799843,6.393693248799843,6.383164753254957,6.383164753254957,6.389669056804474,6.389669056804474,6.389669056804474,6.389669056804474,6.389669056804474,6.389669056804474,6.389669056804474,6.389669056804474,6.407080769868082,6.407080769868082,6.404824297629974,6.388247764583956,6.402455856673291,6.4155105655396865,6.4155105655396865,6.4155105655396865,6.4155105655396865,6.4155105655396865,6.4155105655396865,6.4155105655396865,6.385630873331742,6.385630873331742,6.385630873331742,6.369526876244742,6.354420961580236,6.354420961580236,6.341358764226243,6.341358764226243,6.3256430052956905,6.319256198958172,6.319256198958172,6.319256198958172,6.319256198958172,6.319256198958172,6.319256198958172,6.319256198958172,6.319256198958172,6.311425545904638,6.348704303287499,6.344380375691007,6.344380375691007,6.344380375691007,6.369343418037283,6.37131370229252,6.37131370229252,6.375968185721968,6.375968185721968,6.375968185721968,6.375968185721968,6.37701763947304,6.37701763947304,6.355844279277557,6.355844279277557,6.355844279277557,6.355844279277557,6.355844279277557,6.3932124920120765,6.391101057323502,6.389950339850428,6.389950339850428,6.389950339850428,6.389950339850428,6.389950339850428,6.389950339850428,6.387750117608341,6.413703063358815,6.413703063358815,6.40944005714608,6.40944005714608,6.40944005714608,6.40944005714608,6.40944005714608,6.442128694318366,6.442128694318366,6.442128694318366,6.442128694318366,6.442128694318366,6.442128694318366,6.442128694318366,6.417113216868916,6.417113216868916,6.417113216868916,6.417113216868916,6.417113216868916,6.417113216868916,6.417113216868916,6.417113216868916,6.417113216868916,6.417113216868916,6.443007323754337,6.443007323754337,6.443007323754337,6.418661365627643,6.420227896545584,6.417520173459127,6.417520173459127,6.417520173459127,6.417520173459127,6.406753408667648,6.406753408667648,6.413021825663038,6.413021825663038,6.413021825663038,6.413021825663038,6.413021825663038,6.413021825663038,6.413021825663038,6.413021825663038,6.430200011038061,6.430200011038061,6.427712346388254,6.410906932854654,6.424888433261282,6.437718816361797,6.437718816361797,6.437718816361797,6.437718816361797,6.437718816361797,6.437718816361797,6.437718816361797,6.407617041645632,6.407617041645632,6.407617041645632,6.3912931828754935,6.37596960514468,6.37596960514468,6.362691921355042,6.362691921355042,6.346762830853201,6.340164826260108,6.340164826260108,6.340164826260108,6.340164826260108,6.340164826260108,6.340164826260108,6.340164826260108,6.340164826260108,6.332125086933555,6.369196848906126,6.3646679958534484,6.3646679958534484,6.3646679958534484,6.3894281619981,6.391197598813728,6.391197598813728,6.395653243277964,6.395653243277964,6.395653243277964,6.395653243277964,6.3965058464534765,6.3965058464534765,6.375137604188189,6.375137604188189,6.375137604188189,6.375137604188189,6.375137604188189,6.412312883673602,6.410010445068412,6.408670633717889,6.408670633717889,6.408670633717889,6.408670633717889,6.408670633717889,6.408670633717889,6.406283208537127,6.432050823378313,6.432050823378313,6.4276043395653835,6.4276043395653835,6.4276043395653835,6.4276043395653835,6.4276043395653835,6.460111333913476,6.460111333913476,6.460111333913476,6.460111333913476,6.460111333913476,6.460111333913476,6.460111333913476,6.434916030068075,6.434916030068075,6.434916030068075,6.434916030068075,6.434916030068075,6.434916030068075,6.434916030068075,6.434916030068075,6.434916030068075,6.434916030068075,6.460632108821504,6.460632108821504,6.460632108821504,6.436109902844139,6.437501948389915,6.434621484785015,6.434621484785015,6.434621484785015,6.434621484785015,6.4236837068802775,6.4236837068802775,6.429782820893541,6.429782820893541,6.429782820893541,6.429782820893541,6.429782820893541,6.429782820893541,6.429782820893541,6.429782820893541,6.446793396316259,6.446793396316259,6.44413979781367,6.427170109765816,6.4409889784033325,6.4536583560524265,6.4536583560524265,6.4536583560524265,6.4536583560524265,6.4536583560524265,6.4536583560524265,6.4536583560524265,6.423397185939355,6.423397185939355,6.423397185939355,6.406915525726279,6.391435724566957,6.391435724566957,6.378003379583097,6.378003379583097,6.361921174498976,6.3551715864694245,6.3551715864694245,6.3551715864694245,6.3551715864694245,6.3551715864694245,6.3551715864694245,6.3551715864694245,6.3551715864694245,6.346981779540778,6.383904974587278,6.379229040277789,6.379229040277789,6.379229040277789,6.403843595978197,6.405468878454025,6.405468878454025,6.409781810121858,6.409781810121858,6.409781810121858,6.409781810121858,6.410493127628931,6.410493127628931,6.388985012551888,6.388985012551888,6.388985012551888,6.388985012551888,6.388985012551888,6.426021817953664,6.423582290005674,6.422106760205779,6.422106760205779,6.422106760205779,6.422106760205779,6.422106760205779,6.422106760205779,6.419584973760139,6.445219570949095,6.445219570949095,6.440641399660457,6.440641399660457,6.440641399660457,6.440641399660457,6.440641399660457,6.473018023407599,6.473018023407599,6.473018023407599,6.473018023407599,6.473018023407599,6.473018023407599,6.473018023407599,6.447693652667257,6.420961093131808,6.420961093131808,6.420961093131808,6.420961093131808,6.420961093131808,6.420961093131808,6.420961093131808,6.420961093131808,6.420961093131808,6.4468167212546,6.4468167212546,6.4468167212546,6.4224326691529035,6.423961487035592,6.421216428044234,6.421216428044234,6.421216428044234,6.421216428044234,6.410412700706904,6.410412700706904,6.416644524781901,6.416644524781901,6.416644524781901,6.416644524781901,6.416644524781901,6.416644524781901,6.416644524781901,6.416644524781901,6.433786483165735,6.433786483165735,6.431262953794651,6.414422034186987,6.428368383580292,6.441163967177617,6.441163967177617,6.441163967177617,6.441163967177617,6.441163967177617,6.441163967177617,6.441163967177617,6.411027740953293,6.411027740953293,6.411027740953293,6.394669775190078,6.3793124315361185,6.3793124315361185,6.366001319482566,6.366001319482566,6.3500391349994505,6.343408367364894,6.343408367364894,6.343408367364894,6.343408367364894,6.343408367364894,6.343408367364894,6.343408367364894,6.343408367364894,6.3353361926272935,6.372375843542928,6.367815200543882,6.367815200543882,6.367815200543882,6.392543894641629,6.394282174130822,6.394282174130822,6.398706972841888,6.398706972841888,6.398706972841888,6.398706972841888,6.39952903872176,6.39952903872176,6.378130564533789,6.378130564533789,6.378130564533789,6.378130564533789,6.378130564533789,6.415275914415746,6.412943845503135,6.411574700148265,6.411574700148265,6.411574700148265,6.411574700148265,6.411574700148265,6.411574700148265,6.4091582343032,6.434897098886725,6.434897098886725,6.430422152318711,6.430422152318711,6.430422152318711,6.430422152318711,6.430422152318711,6.4629009685392695,6.4629009685392695,6.4629009685392695,6.4629009685392695,6.4629009685392695,6.4629009685392695,6.4629009685392695,6.437677768347611,6.411045367655358,6.411045367655358,6.411045367655358,6.411045367655358,6.411045367655358,6.411045367655358,6.411045367655358,6.411045367655358,6.411045367655358,6.437000153032915,6.437000153032915,6.437000153032915,6.412714266613435,6.414340268521517,6.411691421715301,6.411691421715301,6.411691421715301,6.411691421715301,6.400982944441261,6.400982944441261,6.4073090660789145,6.4073090660789145,6.4073090660789145,6.4073090660789145,6.4073090660789145,6.4073090660789145,6.4073090660789145,6.4073090660789145,6.424544379049778,6.424544379049778,6.422113270719853,6.405363847942937,6.419400779198682,6.432286038839823,6.432286038839823,6.432286038839823,6.432286038839823,6.432286038839823,6.432286038839823,6.432286038839823,6.402238591898878,6.402238591898878,6.402238591898878,6.385968517626207,6.3706981865478856,6.3706981865478856,6.357473216944216,6.357473216944216,6.341596313486484,6.335049974067058,6.335049974067058,6.335049974067058,6.335049974067058,6.335049974067058,6.335049974067058,6.335049974067058,6.335049974067058,6.327061383262435,6.364183782271717,6.359705059885384,6.359705059885384,6.359705059885384,6.384514855389716,6.386333425271428,6.386333425271428,6.390837711471088,6.390837711471088,6.390837711471088,6.390837711471088,6.391738469964668,6.391738469964668,6.370417901464268,6.370417901464268,6.370417901464268,6.370417901464268,6.370417901464268,6.407640377976921,6.4053846644286985,6.404091110884572,6.404091110884572,6.404091110884572,6.404091110884572,6.404091110884572,6.404091110884572,6.4017494809321445,6.42756243304938,6.42756243304938,6.42316083313974,6.42316083313974,6.42316083313974,6.42316083313974,6.42316083313974,6.455712262552089,6.455712262552089,6.455712262552089,6.455712262552089,6.455712262552089,6.455712262552089,6.455712262552089,6.430560949420302,6.403999716917323,6.403999716917323,6.403999716917323,6.403999716917323,6.403999716917323,6.403999716917323,6.403999716917323,6.403999716917323,6.403999716917323,6.430024958802259,6.430024958802259,6.430024958802259,6.405808824325087,6.407503880656053,6.404923397728491,6.404923397728491,6.404923397728491,6.404923397728491,6.394282600694319,6.394282600694319,6.4006757257694415,6.4006757257694415,6.4006757257694415,6.4006757257694415,6.4006757257694415,6.4006757257694415,6.4006757257694415,6.4006757257694415,6.4179773721434,6.4179773721434,6.4156119338825395,6.398927524473996,6.413028818964431,6.4259777982079145,6.4259777982079145,6.4259777982079145,6.4259777982079145,6.4259777982079145,6.4259777982079145,6.4259777982079145,6.395993433673288,6.395993433673288,6.395993433673288,6.379785810982873,6.364577306970985,6.364577306970985,6.3514135461630845,6.3514135461630845,6.335597239413163,6.329110890734469,6.329110890734469,6.329110890734469,6.329110890734469,6.329110890734469,6.329110890734469,6.329110890734469,6.329110890734469,6.321181690763172,6.3583628866974475,6.3539423732668565,6.3539423732668565,6.3539423732668565,6.378809795637374,6.38068541611661,6.38068541611661,6.385246182407817,6.385246182407817,6.385246182407817,6.385246182407817,6.386202856192031,6.386202856192031,6.364937643829357,6.364937643829357,6.364937643829357,6.364937643829357,6.364937643829357,6.4022149229183585,6.400013463920722,6.398773622381675,6.398773622381675,6.398773622381675,6.398773622381675,6.398773622381675,6.398773622381675,6.396485167314276,6.4223507625676906,6.4223507625676906,6.418001279362867,6.418001279362867,6.418001279362867,6.418001279362867,6.418001279362867,6.450604304312985,6.450604304312985,6.450604304312985,6.450604304312985,6.450604304312985,6.450604304312985,6.450604304312985,6.42550407076359,6.398993407047177,6.398993407047177,6.398993407047177,6.398993407047177,6.398993407047177,6.398993407047177,6.398993407047177,6.398993407047177,6.398993407047177,6.425068712030815,6.425068712030815,6.425068712030815,6.400902140021357,6.4026462631953605,6.400114356442406,6.400114356442406,6.400114356442406,6.400114356442406,6.389521649821094,6.389521649821094,6.39596238440495,6.39596238440495,6.39596238440495,6.39596238440495,6.39596238440495,6.39596238440495,6.39596238440495,6.39596238440495,6.413311164192553,6.413311164192553,6.4109923880112,6.3943541740613705,6.408501202055931,6.4214954574685,6.4214954574685,6.4214954574685,6.4214954574685,6.4214954574685,6.4214954574685,6.4214954574685,6.391555916341267,6.391555916341267,6.391555916341267,6.375392668824173,6.360228096233872,6.360228096233872,6.347107827533343,6.347107827533343,6.331334577969719,6.32489085590546,6.32489085590546,6.32489085590546,6.32489085590546,6.32489085590546,6.32489085590546,6.32489085590546,6.32489085590546,6.3170038562824535,6.354226830561536,6.349847677692304,6.349847677692304,6.349847677692304,6.3747560470185665,6.376672204983991,6.376672204983991,6.381273103386524,6.381273103386524,6.381273103386524,6.381273103386524,6.382269507960951,6.382269507960951,6.361043629080588,6.361043629080588,6.361043629080588,6.361043629080588,6.361043629080588,6.398359848317077,6.396196940065453,6.394995263764959,6.394995263764959,6.394995263764959,6.394995263764959,6.394995263764959,6.394995263764959,6.392744592283727,6.418647593287448],\"y\":[9.001780713802063,9.001780713802063,9.001780713802063,9.001780713802063,9.001780713802063,9.001780713802063,9.001780713802063,9.018080078609051,9.018080078609051,9.018080078609051,9.018080078609051,9.018080078609051,9.018080078609051,9.018080078609051,9.018080078609051,9.018080078609051,9.018080078609051,9.018080078609051,9.018080078609051,9.018080078609051,9.018080078609051,9.018080078609051,9.018080078609051,9.018080078609051,9.00606565214977,9.00606565214977,9.00606565214977,8.982880885998238,8.91715593643181,8.87541936093141,8.87541936093141,8.87541936093141,8.87541936093141,8.864608162265823,8.864608162265823,8.827310553120167,8.827310553120167,8.827310553120167,8.827310553120167,8.827310553120167,8.827310553120167,8.827310553120167,8.827310553120167,8.781589934362376,8.781589934362376,8.781589934362376,8.743933157155904,8.679180802134649,8.684126324974628,8.684126324974628,8.684126324974628,8.684126324974628,8.684126324974628,8.684126324974628,8.684126324974628,8.684126324974628,8.684126324974628,8.684126324974628,8.685284371645318,8.685284371645318,8.685284371645318,8.664368418544269,8.664368418544269,8.61648161189027,8.61648161189027,8.61648161189027,8.61648161189027,8.61648161189027,8.61648161189027,8.61648161189027,8.61648161189027,8.61648161189027,8.58102342134839,8.561738432593879,8.530666337545219,8.530666337545219,8.530666337545219,8.498967871351109,8.472690989199814,8.472690989199814,8.430115952614546,8.430115952614546,8.430115952614546,8.430115952614546,8.414875548823899,8.414875548823899,8.38593415186635,8.38593415186635,8.38593415186635,8.38593415186635,8.38593415186635,8.37541456733952,8.367369066607667,8.3624854330255,8.3624854330255,8.3624854330255,8.3624854330255,8.3624854330255,8.3624854330255,8.360816168446057,8.309245686544843,8.309245686544843,8.316171036817416,8.316171036817416,8.316171036817416,8.316171036817416,8.316171036817416,8.33932649839425,8.33932649839425,8.33932649839425,8.33932649839425,8.33932649839425,8.33932649839425,8.33932649839425,8.295329061056176,8.295329061056176,8.295329061056176,8.295329061056176,8.295329061056176,8.295329061056176,8.295329061056176,8.295329061056176,8.295329061056176,8.295329061056176,8.290542144772424,8.290542144772424,8.290542144772424,8.274512613694666,8.215871346851273,8.181147617246678,8.181147617246678,8.181147617246678,8.181147617246678,8.177279136017939,8.177279136017939,8.146854817134761,8.146854817134761,8.146854817134761,8.146854817134761,8.146854817134761,8.146854817134761,8.146854817134761,8.146854817134761,8.107938755736825,8.107938755736825,8.107938755736825,8.077018490316608,8.018935281963746,8.030483260005434,8.030483260005434,8.030483260005434,8.030483260005434,8.030483260005434,8.030483260005434,8.030483260005434,8.030483260005434,8.030483260005434,8.030483260005434,8.038177737325817,8.038177737325817,8.038177737325817,8.023732850567963,8.023732850567963,7.982252399593727,7.982252399593727,7.982252399593727,7.982252399593727,7.982252399593727,7.982252399593727,7.982252399593727,7.982252399593727,7.982252399593727,7.953136501174812,7.940130381622037,7.915274367083094,7.915274367083094,7.915274367083094,7.8897298205936055,7.869545318949885,7.869545318949885,7.833001739067117,7.833001739067117,7.833001739067117,7.833001739067117,7.823732477411943,7.823732477411943,7.800702511168515,7.800702511168515,7.800702511168515,7.800702511168515,7.800702511168515,7.796035243048664,7.793783535559719,7.79463575728803,7.79463575728803,7.79463575728803,7.79463575728803,7.79463575728803,7.79463575728803,7.798644989465962,7.752696219354548,7.752696219354548,7.765187064299023,7.765187064299023,7.765187064299023,7.765187064299023,7.765187064299023,7.793852365601042,7.793852365601042,7.793852365601042,7.793852365601042,7.793852365601042,7.793852365601042,7.793852365601042,7.7553096695909005,7.7553096695909005,7.7553096695909005,7.7553096695909005,7.7553096695909005,7.7553096695909005,7.7553096695909005,7.7553096695909005,7.7553096695909005,7.7553096695909005,7.7559229472218005,7.7559229472218005,7.7559229472218005,7.745239608119548,7.691891071331907,7.662407144482506,7.662407144482506,7.662407144482506,7.662407144482506,7.6637260679814085,7.6637260679814085,7.638437279778597,7.638437279778597,7.638437279778597,7.638437279778597,7.638437279778597,7.638437279778597,7.638437279778597,7.638437279778597,7.604605393754222,7.604605393754222,7.544210987595947,7.518927999857139,7.466425696408871,7.483498770306108,7.483498770306108,7.483498770306108,7.483498770306108,7.483498770306108,7.483498770306108,7.483498770306108,7.483498770306108,7.483498770306108,7.483498770306108,7.496663092523484,7.496663092523484,7.496663092523484,7.487633352213653,7.487633352213653,7.451513896222959,7.391553874968313,7.391553874968313,7.391553874968313,7.391553874968313,7.391553874968313,7.391553874968313,7.391553874968313,7.391553874968313,7.368344961795652,7.361186757636668,7.342120179337579,7.342120179337579,7.342120179337579,7.3223071747255455,7.307796899540506,7.307796899540506,7.276870803851832,7.276870803851832,7.276870803851832,7.276870803851832,7.273162851548811,7.273162851548811,7.255638581564013,7.255638581564013,7.255638581564013,7.255638581564013,7.255638581564013,7.256421952740207,7.259566378154347,7.265760771456712,7.265760771456712,7.265760771456712,7.265760771456712,7.265760771456712,7.265760771456712,7.275058753492957,7.234345845741274,7.234345845741274,7.252020194421881,7.252020194421881,7.252020194421881,7.252020194421881,7.252020194421881,7.285817164422672,7.285817164422672,7.285817164422672,7.285817164422672,7.285817164422672,7.285817164422672,7.285817164422672,7.252354820424314,7.252354820424314,7.252354820424314,7.252354820424314,7.252354820424314,7.252354820424314,7.252354820424314,7.252354820424314,7.252354820424314,7.252354820424314,7.25799764654688,7.25799764654688,7.25799764654688,7.252293560451377,7.2038744841404165,7.17927072316293,7.17927072316293,7.17927072316293,7.17927072316293,7.185421010875029,7.185421010875029,7.164915273243281,7.164915273243281,7.164915273243281,7.164915273243281,7.164915273243281,7.164915273243281,7.164915273243281,7.164915273243281,7.13581860728426,7.13581860728426,7.080112068990684,7.0594700704379285,7.011562346283853,7.03318405368234,7.03318405368234,7.03318405368234,7.03318405368234,7.03318405368234,7.03318405368234,7.03318405368234,6.999977776618774,6.999977776618774,6.999977776618774,7.017977308773023,6.967216093170531,6.967216093170531,6.96348082285423,6.96348082285423,6.9326028921571305,6.877831980943142,6.877831980943142,6.877831980943142,6.877831980943142,6.877831980943142,6.877831980943142,6.877831980943142,6.877831980943142,6.859760286710733,6.857687929302599,6.84365633928685,6.84365633928685,6.84365633928685,6.828827973075324,6.819252489906786,6.819252489906786,6.793211838314449,6.793211838314449,6.793211838314449,6.793211838314449,6.794340475666802,6.794340475666802,6.781604429440825,6.781604429440825,6.781604429440825,6.781604429440825,6.781604429440825,6.7871281421382506,6.79496550565841,6.805805907685734,6.805805907685734,6.805805907685734,6.805805907685734,6.805805907685734,6.805805907685734,6.8197034383596895,6.783544083759339,6.783544083759339,6.805726450059766,6.805726450059766,6.805726450059766,6.805726450059766,6.805726450059766,6.8439863575041775,6.8439863575041775,6.8439863575041775,6.8439863575041775,6.8439863575041775,6.8439863575041775,6.8439863575041775,6.814942321575004,6.814942321575004,6.814942321575004,6.814942321575004,6.814942321575004,6.814942321575004,6.814942321575004,6.814942321575004,6.814942321575004,6.814942321575004,6.824959272686064,6.824959272686064,6.824959272686064,6.823585570329169,6.779453573919431,6.759094022044155,6.759094022044155,6.759094022044155,6.759094022044155,6.769446076767441,6.769446076767441,6.753100088476769,6.753100088476769,6.753100088476769,6.753100088476769,6.753100088476769,6.753100088476769,6.753100088476769,6.753100088476769,6.728121574365413,6.728121574365413,6.676492006401026,6.659886208474167,6.615974322939729,6.641551910571657,6.641551910571657,6.641551910571657,6.641551910571657,6.641551910571657,6.641551910571657,6.641551910571657,6.612261954939198,6.612261954939198,6.612261954939198,6.6341386453102436,6.587215816342379,6.587215816342379,6.587280548794359,6.587280548794359,6.560164620837859,6.509118092337063,6.509118092337063,6.509118092337063,6.509118092337063,6.509118092337063,6.509118092337063,6.509118092337063,6.509118092337063,6.494733536990714,6.49631144707978,6.48589362188626,6.48589362188626,6.48589362188626,6.474642882848739,6.4686092505824675,6.4686092505824675,6.446075031383375,6.446075031383375,6.446075031383375,6.446075031383375,6.4506750368050385,6.4506750368050385,6.441375644967679,6.441375644967679,6.441375644967679,6.441375644967679,6.441375644967679,6.450301645509836,6.46150727399628,6.475682258340226,6.475682258340226,6.475682258340226,6.475682258340226,6.475682258340226,6.475682258340226,6.492881025507636,6.459989895035806,6.459989895035806,6.4854078032234685,6.4854078032234685,6.4854078032234685,6.4854078032234685,6.4854078032234685,6.526870897136243,6.526870897136243,6.526870897136243,6.526870897136243,6.526870897136243,6.526870897136243,6.526870897136243,6.500998015810749,6.500998015810749,6.500998015810749,6.500998015810749,6.500998015810749,6.500998015810749,6.500998015810749,6.500998015810749,6.500998015810749,6.500998015810749,6.514154409979451,6.514154409979451,6.514154409979451,6.515888756249622,6.47483372798068,6.45752037456479,6.45752037456479,6.45752037456479,6.45752037456479,6.47088816576287,6.47088816576287,6.457527756582244,6.457527756582244,6.457527756582244,6.457527756582244,6.457527756582244,6.457527756582244,6.457527756582244,6.457527756582244,6.435504965789833,6.435504965789833,6.3868015639112015,6.373092670409241,6.332048720255451,6.3604655639142225,6.3604655639142225,6.3604655639142225,6.3604655639142225,6.3604655639142225,6.3604655639142225,6.3604655639142225,6.333986471748338,6.333986471748338,6.333986471748338,6.358645916951292,6.314478015267017,6.314478015267017,6.317270125729751,6.317270125729751,6.292854302003897,6.244480876691441,6.244480876691441,6.244480876691441,6.244480876691441,6.244480876691441,6.244480876691441,6.244480876691441,6.244480876691441,6.232742693501548,6.236940512025505,6.229116396182528,6.229116396182528,6.229116396182528,6.2204334294020445,6.216941891670239,6.216941891670239,6.1969243460602685,6.1969243460602685,6.1969243460602685,6.1969243460602685,6.204015858335163,6.204015858335163,6.197183058282502,6.197183058282502,6.197183058282502,6.197183058282502,6.197183058282502,6.208550984691511,6.222174119786138,6.238742435672186,6.238742435672186,6.238742435672186,6.238742435672186,6.238742435672186,6.238742435672186,6.258310601066277,6.22776517483886,6.22776517483886,6.255505330228492,6.255505330228492,6.255505330228492,6.255505330228492,6.255505330228492,6.299267448871216,6.299267448871216,6.299267448871216,6.299267448871216,6.299267448871216,6.299267448871216,6.299267448871216,6.275670602028373,6.240127971061749,6.240127971061749,6.240127971061749,6.240127971061749,6.240127971061749,6.240127971061749,6.240127971061749,6.240127971061749,6.240127971061749,6.255893065677942,6.255893065677942,6.255893065677942,6.260210025391128,6.22171178443077,6.20692965045038,6.20692965045038,6.20692965045038,6.20692965045038,6.222803348889604,6.222803348889604,6.21192378787771,6.21192378787771,6.21192378787771,6.21192378787771,6.21192378787771,6.21192378787771,6.21192378787771,6.21192378787771,6.192357036772345,6.192357036772345,6.146085114183888,6.134783385179201,6.0961225278777125,6.126898633460261,6.126898633460261,6.126898633460261,6.126898633460261,6.126898633460261,6.126898633460261,6.126898633460261,6.102755210598915,6.102755210598915,6.102755210598915,6.1297269684133635,6.0878482562144685,6.0878482562144685,6.092906664267727,6.092906664267727,6.070734475156494,6.0245822481125115,6.0245822481125115,6.0245822481125115,6.0245822481125115,6.0245822481125115,6.0245822481125115,6.0245822481125115,6.0245822481125115,6.0150430512084085,6.021417866155297,6.015748976771022,6.015748976771022,6.015748976771022,6.009199684184654,6.007820483905022,6.007820483905022,5.989894152372703,5.989894152372703,5.989894152372703,5.989894152372703,5.999055966584474,5.999055966584474,5.9942727654493195,5.9942727654493195,5.9942727654493195,5.9942727654493195,5.9942727654493195,6.00766979478666,6.023301741780336,6.041858781446441,6.041858781446441,6.041858781446441,6.041858781446441,6.041858781446441,6.041858781446441,6.06339578338279,6.034799505332208,6.034799505332208,6.064469317416906,6.064469317416906,6.064469317416906,6.064469317416906,6.064469317416906,6.1101417961877456,6.1101417961877456,6.1101417961877456,6.1101417961877456,6.1101417961877456,6.1101417961877456,6.1101417961877456,6.088436205871737,6.05476591886668,6.05476591886668,6.05476591886668,6.05476591886668,6.05476591886668,6.05476591886668,6.05476591886668,6.05476591886668,6.05476591886668,6.072384634004822,6.072384634004822,6.072384634004822,6.07853667803474,6.041855170547946,6.028871602706385,6.028871602706385,6.028871602706385,6.028871602706385,6.046525881623048,6.046525881623048,6.03740909528382,6.03740909528382,6.03740909528382,6.03740909528382,6.03740909528382,6.03740909528382,6.03740909528382,6.03740909528382,6.019587491104393,6.019587491104393,5.9750432639726165,5.965451953470041,5.928484410485645,5.960936897242114,5.960936897242114,5.960936897242114,5.960936897242114,5.960936897242114,5.960936897242114,5.960936897242114,5.93845309174295,5.93845309174295,5.93845309174295,5.967067870745958,5.926815749523737,5.926815749523737,5.933484482643903,5.933484482643903,5.912906515348907,5.868332567903001,5.868332567903001,5.868332567903001,5.868332567903001,5.868332567903001,5.868332567903001,5.868332567903001,5.868332567903001,5.860355867800993,5.868277554581956,5.864140068313414,5.864140068313414,5.864140068313414,5.859106864811622,5.859228592725722,5.859228592725722,5.842788180105196,5.842788180105196,5.842788180105196,5.842788180105196,5.853421054039642,5.853421054039642,5.850094202029936,5.850094202029936,5.850094202029936,5.850094202029936,5.850094202029936,5.864933017001471,5.881992331772998,5.901962465539176,5.901962465539176,5.901962465539176,5.901962465539176,5.901962465539176,5.901962465539176,5.924898430634597,5.897687126111498,5.897687126111498,5.928728061988403,5.928728061988403,5.928728061988403,5.928728061988403,5.928728061988403,5.975757953313528,5.975757953313528,5.975757953313528,5.975757953313528,5.975757953313528,5.975757953313528,5.975757953313528,5.955396201426262,5.92305631446566,5.92305631446566,5.92305631446566,5.92305631446566,5.92305631446566,5.92305631446566,5.92305631446566,5.92305631446566,5.92305631446566,5.941992125647812,5.941992125647812,5.941992125647812,5.9494480947612995,5.91405747310724,5.902351882240086,5.902351882240086,5.902351882240086,5.902351882240086,5.9212713583614125,5.9212713583614125,5.913407117254801,5.913407117254801,5.913407117254801,5.913407117254801,5.913407117254801,5.913407117254801,5.913407117254801,5.913407117254801,5.896825532855664,5.896825532855664,5.853508925306374,5.845132958190462,5.80936860515886,5.843012249968597,5.843012249968597,5.843012249968597,5.843012249968597,5.843012249968597,5.843012249968597,5.843012249968597,5.821707690942168,5.821707690942168,5.821707690942168,5.851489923953184,5.812393582198891,5.812393582198891,5.8202065369923055,5.8202065369923055,5.8007613491538255,5.75730885336987,5.75730885336987,5.75730885336987,5.75730885336987,5.75730885336987,5.75730885336987,5.75730885336987,5.75730885336987,5.750442390413193,5.7594632119680345,5.756413869125631,5.756413869125631,5.756413869125631,5.752457927615717,5.753646144901776,5.753646144901776,5.73826155675949,5.73826155675949,5.73826155675949,5.73826155675949,5.749939696927393,5.749939696927393,5.747647658488809,5.747647658488809,5.747647658488809,5.747647658488809,5.747647658488809,5.763510938895755,5.781584474448339,5.802558686787764,5.802558686787764,5.802558686787764,5.802558686787764,5.802558686787764,5.802558686787764,5.826488689670699,5.800261482557238,5.800261482557238,5.832276674869686,5.832276674869686,5.832276674869686,5.832276674869686,5.832276674869686,5.880271080065998,5.880271080065998,5.880271080065998,5.880271080065998,5.880271080065998,5.880271080065998,5.880271080065998,5.860864196911207,5.829469629995755,5.829469629995755,5.829469629995755,5.829469629995755,5.829469629995755,5.829469629995755,5.829469629995755,5.829469629995755,5.829469629995755,5.849341308022606,5.849341308022606,5.849341308022606,5.857723785312347,5.823250406752777,5.812452886549167,5.812452886549167,5.812452886549167,5.812452886549167,5.832271352627402,5.832271352627402,5.825297111578131,5.825297111578131,5.825297111578131,5.825297111578131,5.825297111578131,5.825297111578131,5.825297111578131,5.825297111578131,5.809596627235761,5.809596627235761,5.767152308742671,5.759639907792396,5.724730485264775,5.759220511273453,5.759220511273453,5.759220511273453,5.759220511273453,5.759220511273453,5.759220511273453,5.759220511273453,5.7387538696339755,5.7387538696339755,5.7387538696339755,5.769365640858073,5.731090541934731,5.731090541934731,5.739716527130787,5.739716527130787,5.721076239390922,5.678420594704596,5.678420594704596,5.678420594704596,5.678420594704596,5.678420594704596,5.678420594704596,5.678420594704596,5.678420594704596,5.672343014334571,5.682144829650199,5.679868670630975,5.679868670630975,5.679868670630975,5.676678181106007,5.678624195857163,5.678624195857163,5.663989827205323,5.663989827205323,5.663989827205323,5.663989827205323,5.676410684668767,5.676410684668767,5.674853936352769,5.674853936352769,5.674853936352769,5.674853936352769,5.674853936352769,5.691445153981076,5.710239347382807,5.731927010992887,5.731927010992887,5.731927010992887,5.731927010992887,5.731927010992887,5.731927010992887,5.756563330633771,5.731035377110679],\"type\":\"scatter\"},{\"line\":{\"color\":\"black\"},\"x\":[0.12800782111610085,0.12800782111610085,0.12800782111610085,0.12800782111610085,0.12800782111610085,0.12800782111610085,0.12654146574937025,0.12654146574937025,0.12290267633656562,0.12290267633656562,0.12290267633656562,0.10136971403541699,0.10136971403541699,0.10136971403541699,0.0629776016820367,0.02586300070763365,0.02948687484340626,0.03988998967954213,0.03988998967954213,0.03988998967954213,0.028743750639124807,0.028743750639124807,0.029791283542961622,0.029791283542961622,0.029791283542961622,0.029791283542961622,0.01728435150857067,0.01728435150857067,0.01728435150857067,0.01728435150857067,0.01728435150857067,0.004755141752423739,0.004755141752423739,0.004755141752423739,0.004755141752423739,0.004755141752423739,0.004755141752423739,0.029549971481646783,0.029549971481646783,0.040201002558817846,0.03549009197937365,0.03549009197937365,0.02788085625559479,0.02788085625559479,0.03318917974151308,-0.028293263921644718,-0.028293263921644718,-0.028293263921644718,-0.028293263921644718,-0.010502097050711371,-0.010502097050711371,-0.010502097050711371,-0.01835622301243816,-0.03963833999908768,-0.03963833999908768,-0.07431013684653107,-0.07431013684653107,-0.059380738212396075,-0.059380738212396075,-0.10856389969246108,-0.11096861462536177,-0.11096861462536177,-0.12056478347063318,-0.12056478347063318,-0.17864005502077784,-0.17091777332265887,-0.17091777332265887,-0.17091777332265887,-0.1519144212973293,-0.14593746749782457,-0.15163835079802052,-0.15599417041332342,-0.15599417041332342,-0.15599417041332342,-0.15599417041332342,-0.15599417041332342,-0.15599417041332342,-0.15599417041332342,-0.15599417041332342,-0.15497370720109505,-0.15497370720109505,-0.15497370720109505,-0.14780445340486323,-0.14780445340486323,-0.14780445340486323,-0.14780445340486323,-0.14780445340486323,-0.14780445340486323,-0.15575207063810156,-0.15575207063810156,-0.14771625195762197,-0.14771625195762197,-0.14771625195762197,-0.14771625195762197,-0.14771625195762197,-0.14771625195762197,-0.1513503793635749,-0.1513503793635749,-0.1513503793635749,-0.1513503793635749,-0.1513503793635749,-0.1513503793635749,-0.1513503793635749,-0.14855679735877814,-0.14855679735877814,-0.14855679735877814,-0.14725750654075995,-0.14725750654075995,-0.14815830623066326,-0.14815830623066326,-0.14815830623066326,-0.1669806587061396,-0.1669806587061396,-0.1669806587061396,-0.1669806587061396,-0.2063948422844244,-0.20044838971873122,-0.18774592223697398,-0.18774592223697398,-0.18774592223697398,-0.20116852039655647,-0.20116852039655647,-0.19782186478236286,-0.19782186478236286,-0.19782186478236286,-0.19782186478236286,-0.20805266533350056,-0.20805266533350056,-0.20805266533350056,-0.20805266533350056,-0.20805266533350056,-0.21832850492122677,-0.21832850492122677,-0.21832850492122677,-0.21832850492122677,-0.21832850492122677,-0.21832850492122677,-0.19576451165874023,-0.19576451165874023,-0.1828603357501653,-0.18534063294651967,-0.18534063294651967,-0.1907415614210396,-0.1907415614210396,-0.18324701375835498,-0.24689381935651145,-0.24689381935651145,-0.24689381935651145,-0.24689381935651145,-0.23128865803992676,-0.23128865803992676,-0.23128865803992676,-0.2369349183917614,-0.26040282233220413,-0.26040282233220413,-0.2972822640029787,-0.2972822640029787,-0.2845825866404082,-0.2845825866404082,-0.33601776660475335,-0.3361479428685311,-0.3361479428685311,-0.34349231843137085,-0.34349231843137085,-0.4037968653311229,-0.39382301552990046,-0.39382301552990046,-0.39382301552990046,-0.37259061108249847,-0.36440689538514204,-0.3679230844064648,-0.3701160566856833,-0.3701160566856833,-0.3701160566856833,-0.3701160566856833,-0.3701160566856833,-0.3701160566856833,-0.3701160566856833,-0.3701160566856833,-0.3669543746107314,-0.3669543746107314,-0.3669543746107314,-0.3576653141404032,-0.3576653141404032,-0.3576653141404032,-0.3576653141404032,-0.3576653141404032,-0.3576653141404032,-0.3677115399809969,-0.3677115399809969,-0.35755612660708835,-0.35755612660708835,-0.35755612660708835,-0.35755612660708835,-0.35755612660708835,-0.35755612660708835,-0.35909185526654663,-0.35909185526654663,-0.35909185526654663,-0.35909185526654663,-0.35909185526654663,-0.35909185526654663,-0.35909185526654663,-0.35422085850272017,-0.35422085850272017,-0.35422085850272017,-0.35086492707326256,-0.35086492707326256,-0.34972965255784083,-0.34972965255784083,-0.34972965255784083,-0.3665362915700454,-0.3665362915700454,-0.3665362915700454,-0.3665362915700454,-0.4079460314769693,-0.39998406701935063,-0.3852862427645872,-0.3852862427645872,-0.3852862427645872,-0.4006842441294458,-0.4006842441294458,-0.3953424312779233,-0.3953424312779233,-0.3953424312779233,-0.3953424312779233,-0.4035980261641054,-0.4035980261641054,-0.4035980261641054,-0.4035980261641054,-0.4035980261641054,-0.4119184121435256,-0.4119184121435256,-0.4119184121435256,-0.4119184121435256,-0.4119184121435256,-0.4119184121435256,-0.391290317953262,-0.391290317953262,-0.37643088398174185,-0.37697547569578044,-0.37697547569578044,-0.3804600557428078,-0.3804600557428078,-0.37106832313690546,-0.37106832313690546,-0.37106832313690546,-0.37106832313690546,-0.37106832313690546,-0.3567049068581247,-0.3567049068581247,-0.3567049068581247,-0.36109700472177736,-0.38580652952552025,-0.38580652952552025,-0.423940008268228,-0.423940008268228,-0.41250690834830994,-0.41250690834830994,-0.4652213315297341,-0.4640594721442621,-0.4640594721442621,-0.4701247324143445,-0.4701247324143445,-0.4701247324143445,-0.4594876039422898,-0.4594876039422898,-0.4594876039422898,-0.43759855361076394,-0.4287647584881249,-0.43163736887841786,-0.4331931983129168,-0.4331931983129168,-0.4331931983129168,-0.4331931983129168,-0.4331931983129168,-0.4331931983129168,-0.4331931983129168,-0.4331931983129168,-0.4294007448216925,-0.4294007448216925,-0.4294007448216925,-0.4194872206492547,-0.4194872206492547,-0.4194872206492547,-0.4194872206492547,-0.4194872206492547,-0.4194872206492547,-0.43015166555493695,-0.43015166555493695,-0.419371850925289,-0.419371850925289,-0.419371850925289,-0.419371850925289,-0.419371850925289,-0.419371850925289,-0.42028942234156524,-0.42028942234156524,-0.42028942234156524,-0.42028942234156524,-0.42028942234156524,-0.42028942234156524,-0.42028942234156524,-0.41480644990698856,-0.41480644990698856,-0.41480644990698856,-0.4108446625634883,-0.4108446625634883,-0.4091095906931643,-0.4091095906931643,-0.4091095906931643,-0.4253224303240157,-0.4253224303240157,-0.4253224303240157,-0.4253224303240157,-0.46732003161847924,-0.4587643271594455,-0.44347870030328107,-0.44347870030328107,-0.44347870030328107,-0.4594586262435266,-0.4594586262435266,-0.4535290695708633,-0.4535290695708633,-0.4535290695708633,-0.4535290695708633,-0.461202798074116,-0.461202798074116,-0.461202798074116,-0.461202798074116,-0.461202798074116,-0.4689471363344361,-0.4689471363344361,-0.4689471363344361,-0.4689471363344361,-0.4689471363344361,-0.4689471363344361,-0.4488893293860816,-0.4488893293860816,-0.43345390530023326,-0.4334282668010869,-0.4334282668010869,-0.43634831893706116,-0.43634831893706116,-0.4263977036992163,-0.4263977036992163,-0.4263977036992163,-0.4263977036992163,-0.4263977036992163,-0.41258758122605865,-0.41258758122605865,-0.41258758122605865,-0.416420852346032,-0.44168361562601743,-0.44168361562601743,-0.44168361562601743,-0.44168361562601743,-0.4304279517796773,-0.4304279517796773,-0.4304279517796773,-0.4296140261917058,-0.4296140261917058,-0.4360237409213138,-0.4360237409213138,-0.4360237409213138,-0.42572762236418943,-0.42572762236418943,-0.42572762236418943,-0.40417617184844457,-0.3956766005434287,-0.3988800925131686,-0.40076349471132,-0.40076349471132,-0.40076349471132,-0.40076349471132,-0.40076349471132,-0.40076349471132,-0.40076349471132,-0.40076349471132,-0.3972953382561117,-0.3972953382561117,-0.3972953382561117,-0.3877028681493297,-0.3877028681493297,-0.3877028681493297,-0.3877028681493297,-0.3877028681493297,-0.3877028681493297,-0.3980494695300127,-0.3980494695300127,-0.387590676860614,-0.387590676860614,-0.387590676860614,-0.387590676860614,-0.387590676860614,-0.387590676860614,-0.388826060017537,-0.388826060017537,-0.388826060017537,-0.388826060017537,-0.388826060017537,-0.388826060017537,-0.388826060017537,-0.3836577212062006,-0.3836577212062006,-0.3836577212062006,-0.3800074211497082,-0.3800074211497082,-0.378580721693522,-0.378580721693522,-0.378580721693522,-0.3950988500143698,-0.3950988500143698,-0.3950988500143698,-0.3950988500143698,-0.4367942155057369,-0.42854376920783055,-0.4135603479311823,-0.4135603479311823,-0.4135603479311823,-0.42924109034770686,-0.42924109034770686,-0.4236137090340017,-0.4236137090340017,-0.4236137090340017,-0.4236137090340017,-0.431586591142623,-0.431586591142623,-0.431586591142623,-0.431586591142623,-0.431586591142623,-0.439627091472258,-0.439627091472258,-0.439627091472258,-0.439627091472258,-0.439627091472258,-0.439627091472258,-0.4192760840752818,-0.4192760840752818,-0.4041367924425414,-0.404404325071972,-0.404404325071972,-0.4076146166252374,-0.4076146166252374,-0.3979513384105108,-0.3979513384105108,-0.3979513384105108,-0.3979513384105108,-0.3979513384105108,-0.3838567522844661,-0.3838567522844661,-0.3838567522844661,-0.38797733169385534,-0.412955659767319,-0.412955659767319,-0.412955659767319,-0.412955659767319,-0.4014127163623919,-0.4014127163623919,-0.4014127163623919,-0.4008889431285933,-0.4008889431285933,-0.4075859086888324,-0.4075859086888324,-0.4075859086888324,-0.3975741684540329,-0.3975741684540329,-0.3975741684540329,-0.3763042524773896,-0.3680834003660843,-0.37156282433759763,-0.3737193992175048,-0.3737193992175048,-0.3737193992175048,-0.3737193992175048,-0.3737193992175048,-0.3737193992175048,-0.3737193992175048,-0.3737193992175048,-0.37052168371723465,-0.37052168371723465,-0.37052168371723465,-0.36119695015584147,-0.36119695015584147,-0.36119695015584147,-0.36119695015584147,-0.36119695015584147,-0.36119695015584147,-0.37127849235658955,-0.37127849235658955,-0.3610874094589251,-0.3610874094589251,-0.3610874094589251,-0.3610874094589251,-0.3610874094589251,-0.3610874094589251,-0.362587825289865,-0.362587825289865,-0.362587825289865,-0.362587825289865,-0.362587825289865,-0.362587825289865,-0.362587825289865,-0.3576818688258053,-0.3576818688258053,-0.3576818688258053,-0.35429132729311685,-0.35429132729311685,-0.3531217887754966,-0.3531217887754966,-0.3531217887754966,-0.3698945064255246,-0.3698945064255246,-0.3698945064255246,-0.3698945064255246,-0.4113378284810033,-0.40334194605334434,-0.38861054300824094,-0.38861054300824094,-0.38861054300824094,-0.4040417873755361,-0.4040417873755361,-0.39866639909155266,-0.39866639909155266,-0.39866639909155266,-0.39866639909155266,-0.4068887542995985,-0.4068887542995985,-0.4068887542995985,-0.4068887542995985,-0.4068887542995985,-0.4151762329976637,-0.4151762329976637,-0.4151762329976637,-0.4151762329976637,-0.4151762329976637,-0.4151762329976637,-0.39458071701594155,-0.39458071701594155,-0.3796883790537946,-0.3802003958171127,-0.3802003958171127,-0.38365272666292666,-0.38365272666292666,-0.37422906734782313,-0.37422906734782313,-0.37422906734782313,-0.37422906734782313,-0.37422906734782313,-0.35989725851115156,-0.35989725851115156,-0.35989725851115156,-0.36425743285827394,-0.38899856194338184,-0.38899856194338184,-0.38899856194338184,-0.38899856194338184,-0.3772160475602154,-0.3772160475602154,-0.3772160475602154,-0.3769342410144385,-0.3769342410144385,-0.3838707535958192,-0.3838707535958192,-0.3838707535958192,-0.3740961649119498,-0.3740961649119498,-0.3740961649119498,-0.35306102897072733,-0.3450726090944886,-0.3487821409787179,-0.3511665226922138,-0.3511665226922138,-0.3511665226922138,-0.3511665226922138,-0.3511665226922138,-0.3511665226922138,-0.3511665226922138,-0.3511665226922138,-0.34819433595719657,-0.34819433595719657,-0.34819433595719657,-0.33909287587340375,-0.33909287587340375,-0.33909287587340375,-0.33909287587340375,-0.33909287587340375,-0.33909287587340375,-0.3489533773313275,-0.3489533773313275,-0.33898554558391564,-0.33898554558391564,-0.33898554558391564,-0.33898554558391564,-0.33898554558391564,-0.33898554558391564,-0.3407069800536056,-0.3407069800536056,-0.3407069800536056,-0.3407069800536056,-0.3407069800536056,-0.3407069800536056,-0.3407069800536056,-0.33601983204190855,-0.33601983204190855,-0.33601983204190855,-0.33284591087705906,-0.33284591087705906,-0.33189082652359936,-0.33189082652359936,-0.33189082652359936,-0.34887585379614633,-0.34887585379614633,-0.34887585379614633,-0.34887585379614633,-0.34887585379614633,-0.34150459111533593,-0.32739156161961264,-0.32739156161961264,-0.32739156161961264,-0.3422106161730215,-0.3422106161730215,-0.3374535396010632,-0.3374535396010632,-0.3374535396010632,-0.3374535396010632,-0.34628802340401393,-0.34628802340401393,-0.34628802340401393,-0.34628802340401393,-0.34628802340401393,-0.35518150941103505,-0.35518150941103505,-0.35518150941103505,-0.35518150941103505,-0.35518150941103505,-0.35518150941103505,-0.3339860461934466,-0.3339860461934466,-0.31969965493952457,-0.32081155894398533,-0.32081155894398533,-0.3248577781585306,-0.3248577781585306,-0.3160220683284711,-0.3160220683284711,-0.3160220683284711,-0.3160220683284711,-0.3160220683284711,-0.301108189501606,-0.301108189501606,-0.301108189501606,-0.30605625453882385,-0.33021537184073724,-0.33021537184073724,-0.33021537184073724,-0.33021537184073724,-0.3178450255565443,-0.3178450255565443,-0.3178450255565443,-0.3181569292308042,-0.3181569292308042,-0.32568121493002117,-0.32568121493002117,-0.32568121493002117,-0.31648852163280977,-0.31648852163280977,-0.31648852163280977,-0.2960294621243787,-0.2886113579166035,-0.2928855023126116,-0.29582885041276863,-0.29582885041276863,-0.29582885041276863,-0.29582885041276863,-0.29582885041276863,-0.29582885041276863,-0.29582885041276863,-0.29582885041276863,-0.2934100404005458,-0.2934100404005458,-0.2934100404005458,-0.28485642327231947,-0.28485642327231947,-0.28485642327231947,-0.28485642327231947,-0.28485642327231947,-0.28485642327231947,-0.2941745602042324,-0.2941745602042324,-0.2847545166280915,-0.2847545166280915,-0.2847545166280915,-0.2847545166280915,-0.2847545166280915,-0.2847545166280915,-0.2870182613873397,-0.2870182613873397,-0.2870182613873397,-0.2870182613873397,-0.2870182613873397,-0.2870182613873397,-0.2870182613873397,-0.2828680005623053,-0.2828680005623053,-0.2828680005623053,-0.28022559771225186,-0.28022559771225186,-0.27979671649044024,-0.27979671649044024,-0.27979671649044024,-0.29730268486331884,-0.29730268486331884,-0.29730268486331884,-0.29730268486331884,-0.29730268486331884,-0.2904471538718367,-0.27684469874854845,-0.27684469874854845,-0.27684469874854845,-0.29115828467324667,-0.29115828467324667,-0.2869117314162861,-0.2869117314162861,-0.2869117314162861,-0.2869117314162861,-0.2962516333010846,-0.2962516333010846,-0.2962516333010846,-0.2962516333010846,-0.2962516333010846,-0.305645483209135,-0.305645483209135,-0.305645483209135,-0.305645483209135,-0.305645483209135,-0.305645483209135,-0.28395465972952755,-0.28395465972952755,-0.27016858234024477,-0.2717757970706983,-0.2717757970706983,-0.27631237390397645,-0.27631237390397645,-0.2679621181164625,-0.2679621181164625,-0.2679621181164625,-0.2679621181164625,-0.2679621181164625,-0.2525676397874773,-0.2525676397874773,-0.2525676397874773,-0.2580011103218364,-0.2816796761815799,-0.2816796761815799,-0.2816796761815799,-0.2816796761815799,-0.2688239729407954,-0.2688239729407954,-0.2688239729407954,-0.2696260871412128,-0.2696260871412128,-0.2776356812613257,-0.2776356812613257,-0.2776356812613257,-0.26892344330080126,-0.26892344330080126,-0.26892344330080126,-0.24894003457569028,-0.24199282464340194,-0.2467331543721421,-0.2501380259517038,-0.2501380259517038,-0.2501380259517038,-0.2501380259517038,-0.2501380259517038,-0.2501380259517038,-0.2501380259517038,-0.2501380259517038,-0.24817612418409166,-0.24817612418409166,-0.24817612418409166,-0.24007484621802988,-0.24007484621802988,-0.24007484621802988,-0.24007484621802988,-0.24007484621802988,-0.24007484621802988,-0.24894516737939987,-0.24894516737939987,-0.2399774177315073,-0.2399774177315073,-0.2399774177315073,-0.2399774177315073,-0.2399774177315073,-0.2399774177315073,-0.24268893347972137,-0.24268893347972137,-0.24268893347972137,-0.24268893347972137,-0.24268893347972137,-0.24268893347972137,-0.24268893347972137,-0.23898196593376314,-0.23898196593376314,-0.23898196593376314,-0.2367784234299951,-0.2367784234299951,-0.23678401395100607,-0.23678401395100607,-0.23678401395100607,-0.25472010934927897,-0.25472010934927897,-0.25472010934927897,-0.25472010934927897,-0.25472010934927897,-0.24829040411293724,-0.23510951648723794,-0.23510951648723794,-0.23510951648723794,-0.24900575058932306,-0.24900575058932306,-0.24518072267320176,-0.24518072267320176,-0.24518072267320176,-0.24518072267320176,-0.2549379346454311,-0.2549379346454311,-0.2549379346454311,-0.2549379346454311,-0.2549379346454311,-0.264744921540038,-0.264744921540038,-0.264744921540038,-0.264744921540038,-0.264744921540038,-0.264744921540038,-0.24264509244373955,-0.24264509244373955,-0.22927211072731463,-0.2312882901738975,-0.2312882901738975,-0.23622974207614364,-0.23622974207614364,-0.22828031260690798,-0.22828031260690798,-0.22828031260690798,-0.22828031260690798,-0.22828031260690798,-0.21248901622282726,-0.21248901622282726,-0.21248901622282726,-0.21832327299283288,-0.24160506047928634,-0.24160506047928634,-0.24160506047928634,-0.24160506047928634,-0.2283486110814789,-0.2283486110814789,-0.2283486110814789,-0.22955547890048944,-0.22955547890048944,-0.2379657791030096,-0.2379657791030096,-0.2379657791030096,-0.2296502401640683,-0.2296502401640683,-0.2296502401640683,-0.21005956347032465,-0.20350115824908996,-0.20862640464177326,-0.21241234371863865,-0.21241234371863865,-0.21241234371863865,-0.21241234371863865,-0.21241234371863865,-0.21241234371863865,-0.21241234371863865,-0.21241234371863865,-0.21082769877335714,-0.21082769877335714,-0.21082769877335714,-0.2030999050614027,-0.2030999050614027,-0.2030999050614027,-0.2030999050614027,-0.2030999050614027,-0.2030999050614027,-0.21160047681120644,-0.21160047681120644,-0.2030061740689958,-0.2030061740689958,-0.2030061740689958,-0.2030061740689958,-0.2030061740689958,-0.2030061740689958,-0.20608740225383498,-0.20608740225383498,-0.20608740225383498,-0.20608740225383498,-0.20608740225383498,-0.20608740225383498,-0.20608740225383498,-0.20274645002013564,-0.20274645002013564,-0.20274645002013564,-0.20090526267550388,-0.20090526267550388,-0.20126958480405976,-0.20126958480405976,-0.20126958480405976,-0.21956082449380215,-0.21956082449380215,-0.21956082449380215,-0.21956082449380215,-0.21956082449380215,-0.2134827121060152,-0.2006499014003851,-0.2006499014003851,-0.2006499014003851,-0.2142015393516017,-0.2142015393516017,-0.2107245535478576,-0.2107245535478576,-0.2107245535478576,-0.2107245535478576,-0.22082632721134035,-0.22082632721134035,-0.22082632721134035,-0.22082632721134035,-0.22082632721134035,-0.23097443018028818,-0.23097443018028818,-0.23097443018028818,-0.23097443018028818,-0.23097443018028818,-0.23097443018028818,-0.20853689617039226,-0.20853689617039226,-0.1955049964167008,-0.1978588470063898,-0.1978588470063898,-0.20313459334031103,-0.20313459334031103,-0.1955161153584337,-0.1955161153584337,-0.1955161153584337,-0.1955161153584337,-0.1955161153584337,-0.17939717700186825,-0.17939717700186825,-0.17939717700186825,-0.18556235216408346,-0.20851653044224944,-0.20851653044224944,-0.20851653044224944,-0.20851653044224944,-0.19492919574407164,-0.19492919574407164,-0.19492919574407164,-0.1964702577164562,-0.1964702577164562,-0.20521141013081667,-0.20521141013081667,-0.20521141013081667,-0.1972234148815973,-0.1972234148815973,-0.1972234148815973,-0.17795700644067836,-0.17171962678974015,-0.17716268849701694,-0.1812632647353299,-0.1812632647353299,-0.1812632647353299,-0.1812632647353299,-0.1812632647353299,-0.1812632647353299,-0.1812632647353299,-0.1812632647353299,-0.17999011057988146,-0.17999011057988146,-0.17999011057988146,-0.17257069274986178,-0.17257069274986178,-0.17257069274986178,-0.17257069274986178,-0.17257069274986178,-0.17257069274986178,-0.1807659723765501,-0.1807659723765501,-0.172480014678686,-0.172480014678686,-0.172480014678686,-0.172480014678686,-0.172480014678686,-0.172480014678686,-0.1758665044574283,-0.1758665044574283,-0.1758665044574283,-0.1758665044574283,-0.1758665044574283],\"y\":[1.2416165181585397,1.2416165181585397,1.2416165181585397,1.2416165181585397,1.2416165181585397,1.2416165181585397,1.2340356408510373,1.2340356408510373,1.2305486811942348,1.2305486811942348,1.2305486811942348,1.2086354432801532,1.2086354432801532,1.2086354432801532,1.181325970067086,1.1659251547140965,1.1503946313551758,1.1405558801418068,1.1405558801418068,1.1405558801418068,1.203231241932985,1.203231241932985,1.1783063175755377,1.1783063175755377,1.1783063175755377,1.1783063175755377,1.1671194087306855,1.1671194087306855,1.1671194087306855,1.1671194087306855,1.1671194087306855,1.1540403502215324,1.1540403502215324,1.1540403502215324,1.1540403502215324,1.1540403502215324,1.1540403502215324,1.1913892924506888,1.1913892924506888,1.185872323078213,1.1686108972095255,1.1686108972095255,1.1565753543819093,1.1565753543819093,1.1402259542336581,1.1359765659967278,1.1359765659967278,1.1359765659967278,1.1359765659967278,1.1806615752678453,1.1806615752678453,1.1806615752678453,1.1695824148066811,1.14447269797455,1.14447269797455,1.1187918614810382,1.1187918614810382,1.1675919669894708,1.1675919669894708,1.1598493291741272,1.1507790867946015,1.1507790867946015,1.1429799956469582,1.1429799956469582,1.139854677895845,1.1491649163746473,1.1491649163746473,1.1491649163746473,1.1446137899315951,1.1253405615978045,1.1214018133400274,1.1292960637201908,1.1292960637201908,1.1292960637201908,1.1292960637201908,1.1292960637201908,1.1292960637201908,1.1292960637201908,1.1292960637201908,1.1311547753257376,1.1311547753257376,1.1311547753257376,1.1169050151941042,1.1169050151941042,1.1169050151941042,1.1169050151941042,1.1169050151941042,1.1169050151941042,1.0766760774875854,1.0766760774875854,1.0603055825238679,1.0603055825238679,1.0603055825238679,1.0603055825238679,1.0603055825238679,1.0603055825238679,1.0484740926424987,1.0484740926424987,1.0484740926424987,1.0484740926424987,1.0484740926424987,1.0484740926424987,1.0484740926424987,1.0504055168976592,1.0504055168976592,1.0504055168976592,1.0447367496027655,1.0447367496027655,1.0431427788584458,1.0431427788584458,1.0431427788584458,1.023103599967722,1.023103599967722,1.023103599967722,1.023103599967722,1.006120560913739,0.992188083492822,0.9839313977580764,0.9839313977580764,0.9839313977580764,1.0450405147254174,1.0450405147254174,1.021697497640046,1.021697497640046,1.021697497640046,1.021697497640046,1.0120766769945488,1.0120766769945488,1.0120766769945488,1.0120766769945488,1.0120766769945488,1.0005480458027571,1.0005480458027571,1.0005480458027571,1.0005480458027571,1.0005480458027571,1.0005480458027571,1.0363620649877257,1.0363620649877257,1.0323953678898796,1.0166687115730753,1.0166687115730753,1.0061525906018236,1.0061525906018236,0.9913074180913732,0.98556884449302,0.98556884449302,0.98556884449302,0.98556884449302,1.0287497765491005,1.0287497765491005,1.0287497765491005,1.019189734075124,0.9925760904356773,0.9925760904356773,0.9653762878667767,0.9653762878667767,1.0126422376390667,1.0126422376390667,1.0033501025302192,0.9958448524171325,0.9958448524171325,0.9895951036132637,0.9895951036132637,0.9849359369418135,0.9957953628301562,0.9957953628301562,0.9957953628301562,0.9927779319225489,0.9750230621688488,0.9725874889053614,0.9819698825298715,0.9819698825298715,0.9819698825298715,0.9819698825298715,0.9819698825298715,0.9819698825298715,0.9819698825298715,0.9819698825298715,0.9853018559473216,0.9853018559473216,0.9853018559473216,0.9725106250094723,0.9725106250094723,0.9725106250094723,0.9725106250094723,0.9725106250094723,0.9725106250094723,0.9308377434011073,0.9308377434011073,0.9159256317782546,0.9159256317782546,0.9159256317782546,0.9159256317782546,0.9159256317782546,0.9159256317782546,0.9055379414043416,0.9055379414043416,0.9055379414043416,0.9055379414043416,0.9055379414043416,0.9055379414043416,0.9055379414043416,0.9088987271718836,0.9088987271718836,0.9088987271718836,0.9046450277742478,0.9046450277742478,0.9044519742482132,0.9044519742482132,0.9044519742482132,0.8857997034035917,0.8857997034035917,0.8857997034035917,0.8857997034035917,0.8674436253839672,0.854897917318348,0.8480141332453471,0.8480141332453471,0.8480141332453471,0.9077640775675608,0.9077640775675608,0.8857938248537679,0.8857938248537679,0.8857938248537679,0.8857938248537679,0.8775320409361335,0.8775320409361335,0.8775320409361335,0.8775320409361335,0.8775320409361335,0.8673488561049258,0.8673488561049258,0.8673488561049258,0.8673488561049258,0.8673488561049258,0.8673488561049258,0.9018308833929162,0.9018308833929162,0.8992094981110181,0.8848147004920024,0.8848147004920024,0.8756171196315614,0.8756171196315614,0.8620773018308137,0.8620773018308137,0.8620773018308137,0.8620773018308137,0.8620773018308137,0.9040233184602721,0.9040233184602721,0.9040233184602721,0.8957105405671837,0.8678621049926577,0.8678621049926577,0.8394151625693268,0.8394151625693268,0.8854215010886423,0.8854215010886423,0.8748571586142904,0.868636837940363,0.868636837940363,0.863659169281262,0.863659169281262,0.863659169281262,0.8757313628462102,0.8757313628462102,0.8757313628462102,0.8739145719384424,0.8573483357845832,0.8560895097849385,0.8666368832006528,0.8666368832006528,0.8666368832006528,0.8666368832006528,0.8666368832006528,0.8666368832006528,0.8666368832006528,0.8666368832006528,0.8711221866113951,0.8711221866113951,0.8711221866113951,0.859472752366905,0.859472752366905,0.859472752366905,0.859472752366905,0.859472752366905,0.859472752366905,0.8166694920321144,0.8166694920321144,0.8028990629229515,0.8028990629229515,0.8028990629229515,0.8028990629229515,0.8028990629229515,0.8028990629229515,0.7936416382375916,0.7936416382375916,0.7936416382375916,0.7936416382375916,0.7936416382375916,0.7936416382375916,0.7936416382375916,0.798121387036801,0.798121387036801,0.798121387036801,0.7949754610405161,0.7949754610405161,0.7958791031818189,0.7958791031818189,0.7958791031818189,0.7783125610478614,0.7783125610478614,0.7783125610478614,0.7783125610478614,0.7588816116046797,0.7474215236768533,0.7416125035402674,0.7416125035402674,0.7416125035402674,0.8002984315654303,0.8002984315654303,0.7794028353116588,0.7794028353116588,0.7794028353116588,0.7794028353116588,0.7722049612894455,0.7722049612894455,0.7722049612894455,0.7722049612894455,0.7722049612894455,0.7630750472547048,0.7630750472547048,0.7630750472547048,0.7630750472547048,0.7630750472547048,0.7630750472547048,0.7965143364541929,0.7965143364541929,0.7949461166416821,0.7815939528373598,0.7815939528373598,0.7734285794534652,0.7734285794534652,0.7609106470544985,0.7609106470544985,0.7609106470544985,0.7609106470544985,0.7609106470544985,0.8018449971361937,0.8018449971361937,0.8018449971361937,0.7945540024563461,0.7656940015007118,0.7656940015007118,0.7656940015007118,0.7656940015007118,0.810963128409341,0.810963128409341,0.810963128409341,0.8053817480374631,0.8053817480374631,0.801036630277391,0.801036630277391,0.801036630277391,0.8137350492323779,0.8137350492323779,0.8137350492323779,0.8125382214607484,0.7965857488116662,0.7959345486817506,0.8070834717084968,0.8070834717084968,0.8070834717084968,0.8070834717084968,0.8070834717084968,0.8070834717084968,0.8070834717084968,0.8070834717084968,0.8121643092341606,0.8121643092341606,0.8121643092341606,0.8011044537634429,0.8011044537634429,0.8011044537634429,0.8011044537634429,0.8011044537634429,0.8011044537634429,0.7577175104426175,0.7577175104426175,0.7445366011493497,0.7445366011493497,0.7445366011493497,0.7445366011493497,0.7445366011493497,0.7445366011493497,0.7358628010817259,0.7358628010817259,0.7358628010817259,0.7358628010817259,0.7358628010817259,0.7358628010817259,0.7358628010817259,0.740920338252494,0.740920338252494,0.740920338252494,0.7383464227440522,0.7383464227440522,0.7398163552683196,0.7398163552683196,0.7398163552683196,0.7228104406134971,0.7228104406134971,0.7228104406134971,0.7228104406134971,0.7028244699659717,0.6919249534545323,0.6866708990201696,0.6866708990201696,0.6866708990201696,0.7448074110001316,0.7448074110001316,0.7244667249520129,0.7244667249520129,0.7244667249520129,0.7244667249520129,0.7178182120333961,0.7178182120333961,0.7178182120333961,0.7178182120333961,0.7178182120333961,0.7092321654912159,0.7092321654912159,0.7092321654912159,0.7092321654912159,0.7092321654912159,0.7092321654912159,0.7421330258730692,0.7421330258730692,0.7411086191663696,0.7282948303368004,0.7282948303368004,0.7206624481779115,0.7206624481779115,0.7086721770917003,0.7086721770917003,0.7086721770917003,0.7086721770917003,0.7086721770917003,0.7490841424737675,0.7490841424737675,0.7490841424737675,0.7423207563405442,0.7129384229237518,0.7129384229237518,0.7129384229237518,0.7129384229237518,0.7576799940466115,0.7576799940466115,0.7576799940466115,0.7526314450183609,0.7526314450183609,0.7488138302884799,0.7488138302884799,0.7488138302884799,0.7620344772433559,0.7620344772433559,0.7620344772433559,0.7613546551916166,0.7459140182052258,0.7457695353813747,0.7574201085411246,0.7574201085411246,0.7574201085411246,0.7574201085411246,0.7574201085411246,0.7574201085411246,0.7574201085411246,0.7574201085411246,0.7629975796984622,0.7629975796984622,0.7629975796984622,0.7524293915231014,0.7524293915231014,0.7524293915231014,0.7524293915231014,0.7524293915231014,0.7524293915231014,0.7085556975798727,0.7085556975798727,0.6958664064152323,0.6958664064152323,0.6958664064152323,0.6958664064152323,0.6958664064152323,0.6958664064152323,0.6876793082949496,0.6876793082949496,0.6876793082949496,0.6876793082949496,0.6876793082949496,0.6876793082949496,0.6876793082949496,0.6932186803935855,0.6932186803935855,0.6932186803935855,0.6911217814637327,0.6911217814637327,0.6930639604008033,0.6930639604008033,0.6930639604008033,0.6765255696946559,0.6765255696946559,0.6765255696946559,0.6765255696946559,0.6560767503379421,0.6456447110227831,0.6408534590127379,0.6408534590127379,0.6408534590127379,0.6985317965926255,0.6985317965926255,0.678653866688582,0.678653866688582,0.678653866688582,0.678653866688582,0.6724634823525995,0.6724634823525995,0.6724634823525995,0.6724634823525995,0.6724634823525995,0.6643309831072273,0.6643309831072273,0.6643309831072273,0.6643309831072273,0.6643309831072273,0.6643309831072273,0.6967828316652406,0.6967828316652406,0.6962119269006193,0.6838471049937076,0.6838471049937076,0.6766592000882496,0.6766592000882496,0.6651089614829351,0.6651089614829351,0.6651089614829351,0.6651089614829351,0.6651089614829351,0.7050852947089147,0.7050852947089147,0.7050852947089147,0.6987618970533399,0.6689439750436754,0.6689439750436754,0.6689439750436754,0.6689439750436754,0.7132456016877343,0.7132456016877343,0.7132456016877343,0.7086413965830725,0.7086413965830725,0.7052636823375443,0.7052636823375443,0.7052636823375443,0.7189198307719298,0.7189198307719298,0.7189198307719298,0.7186711551849048,0.703657353198581,0.7039354370247962,0.7160043511681119,0.7160043511681119,0.7160043511681119,0.7160043511681119,0.7160043511681119,0.7160043511681119,0.7160043511681119,0.7160043511681119,0.7219959798991796,0.7219959798991796,0.7219959798991796,0.7118378077218117,0.7118378077218117,0.7118378077218117,0.7118378077218117,0.7118378077218117,0.7118378077218117,0.66755819794057,0.66755819794057,0.6552788817723227,0.6552788817723227,0.6552788817723227,0.6552788817723227,0.6552788817723227,0.6552788817723227,0.6474976588984691,0.6474976588984691,0.6474976588984691,0.6474976588984691,0.6474976588984691,0.6474976588984691,0.6474976588984691,0.6534388474910698,0.6534388474910698,0.6534388474910698,0.6517397468902422,0.6517397468902422,0.6540757461730476,0.6540757461730476,0.6540757461730476,0.6379272376091778,0.6379272376091778,0.6379272376091778,0.6379272376091778,0.6379272376091778,0.6276766934213064,0.623065121587276,0.623065121587276,0.623065121587276,0.680565575792909,0.680565575792909,0.6608673080968626,0.6608673080968626,0.6608673080968626,0.6608673080968626,0.6548547893467972,0.6548547893467972,0.6548547893467972,0.6548547893467972,0.6548547893467972,0.646898377031483,0.646898377031483,0.646898377031483,0.646898377031483,0.646898377031483,0.646898377031483,0.6791758995287389,0.6791758995287389,0.6787810640854827,0.6665905508067222,0.6665905508067222,0.6595752114431341,0.6595752114431341,0.6481958127242707,0.6481958127242707,0.6481958127242707,0.6481958127242707,0.6481958127242707,0.6880030144626637,0.6880030144626637,0.6880030144626637,0.6818504396095514,0.6518634030254491,0.6518634030254491,0.6518634030254491,0.6518634030254491,0.6959942239493258,0.6959942239493258,0.6959942239493258,0.691562532622048,0.691562532622048,0.6883556070161302,0.6883556070161302,0.6883556070161302,0.7021808362037297,0.7021808362037297,0.7021808362037297,0.7020995505623867,0.6872514646222883,0.6876936073342664,0.6999249397744874,0.6999249397744874,0.6999249397744874,0.6999249397744874,0.6999249397744874,0.6999249397744874,0.6999249397744874,0.6999249397744874,0.7060773626194914,0.7060773626194914,0.7060773626194914,0.6960783766149203,0.6960783766149203,0.6960783766149203,0.6960783766149203,0.6960783766149203,0.6960783766149203,0.6516411725226098,0.6516411725226098,0.639521026608542,0.639521026608542,0.639521026608542,0.639521026608542,0.639521026608542,0.639521026608542,0.6318973822863262,0.6318973822863262,0.6318973822863262,0.6318973822863262,0.6318973822863262,0.6318973822863262,0.6318973822863262,0.6379945736450483,0.6379945736450483,0.6379945736450483,0.6364499157826808,0.6364499157826808,0.638938813376562,0.638938813376562,0.638938813376562,0.622941674140657,0.622941674140657,0.622941674140657,0.622941674140657,0.622941674140657,0.6128409855874708,0.6083777708317788,0.6083777708317788,0.6083777708317788,0.6657313515298569,0.6657313515298569,0.646181426076441,0.646181426076441,0.646181426076441,0.646181426076441,0.6403157661465799,0.6403157661465799,0.6403157661465799,0.6403157661465799,0.6403157661465799,0.6325047440632678,0.6325047440632678,0.6325047440632678,0.6325047440632678,0.6325047440632678,0.6325047440632678,0.6646383302308415,0.6646383302308415,0.6643888704805643,0.6523422791378531,0.6523422791378531,0.6454694224909537,0.6454694224909537,0.6342310816616121,0.6342310816616121,0.6342310816616121,0.6342310816616121,0.6342310816616121,0.6738986360893785,0.6738986360893785,0.6738986360893785,0.667887105019999,0.6377604350900012,0.6377604350900012,0.6377604350900012,0.6377604350900012,0.6817502263345234,0.6817502263345234,0.6817502263345234,0.6774609749833936,0.6774609749833936,0.6743950649538623,0.6743950649538623,0.6743950649538623,0.6883598995620845,0.6883598995620845,0.6883598995620845,0.6884168232871579,0.6737055646198117,0.6742831663318146,0.6866486031820601,0.6866486031820601,0.6866486031820601,0.6866486031820601,0.6866486031820601,0.6866486031820601,0.6866486031820601,0.6866486031820601,0.6929337893929883,0.6929337893929883,0.6929337893929883,0.6830662391206823,0.6830662391206823,0.6830662391206823,0.6830662391206823,0.6830662391206823,0.6830662391206823,0.6384989136534294,0.6384989136534294,0.6265101903280534,0.6265101903280534,0.6265101903280534,0.6265101903280534,0.6265101903280534,0.6265101903280534,0.6190166543686425,0.6190166543686425,0.6190166543686425,0.6190166543686425,0.6190166543686425,0.6190166543686425,0.6190166543686425,0.6252426530065415,0.6252426530065415,0.6252426530065415,0.6238255143505591,0.6238255143505591,0.6264406559587614,0.6264406559587614,0.6264406559587614,0.6105684982970344,0.6105684982970344,0.6105684982970344,0.6105684982970344,0.6105684982970344,0.6005915415022844,0.5962508211874442,0.5962508211874442,0.5962508211874442,0.6534831323890788,0.6534831323890788,0.6340556891270708,0.6340556891270708,0.6340556891270708,0.6340556891270708,0.6283112865667033,0.6283112865667033,0.6283112865667033,0.6283112865667033,0.6283112865667033,0.6206203092791901,0.6206203092791901,0.6206203092791901,0.6206203092791901,0.6206203092791901,0.6206203092791901,0.6526350510989231,0.6526350510989231,0.6525056241399649,0.6405778652606597,0.6405778652606597,0.6338226527525322,0.6338226527525322,0.6227007796205748,0.6227007796205748,0.6227007796205748,0.6227007796205748,0.6227007796205748,0.6622530310279308,0.6622530310279308,0.6622530310279308,0.6563579560091658,0.6261159945890596,0.6261159945890596,0.6261159945890596,0.6261159945890596,0.6699893414285725,0.6699893414285725,0.6699893414285725,0.6658176989265022,0.6658176989265022,0.6628682216575398,0.6628682216575398,0.6628682216575398,0.6769483246987252,0.6769483246987252,0.6769483246987252,0.6771193641724322,0.6625210800962332,0.6632105266534719,0.6756866899005008,0.6756866899005008,0.6756866899005008,0.6756866899005008,0.6756866899005008,0.6756866899005008,0.6756866899005008,0.6756866899005008,0.6820814952442447,0.6820814952442447,0.6820814952442447,0.6723224679134261,0.6723224679134261,0.6723224679134261,0.6723224679134261,0.6723224679134261,0.6723224679134261,0.6276477047341006,0.6276477047341006,0.6157674934979179,0.6157674934979179,0.6157674934979179,0.6157674934979179,0.6157674934979179,0.6157674934979179,0.6083813845068083,0.6083813845068083,0.6083813845068083,0.6083813845068083,0.6083813845068083,0.6083813845068083,0.6083813845068083,0.6147137358433257,0.6147137358433257,0.6147137358433257,0.6134018863589755,0.6134018863589755,0.6161212642470937,0.6161212642470937,0.6161212642470937,0.6003523005024834,0.6003523005024834,0.6003523005024834,0.6003523005024834,0.6003523005024834,0.590477505685679,0.5862379257290049,0.5862379257290049,0.5862379257290049,0.6433701079760552,0.6433701079760552,0.6240437949581773,0.6240437949581773,0.6240437949581773,0.6240437949581773,0.6183995113394988,0.6183995113394988,0.6183995113394988,0.6183995113394988,0.6183995113394988,0.6108076518042576,0.6108076518042576,0.6108076518042576,0.6108076518042576,0.6108076518042576,0.6108076518042576,0.6427242670492411,0.6427242670492411,0.6426939479307798,0.6308643058135665,0.6308643058135665,0.6242062288999098,0.6242062288999098,0.6131805200064786,0.6131805200064786,0.6131805200064786,0.6131805200064786,0.6131805200064786,0.6526375688176936,0.6526375688176936,0.6526375688176936,0.646838648421031,0.6165014939250435,0.6165014939250435,0.6165014939250435,0.6165014939250435,0.6602786957579161,0.6602786957579161,0.6602786957579161,0.6562041597125524,0.6562041597125524,0.6533508178357295,0.6533508178357295,0.6533508178357295,0.667526094915133,0.667526094915133,0.667526094915133,0.667791356686676,0.6532863526853346,0.6540681465166823,0.6666357335650792,0.6666357335650792,0.6666357335650792,0.6666357335650792,0.6666357335650792,0.6666357335650792,0.6666357335650792,0.6666357335650792,0.6731210484721772,0.6731210484721772,0.6731210484721772,0.6634516256090793,0.6634516256090793,0.6634516256090793,0.6634516256090793,0.6634516256090793,0.6634516256090793,0.6186881540067104,0.6186881540067104,0.6068975382778017,0.6068975382778017,0.6068975382778017,0.6068975382778017,0.6068975382778017,0.6068975382778017,0.5996001288388932,0.5996001288388932,0.5996001288388932,0.5996001288388932,0.5996001288388932],\"type\":\"scatter\"},{\"marker\":{\"color\":[0,2,1],\"colorscale\":[[0.0,\"blue\"],[0.5,\"red\"],[1.0,\"green\"]],\"size\":12,\"symbol\":\"x-open\"},\"mode\":\"markers\",\"name\":\"prototypes\",\"x\":[-7.221223105599666,6.418647593287448,-0.1758665044574283],\"y\":[-6.134816664458857,5.731035377110679,0.5996001288388932],\"type\":\"scatter\"},{\"marker\":{\"color\":[0,2,1,0,0,1,2,1,0,0,1,0,0,2,2,1,1,0,0,1,0,1,0,2,0,1,2,2,2,0,1,0,2,0,2,0,1,0,1,1,0,1,2,1,2,2,2,2,1,0,0,1,1,0,2,0,1,2,2,1,2,1,2,2,1,0,0,1,1,1,1,2,2,2,0,0,2,2,1,2,0,1,0,2,0,2,0,1,0,1,2,2,2,0,0,1,0,0,2,2],\"colorscale\":[[0.0,\"blue\"],[0.5,\"red\"],[1.0,\"green\"]],\"size\":9,\"symbol\":\"circle-open\"},\"mode\":\"markers\",\"name\":\"assigned category\",\"x\":[-7.109552810057596,5.9874024420853305,0.12800782111610085,-3.4197520600643636,-11.5830540105627,-0.018627715556959044,9.678303774374637,-0.23733747553109175,-10.740186108080692,-2.593924198061167,-2.030393553778298,-4.064846609597879,-5.419747143585888,3.9405809493734463,3.7744376991223416,0.3882504142848946,1.0697983584569932,-8.698910041246855,-5.388217188950073,1.1545138937212744,-5.614010127711966,0.1334970410228064,-3.427346877617126,9.006523905410972,-17.662951007170847,-1.2209019198961333,4.008411511084965,6.575314457421722,6.149455587899874,-8.712850717364606,-1.2356366241061225,-8.29883368197082,5.340843694311273,-8.593643553225927,7.0335951082066375,-8.0665916991926,-2.4747278311698806,-9.839984720908866,1.094653079198753,-0.43089005538560166,-9.01333917438989,-0.7254334803985123,8.130840363165332,0.5587132048474234,6.181433546057293,4.747170993028246,7.809056973517464,7.707926743312776,-1.8074099510149795,-8.411540416028874,-2.740741834994699,-0.7959146932233903,2.109855475652514,-8.364314953943502,3.42754134474525,-6.61802740759715,-1.5672500002600298,4.775231164631773,4.858935409794105,-0.34903539298253017,5.048201226180942,-1.0705854991525032,4.769782871170975,5.686962371543834,0.5935881147911207,-12.493141783340988,-11.255459013450729,1.729417429210297,0.4457809586531427,-0.7160257975174191,-0.587220312328312,5.53619089360479,10.039301284190708,5.916311543638355,-7.200824298078203,-6.330965925929839,8.840684610318593,6.5663718435609795,-0.05394784919048745,6.836762045237343,-0.0498274720298415,0.561951672422086,-6.672360394487658,6.480913560829175,-8.759842709255462,4.2596816199246845,-10.099723498432347,0.6469572699189694,-7.6647920605205915,0.6478297974098579,10.092665552729521,6.182069023154669,6.276029310016074,-7.42508303778698,-1.5040881641701267,-0.511128992552914,-8.181439790478121,-2.0705302629673596,6.16992811564178,8.983044692655723],\"y\":[-6.709517958537973,9.001780713802063,1.2416165181585397,-5.373879251951787,-3.216674184510385,0.48352878740830696,10.631717194500904,0.885339675170791,-6.411299798845082,-5.027501347783377,-0.9607751102139338,-4.647567200273876,-3.6642354273967164,3.939582764586884,2.721407505366034,-0.3871271811779628,0.1665195100182666,-5.698766269269956,-8.12839054787305,-5.126980298976021,-9.726985406728982,-1.2892611938117313,-5.501826586548332,7.81663743268094,-7.943681005145219,0.059615433090329545,6.687589036996599,2.4103859293553556,4.743498386391799,-5.14712985111985,-0.1407864421846237,-6.218908667761217,7.794299494372734,-7.474929674917517,5.134847247700244,-6.378143332871425,-2.580853872694103,-5.245409531773599,0.6396923552031146,-0.540270263790554,-9.488220501282187,-0.0349433855520906,4.2552486773411395,-0.4783646604432103,1.5651647779266966,5.0159122137151435,2.2686976550303237,9.173733086132563,-3.3325243611150266,-9.828944086811628,-7.039983508195127,0.07274552915143462,3.680554098019784,-7.032834735576948,3.712556347325746,-2.4607453934125143,-3.761218689362217,8.79993099204373,1.94185574852383,0.2528250912215497,6.593689061540348,0.37086997203026,3.87568775314434,1.455511770758287,2.0708785257760858,-4.706649095459656,-4.230755239000831,0.6940522720694241,-0.782709043447464,0.7314657358201054,1.9108268513563658,5.070662557702199,6.652524545897313,5.454528927727748,-1.6837013158861627,-7.254001353647695,5.360819718134216,5.871279656221559,1.3151672242748802,4.215187330673151,-8.23660136880073,-0.29382123783761,-2.181446381466868,6.906075573549749,-5.02717104946277,5.520735853069058,-4.2013231083183715,5.139798785845975,-4.550684683521101,-0.5603734188841619,7.333975699183396,7.570864494154181,7.879005708390844,-9.486282073906917,-6.263828465601802,-0.12284340561303929,-9.092954631165936,-8.202135260222951,8.195558975081262,3.203767978324612],\"type\":\"scatter\"}],                        {\"height\":500,\"legend\":{\"title\":{\"text\":\"category\"},\"tracegroupgap\":0},\"margin\":{\"t\":60},\"template\":{\"data\":{\"barpolar\":[{\"marker\":{\"line\":{\"color\":\"#E5ECF6\",\"width\":0.5},\"pattern\":{\"fillmode\":\"overlay\",\"size\":10,\"solidity\":0.2}},\"type\":\"barpolar\"}],\"bar\":[{\"error_x\":{\"color\":\"#2a3f5f\"},\"error_y\":{\"color\":\"#2a3f5f\"},\"marker\":{\"line\":{\"color\":\"#E5ECF6\",\"width\":0.5},\"pattern\":{\"fillmode\":\"overlay\",\"size\":10,\"solidity\":0.2}},\"type\":\"bar\"}],\"carpet\":[{\"aaxis\":{\"endlinecolor\":\"#2a3f5f\",\"gridcolor\":\"white\",\"linecolor\":\"white\",\"minorgridcolor\":\"white\",\"startlinecolor\":\"#2a3f5f\"},\"baxis\":{\"endlinecolor\":\"#2a3f5f\",\"gridcolor\":\"white\",\"linecolor\":\"white\",\"minorgridcolor\":\"white\",\"startlinecolor\":\"#2a3f5f\"},\"type\":\"carpet\"}],\"choropleth\":[{\"colorbar\":{\"outlinewidth\":0,\"ticks\":\"\"},\"type\":\"choropleth\"}],\"contourcarpet\":[{\"colorbar\":{\"outlinewidth\":0,\"ticks\":\"\"},\"type\":\"contourcarpet\"}],\"contour\":[{\"colorbar\":{\"outlinewidth\":0,\"ticks\":\"\"},\"colorscale\":[[0.0,\"#0d0887\"],[0.1111111111111111,\"#46039f\"],[0.2222222222222222,\"#7201a8\"],[0.3333333333333333,\"#9c179e\"],[0.4444444444444444,\"#bd3786\"],[0.5555555555555556,\"#d8576b\"],[0.6666666666666666,\"#ed7953\"],[0.7777777777777778,\"#fb9f3a\"],[0.8888888888888888,\"#fdca26\"],[1.0,\"#f0f921\"]],\"type\":\"contour\"}],\"heatmapgl\":[{\"colorbar\":{\"outlinewidth\":0,\"ticks\":\"\"},\"colorscale\":[[0.0,\"#0d0887\"],[0.1111111111111111,\"#46039f\"],[0.2222222222222222,\"#7201a8\"],[0.3333333333333333,\"#9c179e\"],[0.4444444444444444,\"#bd3786\"],[0.5555555555555556,\"#d8576b\"],[0.6666666666666666,\"#ed7953\"],[0.7777777777777778,\"#fb9f3a\"],[0.8888888888888888,\"#fdca26\"],[1.0,\"#f0f921\"]],\"type\":\"heatmapgl\"}],\"heatmap\":[{\"colorbar\":{\"outlinewidth\":0,\"ticks\":\"\"},\"colorscale\":[[0.0,\"#0d0887\"],[0.1111111111111111,\"#46039f\"],[0.2222222222222222,\"#7201a8\"],[0.3333333333333333,\"#9c179e\"],[0.4444444444444444,\"#bd3786\"],[0.5555555555555556,\"#d8576b\"],[0.6666666666666666,\"#ed7953\"],[0.7777777777777778,\"#fb9f3a\"],[0.8888888888888888,\"#fdca26\"],[1.0,\"#f0f921\"]],\"type\":\"heatmap\"}],\"histogram2dcontour\":[{\"colorbar\":{\"outlinewidth\":0,\"ticks\":\"\"},\"colorscale\":[[0.0,\"#0d0887\"],[0.1111111111111111,\"#46039f\"],[0.2222222222222222,\"#7201a8\"],[0.3333333333333333,\"#9c179e\"],[0.4444444444444444,\"#bd3786\"],[0.5555555555555556,\"#d8576b\"],[0.6666666666666666,\"#ed7953\"],[0.7777777777777778,\"#fb9f3a\"],[0.8888888888888888,\"#fdca26\"],[1.0,\"#f0f921\"]],\"type\":\"histogram2dcontour\"}],\"histogram2d\":[{\"colorbar\":{\"outlinewidth\":0,\"ticks\":\"\"},\"colorscale\":[[0.0,\"#0d0887\"],[0.1111111111111111,\"#46039f\"],[0.2222222222222222,\"#7201a8\"],[0.3333333333333333,\"#9c179e\"],[0.4444444444444444,\"#bd3786\"],[0.5555555555555556,\"#d8576b\"],[0.6666666666666666,\"#ed7953\"],[0.7777777777777778,\"#fb9f3a\"],[0.8888888888888888,\"#fdca26\"],[1.0,\"#f0f921\"]],\"type\":\"histogram2d\"}],\"histogram\":[{\"marker\":{\"pattern\":{\"fillmode\":\"overlay\",\"size\":10,\"solidity\":0.2}},\"type\":\"histogram\"}],\"mesh3d\":[{\"colorbar\":{\"outlinewidth\":0,\"ticks\":\"\"},\"type\":\"mesh3d\"}],\"parcoords\":[{\"line\":{\"colorbar\":{\"outlinewidth\":0,\"ticks\":\"\"}},\"type\":\"parcoords\"}],\"pie\":[{\"automargin\":true,\"type\":\"pie\"}],\"scatter3d\":[{\"line\":{\"colorbar\":{\"outlinewidth\":0,\"ticks\":\"\"}},\"marker\":{\"colorbar\":{\"outlinewidth\":0,\"ticks\":\"\"}},\"type\":\"scatter3d\"}],\"scattercarpet\":[{\"marker\":{\"colorbar\":{\"outlinewidth\":0,\"ticks\":\"\"}},\"type\":\"scattercarpet\"}],\"scattergeo\":[{\"marker\":{\"colorbar\":{\"outlinewidth\":0,\"ticks\":\"\"}},\"type\":\"scattergeo\"}],\"scattergl\":[{\"marker\":{\"colorbar\":{\"outlinewidth\":0,\"ticks\":\"\"}},\"type\":\"scattergl\"}],\"scattermapbox\":[{\"marker\":{\"colorbar\":{\"outlinewidth\":0,\"ticks\":\"\"}},\"type\":\"scattermapbox\"}],\"scatterpolargl\":[{\"marker\":{\"colorbar\":{\"outlinewidth\":0,\"ticks\":\"\"}},\"type\":\"scatterpolargl\"}],\"scatterpolar\":[{\"marker\":{\"colorbar\":{\"outlinewidth\":0,\"ticks\":\"\"}},\"type\":\"scatterpolar\"}],\"scatter\":[{\"marker\":{\"colorbar\":{\"outlinewidth\":0,\"ticks\":\"\"}},\"type\":\"scatter\"}],\"scatterternary\":[{\"marker\":{\"colorbar\":{\"outlinewidth\":0,\"ticks\":\"\"}},\"type\":\"scatterternary\"}],\"surface\":[{\"colorbar\":{\"outlinewidth\":0,\"ticks\":\"\"},\"colorscale\":[[0.0,\"#0d0887\"],[0.1111111111111111,\"#46039f\"],[0.2222222222222222,\"#7201a8\"],[0.3333333333333333,\"#9c179e\"],[0.4444444444444444,\"#bd3786\"],[0.5555555555555556,\"#d8576b\"],[0.6666666666666666,\"#ed7953\"],[0.7777777777777778,\"#fb9f3a\"],[0.8888888888888888,\"#fdca26\"],[1.0,\"#f0f921\"]],\"type\":\"surface\"}],\"table\":[{\"cells\":{\"fill\":{\"color\":\"#EBF0F8\"},\"line\":{\"color\":\"white\"}},\"header\":{\"fill\":{\"color\":\"#C8D4E3\"},\"line\":{\"color\":\"white\"}},\"type\":\"table\"}]},\"layout\":{\"annotationdefaults\":{\"arrowcolor\":\"#2a3f5f\",\"arrowhead\":0,\"arrowwidth\":1},\"autotypenumbers\":\"strict\",\"coloraxis\":{\"colorbar\":{\"outlinewidth\":0,\"ticks\":\"\"}},\"colorscale\":{\"diverging\":[[0,\"#8e0152\"],[0.1,\"#c51b7d\"],[0.2,\"#de77ae\"],[0.3,\"#f1b6da\"],[0.4,\"#fde0ef\"],[0.5,\"#f7f7f7\"],[0.6,\"#e6f5d0\"],[0.7,\"#b8e186\"],[0.8,\"#7fbc41\"],[0.9,\"#4d9221\"],[1,\"#276419\"]],\"sequential\":[[0.0,\"#0d0887\"],[0.1111111111111111,\"#46039f\"],[0.2222222222222222,\"#7201a8\"],[0.3333333333333333,\"#9c179e\"],[0.4444444444444444,\"#bd3786\"],[0.5555555555555556,\"#d8576b\"],[0.6666666666666666,\"#ed7953\"],[0.7777777777777778,\"#fb9f3a\"],[0.8888888888888888,\"#fdca26\"],[1.0,\"#f0f921\"]],\"sequentialminus\":[[0.0,\"#0d0887\"],[0.1111111111111111,\"#46039f\"],[0.2222222222222222,\"#7201a8\"],[0.3333333333333333,\"#9c179e\"],[0.4444444444444444,\"#bd3786\"],[0.5555555555555556,\"#d8576b\"],[0.6666666666666666,\"#ed7953\"],[0.7777777777777778,\"#fb9f3a\"],[0.8888888888888888,\"#fdca26\"],[1.0,\"#f0f921\"]]},\"colorway\":[\"#636efa\",\"#EF553B\",\"#00cc96\",\"#ab63fa\",\"#FFA15A\",\"#19d3f3\",\"#FF6692\",\"#B6E880\",\"#FF97FF\",\"#FECB52\"],\"font\":{\"color\":\"#2a3f5f\"},\"geo\":{\"bgcolor\":\"white\",\"lakecolor\":\"white\",\"landcolor\":\"#E5ECF6\",\"showlakes\":true,\"showland\":true,\"subunitcolor\":\"white\"},\"hoverlabel\":{\"align\":\"left\"},\"hovermode\":\"closest\",\"mapbox\":{\"style\":\"light\"},\"paper_bgcolor\":\"white\",\"plot_bgcolor\":\"#E5ECF6\",\"polar\":{\"angularaxis\":{\"gridcolor\":\"white\",\"linecolor\":\"white\",\"ticks\":\"\"},\"bgcolor\":\"#E5ECF6\",\"radialaxis\":{\"gridcolor\":\"white\",\"linecolor\":\"white\",\"ticks\":\"\"}},\"scene\":{\"xaxis\":{\"backgroundcolor\":\"#E5ECF6\",\"gridcolor\":\"white\",\"gridwidth\":2,\"linecolor\":\"white\",\"showbackground\":true,\"ticks\":\"\",\"zerolinecolor\":\"white\"},\"yaxis\":{\"backgroundcolor\":\"#E5ECF6\",\"gridcolor\":\"white\",\"gridwidth\":2,\"linecolor\":\"white\",\"showbackground\":true,\"ticks\":\"\",\"zerolinecolor\":\"white\"},\"zaxis\":{\"backgroundcolor\":\"#E5ECF6\",\"gridcolor\":\"white\",\"gridwidth\":2,\"linecolor\":\"white\",\"showbackground\":true,\"ticks\":\"\",\"zerolinecolor\":\"white\"}},\"shapedefaults\":{\"line\":{\"color\":\"#2a3f5f\"}},\"ternary\":{\"aaxis\":{\"gridcolor\":\"white\",\"linecolor\":\"white\",\"ticks\":\"\"},\"baxis\":{\"gridcolor\":\"white\",\"linecolor\":\"white\",\"ticks\":\"\"},\"bgcolor\":\"#E5ECF6\",\"caxis\":{\"gridcolor\":\"white\",\"linecolor\":\"white\",\"ticks\":\"\"}},\"title\":{\"x\":0.05},\"xaxis\":{\"automargin\":true,\"gridcolor\":\"white\",\"linecolor\":\"white\",\"ticks\":\"\",\"title\":{\"standoff\":15},\"zerolinecolor\":\"white\",\"zerolinewidth\":2},\"yaxis\":{\"automargin\":true,\"gridcolor\":\"white\",\"linecolor\":\"white\",\"ticks\":\"\",\"title\":{\"standoff\":15},\"zerolinecolor\":\"white\",\"zerolinewidth\":2}}},\"width\":600,\"xaxis\":{\"anchor\":\"y\",\"domain\":[0.0,1.0],\"title\":{\"text\":\"feature1\"}},\"yaxis\":{\"anchor\":\"x\",\"domain\":[0.0,1.0],\"title\":{\"text\":\"feature2\"}}},                        {\"responsive\": true}                    ).then(function(){\n",
              "                            \n",
              "var gd = document.getElementById('b53dd2a7-a067-4a09-9598-a3dc253da928');\n",
              "var x = new MutationObserver(function (mutations, observer) {{\n",
              "        var display = window.getComputedStyle(gd).display;\n",
              "        if (!display || display === 'none') {{\n",
              "            console.log([gd, 'removed!']);\n",
              "            Plotly.purge(gd);\n",
              "            observer.disconnect();\n",
              "        }}\n",
              "}});\n",
              "\n",
              "// Listen for the removal of the full notebook cells\n",
              "var notebookContainer = gd.closest('#notebook-container');\n",
              "if (notebookContainer) {{\n",
              "    x.observe(notebookContainer, {childList: true});\n",
              "}}\n",
              "\n",
              "// Listen for the clearing of the current output cell\n",
              "var outputEl = gd.closest('.output');\n",
              "if (outputEl) {{\n",
              "    x.observe(outputEl, {childList: true});\n",
              "}}\n",
              "\n",
              "                        })                };                            </script>        </div>\n",
              "</body>\n",
              "</html>"
            ]
          },
          "metadata": {}
        }
      ]
    },
    {
      "cell_type": "markdown",
      "source": [
        "## Generalisierungsfähigkeit\n"
      ],
      "metadata": {
        "id": "tc5kDlm9FAU2"
      }
    },
    {
      "cell_type": "code",
      "source": [
        "validation_data = predict(validation_data, prototypes)\n",
        "print(f'Validation Accuracy: {(validation_data.category == validation_data.assigned_category).mean():.3f}')"
      ],
      "metadata": {
        "colab": {
          "base_uri": "https://localhost:8080/"
        },
        "id": "LRV-n1JZFBoo",
        "outputId": "c7fe62fc-0652-4c21-862b-6a2956f91820"
      },
      "execution_count": 23,
      "outputs": [
        {
          "output_type": "stream",
          "name": "stdout",
          "text": [
            "Validation Accuracy: 0.950\n"
          ]
        }
      ]
    },
    {
      "cell_type": "code",
      "source": [
        "#@title Visualisierung\n",
        "\n",
        "fig_end = go.Figure(fig_data_full).add_traces(\n",
        "    [\n",
        "    go.Scatter(\n",
        "        x = prototypes['feature1'],\n",
        "        y = prototypes['feature2'],\n",
        "        mode = 'markers',\n",
        "        name = 'prototypes',\n",
        "        marker={\n",
        "            'color': prototypes.target,\n",
        "            'colorscale': ['blue', 'red', 'green'],\n",
        "            'size': 12,\n",
        "            'symbol': 'x',\n",
        "        }\n",
        "    ),\n",
        "    go.Scatter(\n",
        "        x = train_data['feature1'],\n",
        "        y = train_data['feature2'],\n",
        "        mode = 'markers',\n",
        "        name = 'assigned category',\n",
        "        marker={\n",
        "            'color': train_data.assigned_category.str.split('_').str.get(1).astype('int'),\n",
        "            'colorscale': ['blue', 'red', 'green'],\n",
        "            'size': 9,\n",
        "            'symbol': 'circle-open',\n",
        "        }\n",
        "    ),\n",
        "    go.Scatter(\n",
        "        x = validation_data['feature1'],\n",
        "        y = validation_data['feature2'],\n",
        "        mode = 'markers',\n",
        "        name = 'assigned category',\n",
        "        marker={\n",
        "            'color': validation_data.assigned_category.str.split('_').str.get(1).astype('int'),\n",
        "            'colorscale': ['blue', 'red', 'green'],\n",
        "            'size': 9,\n",
        "            'symbol': 'circle-open',\n",
        "        }\n",
        "    )\n",
        "])\n",
        "fig_end"
      ],
      "metadata": {
        "colab": {
          "base_uri": "https://localhost:8080/",
          "height": 517
        },
        "id": "UKmBX2Ha8H54",
        "outputId": "c7155ee0-2d06-479b-fa9d-eb39e7fdb6b7",
        "cellView": "form"
      },
      "execution_count": 24,
      "outputs": [
        {
          "output_type": "display_data",
          "data": {
            "text/html": [
              "<html>\n",
              "<head><meta charset=\"utf-8\" /></head>\n",
              "<body>\n",
              "    <div>            <script src=\"https://cdnjs.cloudflare.com/ajax/libs/mathjax/2.7.5/MathJax.js?config=TeX-AMS-MML_SVG\"></script><script type=\"text/javascript\">if (window.MathJax) {MathJax.Hub.Config({SVG: {font: \"STIX-Web\"}});}</script>                <script type=\"text/javascript\">window.PlotlyConfig = {MathJaxConfig: 'local'};</script>\n",
              "        <script src=\"https://cdn.plot.ly/plotly-2.8.3.min.js\"></script>                <div id=\"4427d782-ae32-4e5d-8ad1-411dbc7a8ef4\" class=\"plotly-graph-div\" style=\"height:500px; width:600px;\"></div>            <script type=\"text/javascript\">                                    window.PLOTLYENV=window.PLOTLYENV || {};                                    if (document.getElementById(\"4427d782-ae32-4e5d-8ad1-411dbc7a8ef4\")) {                    Plotly.newPlot(                        \"4427d782-ae32-4e5d-8ad1-411dbc7a8ef4\",                        [{\"hovertemplate\":\"category=cat_0<br>feature1=%{x}<br>feature2=%{y}<extra></extra>\",\"legendgroup\":\"cat_0\",\"marker\":{\"color\":\"#636efa\",\"symbol\":\"circle\"},\"mode\":\"markers\",\"name\":\"cat_0\",\"orientation\":\"v\",\"showlegend\":true,\"x\":[-7.109552810057596,-8.593643553225927,-8.0665916991926,-2.4747278311698806,-9.839984720908866,-9.01333917438989,-1.8074099510149795,-2.740741834994699,-8.364314953943502,-6.61802740759715,-1.5672500002600298,-12.493141783340988,-11.255459013450729,-7.200824298078203,-6.330965925929839,-0.0498274720298415,-6.672360394487658,-8.759842709255462,-10.099723498432347,-7.6647920605205915,-7.42508303778698,-1.5040881641701267,-8.181439790478121,-2.0705302629673596,-8.29883368197082,-8.712850717364606,-8.411540416028874,-2.593924198061167,-5.388217188950073,-10.740186108080692,-11.5830540105627,1.1545138937212744,-8.698910041246855,-5.614010127711966,-5.419747143585888,-4.064846609597879,-3.4197520600643636,-17.662951007170847,-3.427346877617126],\"xaxis\":\"x\",\"y\":[-6.709517958537973,-7.474929674917517,-6.378143332871425,-2.580853872694103,-5.245409531773599,-9.488220501282187,-3.3325243611150266,-7.039983508195127,-7.032834735576948,-2.4607453934125143,-3.761218689362217,-4.706649095459656,-4.230755239000831,-1.6837013158861627,-7.254001353647695,-8.23660136880073,-2.181446381466868,-5.02717104946277,-4.2013231083183715,-4.550684683521101,-9.486282073906917,-6.263828465601802,-9.092954631165936,-8.202135260222951,-6.218908667761217,-5.14712985111985,-9.828944086811628,-5.027501347783377,-8.12839054787305,-6.411299798845082,-3.216674184510385,-5.126980298976021,-5.698766269269956,-9.726985406728982,-3.6642354273967164,-4.647567200273876,-5.373879251951787,-7.943681005145219,-5.501826586548332],\"yaxis\":\"y\",\"type\":\"scatter\"},{\"hovertemplate\":\"category=cat_1<br>feature1=%{x}<br>feature2=%{y}<extra></extra>\",\"legendgroup\":\"cat_1\",\"marker\":{\"color\":\"#EF553B\",\"symbol\":\"circle\"},\"mode\":\"markers\",\"name\":\"cat_1\",\"orientation\":\"v\",\"showlegend\":true,\"x\":[1.729417429210297,0.5935881147911207,0.4457809586531427,0.561951672422086,-0.7160257975174191,-1.0705854991525032,-0.587220312328312,-0.34903539298253017,-0.23733747553109175,0.3882504142848946,-0.05394784919048745,1.0697983584569932,-0.7959146932233903,-2.030393553778298,-0.018627715556959044,-1.2209019198961333,-1.2356366241061225,0.12800782111610085,-0.511128992552914,0.1334970410228064,-0.43089005538560166,-0.7254334803985123,1.094653079198753,0.6478297974098579,0.5587132048474234],\"xaxis\":\"x\",\"y\":[0.6940522720694241,2.0708785257760858,-0.782709043447464,-0.29382123783761,0.7314657358201054,0.37086997203026,1.9108268513563658,0.2528250912215497,0.885339675170791,-0.3871271811779628,1.3151672242748802,0.1665195100182666,0.07274552915143462,-0.9607751102139338,0.48352878740830696,0.059615433090329545,-0.1407864421846237,1.2416165181585397,-0.12284340561303929,-1.2892611938117313,-0.540270263790554,-0.0349433855520906,0.6396923552031146,-0.5603734188841619,-0.4783646604432103],\"yaxis\":\"y\",\"type\":\"scatter\"},{\"hovertemplate\":\"category=cat_2<br>feature1=%{x}<br>feature2=%{y}<extra></extra>\",\"legendgroup\":\"cat_2\",\"marker\":{\"color\":\"#00cc96\",\"symbol\":\"circle\"},\"mode\":\"markers\",\"name\":\"cat_2\",\"orientation\":\"v\",\"showlegend\":true,\"x\":[6.276029310016074,6.182069023154669,0.6469572699189694,6.836762045237343,6.480913560829175,10.092665552729521,4.2596816199246845,9.678303774374637,5.9874024420853305,6.5663718435609795,8.840684610318593,6.575314457421722,5.686962371543834,10.039301284190708,6.149455587899874,5.340843694311273,9.006523905410972,7.0335951082066375,8.130840363165332,6.181433546057293,4.747170993028246,7.809056973517464,7.707926743312776,5.916311543638355,6.16992811564178,3.42754134474525,3.7744376991223416,4.775231164631773,4.858935409794105,5.048201226180942,4.769782871170975,4.008411511084965,3.9405809493734463,5.53619089360479,2.109855475652514,8.983044692655723],\"xaxis\":\"x\",\"y\":[7.879005708390844,7.570864494154181,5.139798785845975,4.215187330673151,6.906075573549749,7.333975699183396,5.520735853069058,10.631717194500904,9.001780713802063,5.871279656221559,5.360819718134216,2.4103859293553556,1.455511770758287,6.652524545897313,4.743498386391799,7.794299494372734,7.81663743268094,5.134847247700244,4.2552486773411395,1.5651647779266966,5.0159122137151435,2.2686976550303237,9.173733086132563,5.454528927727748,8.195558975081262,3.712556347325746,2.721407505366034,8.79993099204373,1.94185574852383,6.593689061540348,3.87568775314434,6.687589036996599,3.939582764586884,5.070662557702199,3.680554098019784,3.203767978324612],\"yaxis\":\"y\",\"type\":\"scatter\"},{\"marker\":{\"color\":[1,2,1,0,1,2,0,2,0,1,2,2,1,2,0,0,0,0,0,2,2,0,2,1,1,1,0,0,0,1,1,2,2,1,2,0,1,1,1,1,2,2,0,1,0,2,0,0,1,1,2,2,0,2,1,0,1,0,1,1,0,1,2,1,2,1,1,1,0,1,2,2,0,2,0,1,2,0,1,1,0,2,1,2,1,2,1,1,1,1,1,2,2,0,1,1,0,1,1,2],\"colorscale\":[[0.0,\"blue\"],[0.5,\"red\"],[1.0,\"green\"]],\"opacity\":0.1},\"mode\":\"markers\",\"name\":\"test\",\"x\":[1.089409548186299,9.793801911607272,-0.2746001203219027,-6.309763842239757,0.3931252812580667,7.233155766631372,-5.7998654312925595,4.300785280573978,-9.336959402687139,-1.0203592788039855,4.685485029834378,4.288934558033469,1.103921664604996,8.231890369163647,-2.616666371771272,-10.095140559705872,-14.993031070306424,-3.4990201353486827,-1.066115822187375,7.722715227767548,6.244499490730115,-9.495529191049197,6.575367447436892,-0.459846150218099,2.711926334530005,0.350815840962548,-3.0197749343785167,-9.07534540127692,-2.502857109557919,-0.32158469309218346,0.42596674984978417,5.583433163834498,6.4628015220429695,-0.14062002701591825,2.2263261492783903,-0.0554065797016392,0.8358439021819729,-1.419871306328183,1.0389521173544556,-0.8623084869368738,8.595755227716916,6.638392351751207,-8.122328577420419,-0.9064947005743282,-6.318963752742286,6.5653206147530865,-6.175272675903713,-6.789658716632999,0.7689651576916865,-1.4866580709207609,6.725606972434271,6.575115300732712,-5.096998935016719,6.2546170484791155,-0.5885016196794289,-9.215064378306305,0.0024441619892351415,-6.09641788028492,1.0672155507363046,-0.16769860276646403,-4.248213554879672,-2.6851086777996254,5.261644509633205,-0.9120909131338855,3.3510226054102765,-0.6387908963776368,1.9884896798105511,-0.6497174207470244,-3.283713600697972,-0.1982902566629641,5.901152229489322,5.942428708775683,-11.482676050208067,7.873265146020417,-1.9472662324540222,-0.12776205788585943,3.721806402377104,-9.695168086783154,1.7194765552886366,2.8118783750058736,-8.386598566736797,7.390967966171125,-0.09523759870062422,9.238476969193966,-0.26124048467201855,6.158184385422118,0.2995023312069633,-0.12936100975105408,-0.45726078713830676,2.676112467653689,-0.5252646451556335,6.991160790353781,6.510161389565562,-10.976493315823749,-0.5713489619287757,-0.47552485781324766,-3.543691648983625,0.8628320949627665,1.147264793112611,4.003266242760426],\"y\":[0.02392202180891483,3.58839441838297,0.4350092581717443,-5.447863005514313,-0.24138479980935626,4.324737106475721,-6.809354829201782,3.012900664421923,-3.310015086755524,0.2705934249706648,9.23886161328141,5.9205403228098215,1.8817549911074853,5.939393265597771,-9.721779057884227,-7.425986400224099,-6.5355237296921125,-6.321026726373848,-5.702027210638018,7.838016262090491,3.6852332486715196,-5.940572369277967,9.932949255830673,1.9907378123222452,0.6274738890733788,1.626573604958715,-2.047778433747395,-6.460061444555878,-8.587073263843568,0.15113037165299167,-0.14901377221550174,5.970053628364753,8.385610331109744,0.9970883670936515,6.193187468752864,-5.526567465546175,0.4921189029137968,0.7657210720237916,0.631744177429087,1.071683929782794,2.9695686831444084,0.032059590236072744,-7.46105328738666,0.08841520620200595,-4.871028963410806,5.905686186693696,-6.954436060719005,-2.4507099371881305,1.3662428435589185,1.40862695884896,3.681927069957587,8.528171500755324,-5.425929670610351,6.470054025728846,-1.5465558228110778,-10.83816634635734,0.4246357208598569,-7.777314835705898,0.641420655594048,1.7226691978466993,-2.1220430791990115,0.018420794714651353,6.761195169160604,-0.15605840282949943,1.436415370078925,-0.6544152115856667,1.1950583359712759,1.6313829539585936,-7.710874337319763,2.457587626290851,6.746779888002722,3.0521143463635223,-5.522873615188198,3.0152057979587403,-4.294404318091701,0.2481680271468232,3.355940530546049,-8.047751521685676,-2.359214738012778,0.25199512668322666,-7.177188759376486,6.16091477649446,-0.52718777933396,7.026186016805014,-1.2980466376694824,4.070473065381082,-0.43999131122796514,-1.6224611704696181,0.8592840082646755,-0.07121902716056103,-1.6756346341845954,4.858874351990256,5.537005180746588,-7.252833822376738,0.2657870467480051,-0.16577702313143794,-7.675824545404588,-0.6484320227760582,-0.1102291554019236,6.508775148604227],\"type\":\"scatter\"},{\"marker\":{\"color\":[0,2,1],\"colorscale\":[[0.0,\"blue\"],[0.5,\"red\"],[1.0,\"green\"]],\"size\":12,\"symbol\":\"x\"},\"mode\":\"markers\",\"name\":\"prototypes\",\"x\":[-7.221223105599666,6.418647593287448,-0.1758665044574283],\"y\":[-6.134816664458857,5.731035377110679,0.5996001288388932],\"type\":\"scatter\"},{\"marker\":{\"color\":[0,2,1,0,0,1,2,1,0,0,1,0,0,2,2,1,1,0,0,1,0,1,0,2,0,1,2,2,2,0,1,0,2,0,2,0,1,0,1,1,0,1,2,1,2,2,2,2,1,0,0,1,1,0,2,0,1,2,2,1,2,1,2,2,1,0,0,1,1,1,1,2,2,2,0,0,2,2,1,2,0,1,0,2,0,2,0,1,0,1,2,2,2,0,0,1,0,0,2,2],\"colorscale\":[[0.0,\"blue\"],[0.5,\"red\"],[1.0,\"green\"]],\"size\":9,\"symbol\":\"circle-open\"},\"mode\":\"markers\",\"name\":\"assigned category\",\"x\":[-7.109552810057596,5.9874024420853305,0.12800782111610085,-3.4197520600643636,-11.5830540105627,-0.018627715556959044,9.678303774374637,-0.23733747553109175,-10.740186108080692,-2.593924198061167,-2.030393553778298,-4.064846609597879,-5.419747143585888,3.9405809493734463,3.7744376991223416,0.3882504142848946,1.0697983584569932,-8.698910041246855,-5.388217188950073,1.1545138937212744,-5.614010127711966,0.1334970410228064,-3.427346877617126,9.006523905410972,-17.662951007170847,-1.2209019198961333,4.008411511084965,6.575314457421722,6.149455587899874,-8.712850717364606,-1.2356366241061225,-8.29883368197082,5.340843694311273,-8.593643553225927,7.0335951082066375,-8.0665916991926,-2.4747278311698806,-9.839984720908866,1.094653079198753,-0.43089005538560166,-9.01333917438989,-0.7254334803985123,8.130840363165332,0.5587132048474234,6.181433546057293,4.747170993028246,7.809056973517464,7.707926743312776,-1.8074099510149795,-8.411540416028874,-2.740741834994699,-0.7959146932233903,2.109855475652514,-8.364314953943502,3.42754134474525,-6.61802740759715,-1.5672500002600298,4.775231164631773,4.858935409794105,-0.34903539298253017,5.048201226180942,-1.0705854991525032,4.769782871170975,5.686962371543834,0.5935881147911207,-12.493141783340988,-11.255459013450729,1.729417429210297,0.4457809586531427,-0.7160257975174191,-0.587220312328312,5.53619089360479,10.039301284190708,5.916311543638355,-7.200824298078203,-6.330965925929839,8.840684610318593,6.5663718435609795,-0.05394784919048745,6.836762045237343,-0.0498274720298415,0.561951672422086,-6.672360394487658,6.480913560829175,-8.759842709255462,4.2596816199246845,-10.099723498432347,0.6469572699189694,-7.6647920605205915,0.6478297974098579,10.092665552729521,6.182069023154669,6.276029310016074,-7.42508303778698,-1.5040881641701267,-0.511128992552914,-8.181439790478121,-2.0705302629673596,6.16992811564178,8.983044692655723],\"y\":[-6.709517958537973,9.001780713802063,1.2416165181585397,-5.373879251951787,-3.216674184510385,0.48352878740830696,10.631717194500904,0.885339675170791,-6.411299798845082,-5.027501347783377,-0.9607751102139338,-4.647567200273876,-3.6642354273967164,3.939582764586884,2.721407505366034,-0.3871271811779628,0.1665195100182666,-5.698766269269956,-8.12839054787305,-5.126980298976021,-9.726985406728982,-1.2892611938117313,-5.501826586548332,7.81663743268094,-7.943681005145219,0.059615433090329545,6.687589036996599,2.4103859293553556,4.743498386391799,-5.14712985111985,-0.1407864421846237,-6.218908667761217,7.794299494372734,-7.474929674917517,5.134847247700244,-6.378143332871425,-2.580853872694103,-5.245409531773599,0.6396923552031146,-0.540270263790554,-9.488220501282187,-0.0349433855520906,4.2552486773411395,-0.4783646604432103,1.5651647779266966,5.0159122137151435,2.2686976550303237,9.173733086132563,-3.3325243611150266,-9.828944086811628,-7.039983508195127,0.07274552915143462,3.680554098019784,-7.032834735576948,3.712556347325746,-2.4607453934125143,-3.761218689362217,8.79993099204373,1.94185574852383,0.2528250912215497,6.593689061540348,0.37086997203026,3.87568775314434,1.455511770758287,2.0708785257760858,-4.706649095459656,-4.230755239000831,0.6940522720694241,-0.782709043447464,0.7314657358201054,1.9108268513563658,5.070662557702199,6.652524545897313,5.454528927727748,-1.6837013158861627,-7.254001353647695,5.360819718134216,5.871279656221559,1.3151672242748802,4.215187330673151,-8.23660136880073,-0.29382123783761,-2.181446381466868,6.906075573549749,-5.02717104946277,5.520735853069058,-4.2013231083183715,5.139798785845975,-4.550684683521101,-0.5603734188841619,7.333975699183396,7.570864494154181,7.879005708390844,-9.486282073906917,-6.263828465601802,-0.12284340561303929,-9.092954631165936,-8.202135260222951,8.195558975081262,3.203767978324612],\"type\":\"scatter\"},{\"marker\":{\"color\":[1,2,1,0,1,2,0,2,0,1,2,2,1,2,0,0,0,0,0,2,2,0,2,1,1,1,1,0,0,1,1,2,2,1,2,1,1,1,1,1,2,2,0,1,0,2,0,0,1,1,2,2,0,2,1,0,1,0,1,1,1,1,2,1,1,1,1,1,0,1,2,2,0,2,1,1,2,0,1,1,0,2,1,2,1,2,1,1,1,1,1,2,2,0,1,1,0,1,1,2],\"colorscale\":[[0.0,\"blue\"],[0.5,\"red\"],[1.0,\"green\"]],\"size\":9,\"symbol\":\"circle-open\"},\"mode\":\"markers\",\"name\":\"assigned category\",\"x\":[1.089409548186299,9.793801911607272,-0.2746001203219027,-6.309763842239757,0.3931252812580667,7.233155766631372,-5.7998654312925595,4.300785280573978,-9.336959402687139,-1.0203592788039855,4.685485029834378,4.288934558033469,1.103921664604996,8.231890369163647,-2.616666371771272,-10.095140559705872,-14.993031070306424,-3.4990201353486827,-1.066115822187375,7.722715227767548,6.244499490730115,-9.495529191049197,6.575367447436892,-0.459846150218099,2.711926334530005,0.350815840962548,-3.0197749343785167,-9.07534540127692,-2.502857109557919,-0.32158469309218346,0.42596674984978417,5.583433163834498,6.4628015220429695,-0.14062002701591825,2.2263261492783903,-0.0554065797016392,0.8358439021819729,-1.419871306328183,1.0389521173544556,-0.8623084869368738,8.595755227716916,6.638392351751207,-8.122328577420419,-0.9064947005743282,-6.318963752742286,6.5653206147530865,-6.175272675903713,-6.789658716632999,0.7689651576916865,-1.4866580709207609,6.725606972434271,6.575115300732712,-5.096998935016719,6.2546170484791155,-0.5885016196794289,-9.215064378306305,0.0024441619892351415,-6.09641788028492,1.0672155507363046,-0.16769860276646403,-4.248213554879672,-2.6851086777996254,5.261644509633205,-0.9120909131338855,3.3510226054102765,-0.6387908963776368,1.9884896798105511,-0.6497174207470244,-3.283713600697972,-0.1982902566629641,5.901152229489322,5.942428708775683,-11.482676050208067,7.873265146020417,-1.9472662324540222,-0.12776205788585943,3.721806402377104,-9.695168086783154,1.7194765552886366,2.8118783750058736,-8.386598566736797,7.390967966171125,-0.09523759870062422,9.238476969193966,-0.26124048467201855,6.158184385422118,0.2995023312069633,-0.12936100975105408,-0.45726078713830676,2.676112467653689,-0.5252646451556335,6.991160790353781,6.510161389565562,-10.976493315823749,-0.5713489619287757,-0.47552485781324766,-3.543691648983625,0.8628320949627665,1.147264793112611,4.003266242760426],\"y\":[0.02392202180891483,3.58839441838297,0.4350092581717443,-5.447863005514313,-0.24138479980935626,4.324737106475721,-6.809354829201782,3.012900664421923,-3.310015086755524,0.2705934249706648,9.23886161328141,5.9205403228098215,1.8817549911074853,5.939393265597771,-9.721779057884227,-7.425986400224099,-6.5355237296921125,-6.321026726373848,-5.702027210638018,7.838016262090491,3.6852332486715196,-5.940572369277967,9.932949255830673,1.9907378123222452,0.6274738890733788,1.626573604958715,-2.047778433747395,-6.460061444555878,-8.587073263843568,0.15113037165299167,-0.14901377221550174,5.970053628364753,8.385610331109744,0.9970883670936515,6.193187468752864,-5.526567465546175,0.4921189029137968,0.7657210720237916,0.631744177429087,1.071683929782794,2.9695686831444084,0.032059590236072744,-7.46105328738666,0.08841520620200595,-4.871028963410806,5.905686186693696,-6.954436060719005,-2.4507099371881305,1.3662428435589185,1.40862695884896,3.681927069957587,8.528171500755324,-5.425929670610351,6.470054025728846,-1.5465558228110778,-10.83816634635734,0.4246357208598569,-7.777314835705898,0.641420655594048,1.7226691978466993,-2.1220430791990115,0.018420794714651353,6.761195169160604,-0.15605840282949943,1.436415370078925,-0.6544152115856667,1.1950583359712759,1.6313829539585936,-7.710874337319763,2.457587626290851,6.746779888002722,3.0521143463635223,-5.522873615188198,3.0152057979587403,-4.294404318091701,0.2481680271468232,3.355940530546049,-8.047751521685676,-2.359214738012778,0.25199512668322666,-7.177188759376486,6.16091477649446,-0.52718777933396,7.026186016805014,-1.2980466376694824,4.070473065381082,-0.43999131122796514,-1.6224611704696181,0.8592840082646755,-0.07121902716056103,-1.6756346341845954,4.858874351990256,5.537005180746588,-7.252833822376738,0.2657870467480051,-0.16577702313143794,-7.675824545404588,-0.6484320227760582,-0.1102291554019236,6.508775148604227],\"type\":\"scatter\"}],                        {\"height\":500,\"legend\":{\"title\":{\"text\":\"category\"},\"tracegroupgap\":0},\"margin\":{\"t\":60},\"template\":{\"data\":{\"barpolar\":[{\"marker\":{\"line\":{\"color\":\"#E5ECF6\",\"width\":0.5},\"pattern\":{\"fillmode\":\"overlay\",\"size\":10,\"solidity\":0.2}},\"type\":\"barpolar\"}],\"bar\":[{\"error_x\":{\"color\":\"#2a3f5f\"},\"error_y\":{\"color\":\"#2a3f5f\"},\"marker\":{\"line\":{\"color\":\"#E5ECF6\",\"width\":0.5},\"pattern\":{\"fillmode\":\"overlay\",\"size\":10,\"solidity\":0.2}},\"type\":\"bar\"}],\"carpet\":[{\"aaxis\":{\"endlinecolor\":\"#2a3f5f\",\"gridcolor\":\"white\",\"linecolor\":\"white\",\"minorgridcolor\":\"white\",\"startlinecolor\":\"#2a3f5f\"},\"baxis\":{\"endlinecolor\":\"#2a3f5f\",\"gridcolor\":\"white\",\"linecolor\":\"white\",\"minorgridcolor\":\"white\",\"startlinecolor\":\"#2a3f5f\"},\"type\":\"carpet\"}],\"choropleth\":[{\"colorbar\":{\"outlinewidth\":0,\"ticks\":\"\"},\"type\":\"choropleth\"}],\"contourcarpet\":[{\"colorbar\":{\"outlinewidth\":0,\"ticks\":\"\"},\"type\":\"contourcarpet\"}],\"contour\":[{\"colorbar\":{\"outlinewidth\":0,\"ticks\":\"\"},\"colorscale\":[[0.0,\"#0d0887\"],[0.1111111111111111,\"#46039f\"],[0.2222222222222222,\"#7201a8\"],[0.3333333333333333,\"#9c179e\"],[0.4444444444444444,\"#bd3786\"],[0.5555555555555556,\"#d8576b\"],[0.6666666666666666,\"#ed7953\"],[0.7777777777777778,\"#fb9f3a\"],[0.8888888888888888,\"#fdca26\"],[1.0,\"#f0f921\"]],\"type\":\"contour\"}],\"heatmapgl\":[{\"colorbar\":{\"outlinewidth\":0,\"ticks\":\"\"},\"colorscale\":[[0.0,\"#0d0887\"],[0.1111111111111111,\"#46039f\"],[0.2222222222222222,\"#7201a8\"],[0.3333333333333333,\"#9c179e\"],[0.4444444444444444,\"#bd3786\"],[0.5555555555555556,\"#d8576b\"],[0.6666666666666666,\"#ed7953\"],[0.7777777777777778,\"#fb9f3a\"],[0.8888888888888888,\"#fdca26\"],[1.0,\"#f0f921\"]],\"type\":\"heatmapgl\"}],\"heatmap\":[{\"colorbar\":{\"outlinewidth\":0,\"ticks\":\"\"},\"colorscale\":[[0.0,\"#0d0887\"],[0.1111111111111111,\"#46039f\"],[0.2222222222222222,\"#7201a8\"],[0.3333333333333333,\"#9c179e\"],[0.4444444444444444,\"#bd3786\"],[0.5555555555555556,\"#d8576b\"],[0.6666666666666666,\"#ed7953\"],[0.7777777777777778,\"#fb9f3a\"],[0.8888888888888888,\"#fdca26\"],[1.0,\"#f0f921\"]],\"type\":\"heatmap\"}],\"histogram2dcontour\":[{\"colorbar\":{\"outlinewidth\":0,\"ticks\":\"\"},\"colorscale\":[[0.0,\"#0d0887\"],[0.1111111111111111,\"#46039f\"],[0.2222222222222222,\"#7201a8\"],[0.3333333333333333,\"#9c179e\"],[0.4444444444444444,\"#bd3786\"],[0.5555555555555556,\"#d8576b\"],[0.6666666666666666,\"#ed7953\"],[0.7777777777777778,\"#fb9f3a\"],[0.8888888888888888,\"#fdca26\"],[1.0,\"#f0f921\"]],\"type\":\"histogram2dcontour\"}],\"histogram2d\":[{\"colorbar\":{\"outlinewidth\":0,\"ticks\":\"\"},\"colorscale\":[[0.0,\"#0d0887\"],[0.1111111111111111,\"#46039f\"],[0.2222222222222222,\"#7201a8\"],[0.3333333333333333,\"#9c179e\"],[0.4444444444444444,\"#bd3786\"],[0.5555555555555556,\"#d8576b\"],[0.6666666666666666,\"#ed7953\"],[0.7777777777777778,\"#fb9f3a\"],[0.8888888888888888,\"#fdca26\"],[1.0,\"#f0f921\"]],\"type\":\"histogram2d\"}],\"histogram\":[{\"marker\":{\"pattern\":{\"fillmode\":\"overlay\",\"size\":10,\"solidity\":0.2}},\"type\":\"histogram\"}],\"mesh3d\":[{\"colorbar\":{\"outlinewidth\":0,\"ticks\":\"\"},\"type\":\"mesh3d\"}],\"parcoords\":[{\"line\":{\"colorbar\":{\"outlinewidth\":0,\"ticks\":\"\"}},\"type\":\"parcoords\"}],\"pie\":[{\"automargin\":true,\"type\":\"pie\"}],\"scatter3d\":[{\"line\":{\"colorbar\":{\"outlinewidth\":0,\"ticks\":\"\"}},\"marker\":{\"colorbar\":{\"outlinewidth\":0,\"ticks\":\"\"}},\"type\":\"scatter3d\"}],\"scattercarpet\":[{\"marker\":{\"colorbar\":{\"outlinewidth\":0,\"ticks\":\"\"}},\"type\":\"scattercarpet\"}],\"scattergeo\":[{\"marker\":{\"colorbar\":{\"outlinewidth\":0,\"ticks\":\"\"}},\"type\":\"scattergeo\"}],\"scattergl\":[{\"marker\":{\"colorbar\":{\"outlinewidth\":0,\"ticks\":\"\"}},\"type\":\"scattergl\"}],\"scattermapbox\":[{\"marker\":{\"colorbar\":{\"outlinewidth\":0,\"ticks\":\"\"}},\"type\":\"scattermapbox\"}],\"scatterpolargl\":[{\"marker\":{\"colorbar\":{\"outlinewidth\":0,\"ticks\":\"\"}},\"type\":\"scatterpolargl\"}],\"scatterpolar\":[{\"marker\":{\"colorbar\":{\"outlinewidth\":0,\"ticks\":\"\"}},\"type\":\"scatterpolar\"}],\"scatter\":[{\"marker\":{\"colorbar\":{\"outlinewidth\":0,\"ticks\":\"\"}},\"type\":\"scatter\"}],\"scatterternary\":[{\"marker\":{\"colorbar\":{\"outlinewidth\":0,\"ticks\":\"\"}},\"type\":\"scatterternary\"}],\"surface\":[{\"colorbar\":{\"outlinewidth\":0,\"ticks\":\"\"},\"colorscale\":[[0.0,\"#0d0887\"],[0.1111111111111111,\"#46039f\"],[0.2222222222222222,\"#7201a8\"],[0.3333333333333333,\"#9c179e\"],[0.4444444444444444,\"#bd3786\"],[0.5555555555555556,\"#d8576b\"],[0.6666666666666666,\"#ed7953\"],[0.7777777777777778,\"#fb9f3a\"],[0.8888888888888888,\"#fdca26\"],[1.0,\"#f0f921\"]],\"type\":\"surface\"}],\"table\":[{\"cells\":{\"fill\":{\"color\":\"#EBF0F8\"},\"line\":{\"color\":\"white\"}},\"header\":{\"fill\":{\"color\":\"#C8D4E3\"},\"line\":{\"color\":\"white\"}},\"type\":\"table\"}]},\"layout\":{\"annotationdefaults\":{\"arrowcolor\":\"#2a3f5f\",\"arrowhead\":0,\"arrowwidth\":1},\"autotypenumbers\":\"strict\",\"coloraxis\":{\"colorbar\":{\"outlinewidth\":0,\"ticks\":\"\"}},\"colorscale\":{\"diverging\":[[0,\"#8e0152\"],[0.1,\"#c51b7d\"],[0.2,\"#de77ae\"],[0.3,\"#f1b6da\"],[0.4,\"#fde0ef\"],[0.5,\"#f7f7f7\"],[0.6,\"#e6f5d0\"],[0.7,\"#b8e186\"],[0.8,\"#7fbc41\"],[0.9,\"#4d9221\"],[1,\"#276419\"]],\"sequential\":[[0.0,\"#0d0887\"],[0.1111111111111111,\"#46039f\"],[0.2222222222222222,\"#7201a8\"],[0.3333333333333333,\"#9c179e\"],[0.4444444444444444,\"#bd3786\"],[0.5555555555555556,\"#d8576b\"],[0.6666666666666666,\"#ed7953\"],[0.7777777777777778,\"#fb9f3a\"],[0.8888888888888888,\"#fdca26\"],[1.0,\"#f0f921\"]],\"sequentialminus\":[[0.0,\"#0d0887\"],[0.1111111111111111,\"#46039f\"],[0.2222222222222222,\"#7201a8\"],[0.3333333333333333,\"#9c179e\"],[0.4444444444444444,\"#bd3786\"],[0.5555555555555556,\"#d8576b\"],[0.6666666666666666,\"#ed7953\"],[0.7777777777777778,\"#fb9f3a\"],[0.8888888888888888,\"#fdca26\"],[1.0,\"#f0f921\"]]},\"colorway\":[\"#636efa\",\"#EF553B\",\"#00cc96\",\"#ab63fa\",\"#FFA15A\",\"#19d3f3\",\"#FF6692\",\"#B6E880\",\"#FF97FF\",\"#FECB52\"],\"font\":{\"color\":\"#2a3f5f\"},\"geo\":{\"bgcolor\":\"white\",\"lakecolor\":\"white\",\"landcolor\":\"#E5ECF6\",\"showlakes\":true,\"showland\":true,\"subunitcolor\":\"white\"},\"hoverlabel\":{\"align\":\"left\"},\"hovermode\":\"closest\",\"mapbox\":{\"style\":\"light\"},\"paper_bgcolor\":\"white\",\"plot_bgcolor\":\"#E5ECF6\",\"polar\":{\"angularaxis\":{\"gridcolor\":\"white\",\"linecolor\":\"white\",\"ticks\":\"\"},\"bgcolor\":\"#E5ECF6\",\"radialaxis\":{\"gridcolor\":\"white\",\"linecolor\":\"white\",\"ticks\":\"\"}},\"scene\":{\"xaxis\":{\"backgroundcolor\":\"#E5ECF6\",\"gridcolor\":\"white\",\"gridwidth\":2,\"linecolor\":\"white\",\"showbackground\":true,\"ticks\":\"\",\"zerolinecolor\":\"white\"},\"yaxis\":{\"backgroundcolor\":\"#E5ECF6\",\"gridcolor\":\"white\",\"gridwidth\":2,\"linecolor\":\"white\",\"showbackground\":true,\"ticks\":\"\",\"zerolinecolor\":\"white\"},\"zaxis\":{\"backgroundcolor\":\"#E5ECF6\",\"gridcolor\":\"white\",\"gridwidth\":2,\"linecolor\":\"white\",\"showbackground\":true,\"ticks\":\"\",\"zerolinecolor\":\"white\"}},\"shapedefaults\":{\"line\":{\"color\":\"#2a3f5f\"}},\"ternary\":{\"aaxis\":{\"gridcolor\":\"white\",\"linecolor\":\"white\",\"ticks\":\"\"},\"baxis\":{\"gridcolor\":\"white\",\"linecolor\":\"white\",\"ticks\":\"\"},\"bgcolor\":\"#E5ECF6\",\"caxis\":{\"gridcolor\":\"white\",\"linecolor\":\"white\",\"ticks\":\"\"}},\"title\":{\"x\":0.05},\"xaxis\":{\"automargin\":true,\"gridcolor\":\"white\",\"linecolor\":\"white\",\"ticks\":\"\",\"title\":{\"standoff\":15},\"zerolinecolor\":\"white\",\"zerolinewidth\":2},\"yaxis\":{\"automargin\":true,\"gridcolor\":\"white\",\"linecolor\":\"white\",\"ticks\":\"\",\"title\":{\"standoff\":15},\"zerolinecolor\":\"white\",\"zerolinewidth\":2}}},\"width\":600,\"xaxis\":{\"anchor\":\"y\",\"domain\":[0.0,1.0],\"title\":{\"text\":\"feature1\"}},\"yaxis\":{\"anchor\":\"x\",\"domain\":[0.0,1.0],\"title\":{\"text\":\"feature2\"}}},                        {\"responsive\": true}                    ).then(function(){\n",
              "                            \n",
              "var gd = document.getElementById('4427d782-ae32-4e5d-8ad1-411dbc7a8ef4');\n",
              "var x = new MutationObserver(function (mutations, observer) {{\n",
              "        var display = window.getComputedStyle(gd).display;\n",
              "        if (!display || display === 'none') {{\n",
              "            console.log([gd, 'removed!']);\n",
              "            Plotly.purge(gd);\n",
              "            observer.disconnect();\n",
              "        }}\n",
              "}});\n",
              "\n",
              "// Listen for the removal of the full notebook cells\n",
              "var notebookContainer = gd.closest('#notebook-container');\n",
              "if (notebookContainer) {{\n",
              "    x.observe(notebookContainer, {childList: true});\n",
              "}}\n",
              "\n",
              "// Listen for the clearing of the current output cell\n",
              "var outputEl = gd.closest('.output');\n",
              "if (outputEl) {{\n",
              "    x.observe(outputEl, {childList: true});\n",
              "}}\n",
              "\n",
              "                        })                };                            </script>        </div>\n",
              "</body>\n",
              "</html>"
            ]
          },
          "metadata": {}
        }
      ]
    },
    {
      "cell_type": "code",
      "source": [
        ""
      ],
      "metadata": {
        "id": "bwy7h2wUHV_a"
      },
      "execution_count": 24,
      "outputs": []
    }
  ]
}